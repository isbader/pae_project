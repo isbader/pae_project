{
 "cells": [
  {
   "cell_type": "code",
   "execution_count": 1,
   "metadata": {},
   "outputs": [],
   "source": [
    "import pandas as pd\n",
    "import numpy as np\n",
    "import seaborn as sns\n",
    "import matplotlib.pyplot as plt\n",
    "import math\n",
    "import re\n",
    "import datetime\n",
    "#import mylib\n",
    "#sns.set_style('whitegrid')\n",
    "from scipy import stats\n",
    "import statsmodels.formula.api as sm\n",
    "from sklearn.preprocessing import StandardScaler\n",
    "from sklearn.linear_model import LogisticRegression\n",
    "from sklearn.model_selection import train_test_split, cross_val_score, GridSearchCV\n",
    "from sklearn.metrics import confusion_matrix,precision_score ,accuracy_score, recall_score\n"
   ]
  },
  {
   "cell_type": "code",
   "execution_count": 2,
   "metadata": {},
   "outputs": [],
   "source": [
    "df = pd.read_csv('pae_survey_1.0.csv')"
   ]
  },
  {
   "cell_type": "markdown",
   "metadata": {},
   "source": [
    "# Functions"
   ]
  },
  {
   "cell_type": "code",
   "execution_count": 3,
   "metadata": {},
   "outputs": [],
   "source": [
    "# SEP utils file\n",
    "\n",
    "def missing_heat_map(DataFrame):\n",
    "    \n",
    "    '''\n",
    "    \n",
    "    This function will plot the heatmap to display missing values\n",
    "    Arguments: \n",
    "    DataFrame : takes a dataframe \n",
    "    \n",
    "    Returns:\n",
    "    A plot of missing values and a list of columns with percentages of missing values\n",
    "    \n",
    "    '''\n",
    "    \n",
    "    fig, ax = plt.subplots(nrows = 1, ncols = 1, figsize = (18, 6))\n",
    "    sns.heatmap(DataFrame.isnull(), yticklabels=False, ax = ax, cbar=False,\\\n",
    "                cmap='viridis')\n",
    "    ax.set_title('dataset')\n",
    "    plt.show()\n",
    "        \n",
    "    # Calculate the missing values to get a percentage \n",
    "\n",
    "    for i in DataFrame:\n",
    "        print(i,': %',int((DataFrame[i].isnull().sum()/len(DataFrame[i]))*100),\\\n",
    "            'With {} missing values'.format((DataFrame[i].isnull().sum())))"
   ]
  },
  {
   "cell_type": "code",
   "execution_count": 4,
   "metadata": {},
   "outputs": [],
   "source": [
    "    \n",
    "def pie_chart(chart_name,name,column,varibles):\n",
    "    \n",
    "    '''\n",
    "\n",
    "    This function will plot a pie chart\n",
    "    Arguments:\n",
    "    Chart_name : Takes string to display as chart title\n",
    "    name : The file name that will be saved\n",
    "    column : The column that will be plotted\n",
    "    varibles : The number of unique values in the column\n",
    "    \n",
    "    '''\n",
    "    \n",
    "    pie, ax = plt.subplots(figsize=[10,6])\n",
    "    labels = column.value_counts().keys()\n",
    "    plt.pie(x=column.value_counts().values, autopct=\"%.1f%%\", explode=[0.05]*int(varibles), labels=labels, pctdistance=0.5)\n",
    "    plt.title(\"{}\".format(chart_name), fontsize=14);\n",
    "    pie.savefig(\"pics/{}.png\".format(name))"
   ]
  },
  {
   "cell_type": "code",
   "execution_count": 5,
   "metadata": {},
   "outputs": [],
   "source": [
    "def plot_corr(df):\n",
    "    \n",
    "    '''\n",
    "\n",
    "    This function will plot the correlation\n",
    "    Arguments:\n",
    "    df: takes a data frame \n",
    " \n",
    "    Returns:\n",
    "    a plot of the correlations in the data frame\n",
    "    \n",
    "    '''\n",
    "\n",
    "    plt.figure(figsize=(20,10))\n",
    "    corr=df.corr()\n",
    "    sns.set(font_scale=2.5)\n",
    "    sns.heatmap(corr,annot=True, vmin=0, vmax=1, cmap = 'gist_heat_r')\n",
    "\n"
   ]
  },
  {
   "cell_type": "code",
   "execution_count": 6,
   "metadata": {},
   "outputs": [],
   "source": [
    "def magnify_corr(dataframe):\n",
    "\n",
    "    '''\n",
    "\n",
    "    This function will plot the correlation using an interactive plot\n",
    "    Arguments:\n",
    "    dataframe: takes a dataframe \n",
    " \n",
    "    Returns:\n",
    "    a plot of the correlations in the data frame\n",
    "    \n",
    "    '''\n",
    "    \n",
    "    cmap=sns.diverging_palette(5, 250, as_cmap=True)\n",
    "    corr = dataframe.corr()\n",
    "    \n",
    "    a = [dict(selector=\"th\",props=[(\"font-size\",\"7pt\")]),\n",
    "     dict(selector=\"td\",props=[('padding',\"0em 0em\")]),\n",
    "     dict(selector=\"th:hover\",props=[(\"font-size\",\"12pt\")]),\n",
    "     dict(selector=\"tr:hover td:hover\",props=[('max-width','200px'),('font-size','12pt')])]\n",
    "    \n",
    "    \n",
    "    return corr.style.background_gradient(cmap, axis=1)\\\n",
    "        .set_properties(**{'max-width': '80px', 'font-size': '10pt'})\\\n",
    "        .set_caption(\"Hover to magify\")\\\n",
    "        .set_precision(2)\\\n",
    "        .set_table_styles(a)\n",
    "\n"
   ]
  },
  {
   "cell_type": "code",
   "execution_count": 7,
   "metadata": {},
   "outputs": [],
   "source": [
    "def top_corr_features(target,number,dataframe):\n",
    "    \n",
    "    '''\n",
    "\n",
    "    This function will give you the required number of highest correlated features to a target \n",
    "    Arguments:\n",
    "    target: column name in string format of the targeted column\n",
    "    number: The number of highest correlated features required\n",
    "    data frame: the data frame name without parenthesis \n",
    "\n",
    "    returns: A list of the highest correlated features with the target (will also print the list)\n",
    "\n",
    "    '''\n",
    "\n",
    "    best_feature_corr=dataframe.corr()[str(target)].sort_values(ascending=False)\\\n",
    "        .index[0:int(number)].tolist()\n",
    "    print('list of {} best positive features based on pairwise correlation:\\n'\\\n",
    "        .format(number),best_feature_corr)\n",
    "    return best_feature_corr"
   ]
  },
  {
   "cell_type": "code",
   "execution_count": 8,
   "metadata": {},
   "outputs": [],
   "source": [
    "\n",
    "def top_corr_features_neg(target,number,dataframe):\n",
    "    \n",
    "    '''\n",
    "    \n",
    "    This function will give you the required number of highest correlated features to a target \n",
    "    Arguments:\n",
    "    target: column name in string format of the targeted column\n",
    "    number: The number of highest correlated features required\n",
    "    data frame: the data frame name without parenthesis \n",
    "\n",
    "    returns: A list of the highest correlated features with the target (will also print the list)\n",
    "    \n",
    "    '''\n",
    "    \n",
    "    best_feature_corr=dataframe.corr()[str(target)].sort_values(ascending=True)\\\n",
    "        .index[0:int(number)].tolist()\n",
    "    print('list of {} best positive features based on pairwise correlation:\\n'\\\n",
    "        .format(number),best_feature_corr)\n",
    "    return best_feature_corr"
   ]
  },
  {
   "cell_type": "markdown",
   "metadata": {},
   "source": [
    "# Data preparation and Understanding"
   ]
  },
  {
   "cell_type": "code",
   "execution_count": 9,
   "metadata": {},
   "outputs": [
    {
     "data": {
      "text/html": [
       "<div>\n",
       "<style scoped>\n",
       "    .dataframe tbody tr th:only-of-type {\n",
       "        vertical-align: middle;\n",
       "    }\n",
       "\n",
       "    .dataframe tbody tr th {\n",
       "        vertical-align: top;\n",
       "    }\n",
       "\n",
       "    .dataframe thead th {\n",
       "        text-align: right;\n",
       "    }\n",
       "</style>\n",
       "<table border=\"1\" class=\"dataframe\">\n",
       "  <thead>\n",
       "    <tr style=\"text-align: right;\">\n",
       "      <th></th>\n",
       "      <th>Timestamp</th>\n",
       "      <th>1) What is your gender?</th>\n",
       "      <th>2) What is your marital status?</th>\n",
       "      <th>3) In which region are you located?</th>\n",
       "      <th>4) Did you get your bachelor degree in Saudi or Abroad?</th>\n",
       "      <th>5) If you have a master's degree, did you study in Saudi or Abroad? If not applicable, please choose N/A.</th>\n",
       "      <th>6) Have you ever studied in a mixed-sex university?</th>\n",
       "      <th>7) After you spend a long day, how do you gain energy?</th>\n",
       "      <th>8) The people who know you best are more likely to describe you as someone who is:</th>\n",
       "      <th>9) Do you think that household chores should be equally divided between men and women? [Choose:]</th>\n",
       "      <th>10) Do you prefer working in a single-sex work environment or mixed-sex work environment?</th>\n",
       "      <th>11) In your previous work/internship experience: how comfortable did you feel talking to members of the opposite gender?  [Choose:]</th>\n",
       "      <th>12) If someone from the opposite gender has the information you need at work, how likely will you ask for the information?  [Choose:]</th>\n",
       "      <th>13) How likely are you willing to work on a project with someone from the opposite gender? [Choose:]</th>\n",
       "      <th>14) If you studied abroad, can you identify any event that influenced your views about gender?</th>\n",
       "      <th>15) Are you with or against mixed-sex universities in Saudi?</th>\n",
       "      <th>16) What do you think about having mixed-sex universities in Saudi? Please list three reasons why or why not.</th>\n",
       "    </tr>\n",
       "  </thead>\n",
       "  <tbody>\n",
       "    <tr>\n",
       "      <th>0</th>\n",
       "      <td>2020/12/02 1:19:18 PM GMT+3</td>\n",
       "      <td>Female</td>\n",
       "      <td>Single</td>\n",
       "      <td>Eastern</td>\n",
       "      <td>Abroad</td>\n",
       "      <td>NaN</td>\n",
       "      <td>Yes, undergrad</td>\n",
       "      <td>Inner reflection and solitude</td>\n",
       "      <td>Quiet and reflective</td>\n",
       "      <td>4: Strongly agree</td>\n",
       "      <td>Mixed-sex work environment</td>\n",
       "      <td>4: Very comfortable</td>\n",
       "      <td>4: Highly likely</td>\n",
       "      <td>4: Highly likely</td>\n",
       "      <td>NaN</td>\n",
       "      <td>Against mixed-sex universities</td>\n",
       "      <td>NaN</td>\n",
       "    </tr>\n",
       "    <tr>\n",
       "      <th>1</th>\n",
       "      <td>2020/12/02 1:21:06 PM GMT+3</td>\n",
       "      <td>Male</td>\n",
       "      <td>Single</td>\n",
       "      <td>Center</td>\n",
       "      <td>Saudi</td>\n",
       "      <td>Abroad</td>\n",
       "      <td>Yes, grad</td>\n",
       "      <td>Going out with friends</td>\n",
       "      <td>Outgoing and talkative</td>\n",
       "      <td>2: Disagree</td>\n",
       "      <td>Single-sex work environment</td>\n",
       "      <td>3: Comfortable</td>\n",
       "      <td>3: Likely</td>\n",
       "      <td>3: Likely</td>\n",
       "      <td>NaN</td>\n",
       "      <td>Against mixed-sex universities</td>\n",
       "      <td>Against it, privacy, competitiveness, security</td>\n",
       "    </tr>\n",
       "    <tr>\n",
       "      <th>2</th>\n",
       "      <td>2020/12/02 1:29:40 PM GMT+3</td>\n",
       "      <td>Male</td>\n",
       "      <td>Single</td>\n",
       "      <td>Center</td>\n",
       "      <td>Saudi</td>\n",
       "      <td>NaN</td>\n",
       "      <td>No, neither</td>\n",
       "      <td>Inner reflection and solitude</td>\n",
       "      <td>Outgoing and talkative</td>\n",
       "      <td>4: Strongly agree</td>\n",
       "      <td>Mixed-sex work environment</td>\n",
       "      <td>4: Very comfortable</td>\n",
       "      <td>4: Highly likely</td>\n",
       "      <td>4: Highly likely</td>\n",
       "      <td>NaN</td>\n",
       "      <td>With mixed-sex universities</td>\n",
       "      <td>Open mind, ice breaks and  better environment</td>\n",
       "    </tr>\n",
       "    <tr>\n",
       "      <th>3</th>\n",
       "      <td>2020/12/02 1:31:00 PM GMT+3</td>\n",
       "      <td>Female</td>\n",
       "      <td>Single</td>\n",
       "      <td>Center</td>\n",
       "      <td>Saudi</td>\n",
       "      <td>NaN</td>\n",
       "      <td>No, neither</td>\n",
       "      <td>Inner reflection and solitude</td>\n",
       "      <td>Outgoing and talkative</td>\n",
       "      <td>3: Agree</td>\n",
       "      <td>Single-sex work environment</td>\n",
       "      <td>3: Comfortable</td>\n",
       "      <td>4: Highly likely</td>\n",
       "      <td>3: Likely</td>\n",
       "      <td>NaN</td>\n",
       "      <td>Against mixed-sex universities</td>\n",
       "      <td>1- it’s could be a problem in our society’s cu...</td>\n",
       "    </tr>\n",
       "    <tr>\n",
       "      <th>4</th>\n",
       "      <td>2020/12/02 1:36:05 PM GMT+3</td>\n",
       "      <td>Female</td>\n",
       "      <td>Single</td>\n",
       "      <td>Eastern</td>\n",
       "      <td>Saudi</td>\n",
       "      <td>NaN</td>\n",
       "      <td>No, neither</td>\n",
       "      <td>Going out with friends</td>\n",
       "      <td>Outgoing and talkative</td>\n",
       "      <td>4: Strongly agree</td>\n",
       "      <td>Mixed-sex work environment</td>\n",
       "      <td>3: Comfortable</td>\n",
       "      <td>4: Highly likely</td>\n",
       "      <td>4: Highly likely</td>\n",
       "      <td>NaN</td>\n",
       "      <td>With mixed-sex universities</td>\n",
       "      <td>I agree.\\n1. Preparing students for mixed-sex ...</td>\n",
       "    </tr>\n",
       "  </tbody>\n",
       "</table>\n",
       "</div>"
      ],
      "text/plain": [
       "                     Timestamp 1) What is your gender?   \\\n",
       "0  2020/12/02 1:19:18 PM GMT+3                   Female   \n",
       "1  2020/12/02 1:21:06 PM GMT+3                     Male   \n",
       "2  2020/12/02 1:29:40 PM GMT+3                     Male   \n",
       "3  2020/12/02 1:31:00 PM GMT+3                   Female   \n",
       "4  2020/12/02 1:36:05 PM GMT+3                   Female   \n",
       "\n",
       "  2) What is your marital status?  3) In which region are you located?   \\\n",
       "0                           Single                              Eastern   \n",
       "1                           Single                               Center   \n",
       "2                           Single                               Center   \n",
       "3                           Single                               Center   \n",
       "4                           Single                              Eastern   \n",
       "\n",
       "  4) Did you get your bachelor degree in Saudi or Abroad?  \\\n",
       "0                                             Abroad        \n",
       "1                                              Saudi        \n",
       "2                                              Saudi        \n",
       "3                                              Saudi        \n",
       "4                                              Saudi        \n",
       "\n",
       "  5) If you have a master's degree, did you study in Saudi or Abroad? If not applicable, please choose N/A.  \\\n",
       "0                                                NaN                                                          \n",
       "1                                             Abroad                                                          \n",
       "2                                                NaN                                                          \n",
       "3                                                NaN                                                          \n",
       "4                                                NaN                                                          \n",
       "\n",
       "  6) Have you ever studied in a mixed-sex university?   \\\n",
       "0                                     Yes, undergrad     \n",
       "1                                          Yes, grad     \n",
       "2                                        No, neither     \n",
       "3                                        No, neither     \n",
       "4                                        No, neither     \n",
       "\n",
       "  7) After you spend a long day, how do you gain energy?   \\\n",
       "0                      Inner reflection and solitude        \n",
       "1                             Going out with friends        \n",
       "2                      Inner reflection and solitude        \n",
       "3                      Inner reflection and solitude        \n",
       "4                             Going out with friends        \n",
       "\n",
       "  8) The people who know you best are more likely to describe you as someone who is:  \\\n",
       "0                               Quiet and reflective                                   \n",
       "1                             Outgoing and talkative                                   \n",
       "2                             Outgoing and talkative                                   \n",
       "3                             Outgoing and talkative                                   \n",
       "4                             Outgoing and talkative                                   \n",
       "\n",
       "  9) Do you think that household chores should be equally divided between men and women? [Choose:]  \\\n",
       "0                                  4: Strongly agree                                                 \n",
       "1                                        2: Disagree                                                 \n",
       "2                                  4: Strongly agree                                                 \n",
       "3                                           3: Agree                                                 \n",
       "4                                  4: Strongly agree                                                 \n",
       "\n",
       "  10) Do you prefer working in a single-sex work environment or mixed-sex work environment?   \\\n",
       "0                         Mixed-sex work environment                                           \n",
       "1                        Single-sex work environment                                           \n",
       "2                         Mixed-sex work environment                                           \n",
       "3                        Single-sex work environment                                           \n",
       "4                         Mixed-sex work environment                                           \n",
       "\n",
       "  11) In your previous work/internship experience: how comfortable did you feel talking to members of the opposite gender?  [Choose:]  \\\n",
       "0                                4: Very comfortable                                                                                    \n",
       "1                                     3: Comfortable                                                                                    \n",
       "2                                4: Very comfortable                                                                                    \n",
       "3                                     3: Comfortable                                                                                    \n",
       "4                                     3: Comfortable                                                                                    \n",
       "\n",
       "  12) If someone from the opposite gender has the information you need at work, how likely will you ask for the information?  [Choose:]  \\\n",
       "0                                   4: Highly likely                                                                                      \n",
       "1                                          3: Likely                                                                                      \n",
       "2                                   4: Highly likely                                                                                      \n",
       "3                                   4: Highly likely                                                                                      \n",
       "4                                   4: Highly likely                                                                                      \n",
       "\n",
       "  13) How likely are you willing to work on a project with someone from the opposite gender? [Choose:]  \\\n",
       "0                                   4: Highly likely                                                     \n",
       "1                                          3: Likely                                                     \n",
       "2                                   4: Highly likely                                                     \n",
       "3                                          3: Likely                                                     \n",
       "4                                   4: Highly likely                                                     \n",
       "\n",
       "  14) If you studied abroad, can you identify any event that influenced your views about gender?  \\\n",
       "0                                                NaN                                               \n",
       "1                                                NaN                                               \n",
       "2                                                NaN                                               \n",
       "3                                                NaN                                               \n",
       "4                                                NaN                                               \n",
       "\n",
       "  15) Are you with or against mixed-sex universities in Saudi?   \\\n",
       "0                     Against mixed-sex universities              \n",
       "1                     Against mixed-sex universities              \n",
       "2                        With mixed-sex universities              \n",
       "3                     Against mixed-sex universities              \n",
       "4                        With mixed-sex universities              \n",
       "\n",
       "  16) What do you think about having mixed-sex universities in Saudi? Please list three reasons why or why not.  \n",
       "0                                                NaN                                                             \n",
       "1     Against it, privacy, competitiveness, security                                                             \n",
       "2      Open mind, ice breaks and  better environment                                                             \n",
       "3  1- it’s could be a problem in our society’s cu...                                                             \n",
       "4  I agree.\\n1. Preparing students for mixed-sex ...                                                             "
      ]
     },
     "execution_count": 9,
     "metadata": {},
     "output_type": "execute_result"
    }
   ],
   "source": [
    "df.head()"
   ]
  },
  {
   "cell_type": "code",
   "execution_count": 10,
   "metadata": {},
   "outputs": [
    {
     "data": {
      "text/plain": [
       "Index(['Timestamp', '1) What is your gender? ',\n",
       "       '2) What is your marital status? ',\n",
       "       '3) In which region are you located? ',\n",
       "       '4) Did you get your bachelor degree in Saudi or Abroad?',\n",
       "       '5) If you have a master's degree, did you study in Saudi or Abroad? If not applicable, please choose N/A.',\n",
       "       '6) Have you ever studied in a mixed-sex university? ',\n",
       "       '7) After you spend a long day, how do you gain energy? ',\n",
       "       '8) The people who know you best are more likely to describe you as someone who is:',\n",
       "       '9) Do you think that household chores should be equally divided between men and women? [Choose:]',\n",
       "       '10) Do you prefer working in a single-sex work environment or mixed-sex work environment? ',\n",
       "       '11) In your previous work/internship experience: how comfortable did you feel talking to members of the opposite gender?  [Choose:]',\n",
       "       '12) If someone from the opposite gender has the information you need at work, how likely will you ask for the information?  [Choose:]',\n",
       "       '13) How likely are you willing to work on a project with someone from the opposite gender? [Choose:]',\n",
       "       '14) If you studied abroad, can you identify any event that influenced your views about gender?',\n",
       "       '15) Are you with or against mixed-sex universities in Saudi? ',\n",
       "       '16) What do you think about having mixed-sex universities in Saudi? Please list three reasons why or why not.'],\n",
       "      dtype='object')"
      ]
     },
     "execution_count": 10,
     "metadata": {},
     "output_type": "execute_result"
    }
   ],
   "source": [
    "# Column names that need to be changed for better analysis \n",
    "df.columns"
   ]
  },
  {
   "cell_type": "code",
   "execution_count": 11,
   "metadata": {
    "scrolled": true
   },
   "outputs": [],
   "source": [
    "#Changing column names\n",
    "df.rename(columns={'1) What is your gender? ':'gender',\n",
    "                   '2) What is your marital status? ':'marital_status',\n",
    "                   '3) In which region are you located? ':'region',\n",
    "                   '4) Did you get your bachelor degree in Saudi or Abroad?':'bachelor_loc',\n",
    "                   \"5) If you have a master's degree, did you study in Saudi or Abroad? If not applicable, please choose N/A.\":\"masters_loc\",\n",
    "                   '6) Have you ever studied in a mixed-sex university? ':'mixed_sex',\n",
    "                   '7) After you spend a long day, how do you gain energy? ':'introversion_personal',\n",
    "                   '8) The people who know you best are more likely to describe you as someone who is:':'introversion_public',\n",
    "                   '9) Do you think that household chores should be equally divided between men and women? [Choose:]':'household_chores',\n",
    "                   '10) Do you prefer working in a single-sex work environment or mixed-sex work environment? ':'single_vs_mixed_working_env',\n",
    "                   '11) In your previous work/internship experience: how comfortable did you feel talking to members of the opposite gender?  [Choose:]':'comfort_with_other_gender',\n",
    "                   '12) If someone from the opposite gender has the information you need at work, how likely will you ask for the information?  [Choose:]':'comfort_with_help_from_other_gender',\n",
    "                   '13) How likely are you willing to work on a project with someone from the opposite gender? [Choose:]':'project_with_other_gender',\n",
    "                   '14) If you studied abroad, can you identify any event that influenced your views about gender?':'events_that_influnced_gender_views',\n",
    "                   '15) Are you with or against mixed-sex universities in Saudi? ':'with_or_aginst_mixed_sex_universities',\n",
    "                   '16) What do you think about having mixed-sex universities in Saudi? Please list three reasons why or why not.':'opinion_mixed_sex_universites',\n",
    "                   'Timestamp':'timestamp'\n",
    "    \n",
    "                  },inplace=True)"
   ]
  },
  {
   "cell_type": "code",
   "execution_count": 12,
   "metadata": {},
   "outputs": [
    {
     "data": {
      "text/plain": [
       "Index(['timestamp', 'gender', 'marital_status', 'region', 'bachelor_loc',\n",
       "       'masters_loc', 'mixed_sex', 'introversion_personal',\n",
       "       'introversion_public', 'household_chores',\n",
       "       'single_vs_mixed_working_env', 'comfort_with_other_gender',\n",
       "       'comfort_with_help_from_other_gender', 'project_with_other_gender',\n",
       "       'events_that_influnced_gender_views',\n",
       "       'with_or_aginst_mixed_sex_universities',\n",
       "       'opinion_mixed_sex_universites'],\n",
       "      dtype='object')"
      ]
     },
     "execution_count": 12,
     "metadata": {},
     "output_type": "execute_result"
    }
   ],
   "source": [
    "# New Column names\n",
    "df.columns"
   ]
  },
  {
   "cell_type": "code",
   "execution_count": 13,
   "metadata": {},
   "outputs": [
    {
     "data": {
      "text/plain": [
       "4: Highly likely      81\n",
       "3: Likely             22\n",
       "2: Unlikely            5\n",
       "1: Highly unlikely     1\n",
       "Name: comfort_with_help_from_other_gender, dtype: int64"
      ]
     },
     "execution_count": 13,
     "metadata": {},
     "output_type": "execute_result"
    }
   ],
   "source": [
    "df['comfort_with_help_from_other_gender'].value_counts()"
   ]
  },
  {
   "cell_type": "code",
   "execution_count": 14,
   "metadata": {},
   "outputs": [
    {
     "data": {
      "text/plain": [
       "Mixed-sex work environment     83\n",
       "Single-sex work environment    26\n",
       "Name: single_vs_mixed_working_env, dtype: int64"
      ]
     },
     "execution_count": 14,
     "metadata": {},
     "output_type": "execute_result"
    }
   ],
   "source": [
    "df['single_vs_mixed_working_env'].value_counts()"
   ]
  },
  {
   "cell_type": "code",
   "execution_count": 15,
   "metadata": {},
   "outputs": [
    {
     "data": {
      "image/png": "[encoded data removed]",
      "text/plain": [
       "<Figure size 1296x432 with 1 Axes>"
      ]
     },
     "metadata": {
      "needs_background": "light"
     },
     "output_type": "display_data"
    },
    {
     "name": "stdout",
     "output_type": "stream",
     "text": [
      "timestamp : % 0 With 0 missing values\n",
      "gender : % 0 With 0 missing values\n",
      "marital_status : % 0 With 0 missing values\n",
      "region : % 0 With 0 missing values\n",
      "bachelor_loc : % 1 With 2 missing values\n",
      "masters_loc : % 80 With 88 missing values\n",
      "mixed_sex : % 1 With 2 missing values\n",
      "introversion_personal : % 0 With 0 missing values\n",
      "introversion_public : % 0 With 0 missing values\n",
      "household_chores : % 0 With 0 missing values\n",
      "single_vs_mixed_working_env : % 0 With 0 missing values\n",
      "comfort_with_other_gender : % 0 With 0 missing values\n",
      "comfort_with_help_from_other_gender : % 0 With 0 missing values\n",
      "project_with_other_gender : % 0 With 0 missing values\n",
      "events_that_influnced_gender_views : % 77 With 84 missing values\n",
      "with_or_aginst_mixed_sex_universities : % 0 With 0 missing values\n",
      "opinion_mixed_sex_universites : % 1 With 2 missing values\n"
     ]
    }
   ],
   "source": [
    "# missing values\n",
    "missing_heat_map(df)"
   ]
  },
  {
   "cell_type": "code",
   "execution_count": 16,
   "metadata": {},
   "outputs": [
    {
     "name": "stdout",
     "output_type": "stream",
     "text": [
      "<class 'pandas.core.frame.DataFrame'>\n",
      "RangeIndex: 109 entries, 0 to 108\n",
      "Data columns (total 17 columns):\n",
      " #   Column                                 Non-Null Count  Dtype \n",
      "---  ------                                 --------------  ----- \n",
      " 0   timestamp                              109 non-null    object\n",
      " 1   gender                                 109 non-null    object\n",
      " 2   marital_status                         109 non-null    object\n",
      " 3   region                                 109 non-null    object\n",
      " 4   bachelor_loc                           107 non-null    object\n",
      " 5   masters_loc                            21 non-null     object\n",
      " 6   mixed_sex                              107 non-null    object\n",
      " 7   introversion_personal                  109 non-null    object\n",
      " 8   introversion_public                    109 non-null    object\n",
      " 9   household_chores                       109 non-null    object\n",
      " 10  single_vs_mixed_working_env            109 non-null    object\n",
      " 11  comfort_with_other_gender              109 non-null    object\n",
      " 12  comfort_with_help_from_other_gender    109 non-null    object\n",
      " 13  project_with_other_gender              109 non-null    object\n",
      " 14  events_that_influnced_gender_views     25 non-null     object\n",
      " 15  with_or_aginst_mixed_sex_universities  109 non-null    object\n",
      " 16  opinion_mixed_sex_universites          107 non-null    object\n",
      "dtypes: object(17)\n",
      "memory usage: 14.6+ KB\n"
     ]
    }
   ],
   "source": [
    "df.info()"
   ]
  },
  {
   "cell_type": "markdown",
   "metadata": {},
   "source": [
    "## Timestamp\n",
    "\n",
    "- Changed timestamp to Datetime format\n",
    "- no missing values\n"
   ]
  },
  {
   "cell_type": "code",
   "execution_count": 17,
   "metadata": {},
   "outputs": [],
   "source": [
    "#fixed to datetime format\n",
    "df['timestamp'] = df['timestamp'].apply(lambda x: datetime.datetime.strptime(x.strip('+3'), '%Y/%m/%d %H:%M:%S %p %Z'))"
   ]
  },
  {
   "cell_type": "code",
   "execution_count": 18,
   "metadata": {},
   "outputs": [
    {
     "data": {
      "text/plain": [
       "0     2020-12-02 01:19:18\n",
       "1     2020-12-02 01:21:06\n",
       "2     2020-12-02 01:29:40\n",
       "3     2020-12-02 01:31:00\n",
       "4     2020-12-02 01:36:05\n",
       "              ...        \n",
       "104   2020-12-17 01:48:06\n",
       "105   2020-12-17 01:50:29\n",
       "106   2020-12-18 04:14:52\n",
       "107   2020-12-20 04:14:56\n",
       "108   2020-12-21 11:06:58\n",
       "Name: timestamp, Length: 109, dtype: datetime64[ns]"
      ]
     },
     "execution_count": 18,
     "metadata": {},
     "output_type": "execute_result"
    }
   ],
   "source": [
    "df['timestamp']"
   ]
  },
  {
   "cell_type": "markdown",
   "metadata": {},
   "source": [
    "## gender\n",
    "**1) What is your gender?**\n",
    "- No missing values\n",
    "- two unique values (Male/Female)"
   ]
  },
  {
   "cell_type": "code",
   "execution_count": 19,
   "metadata": {},
   "outputs": [
    {
     "data": {
      "text/plain": [
       "0"
      ]
     },
     "execution_count": 19,
     "metadata": {},
     "output_type": "execute_result"
    }
   ],
   "source": [
    "df['gender'].isnull().sum()"
   ]
  },
  {
   "cell_type": "code",
   "execution_count": 20,
   "metadata": {
    "scrolled": true
   },
   "outputs": [
    {
     "data": {
      "text/plain": [
       "Male      68\n",
       "Female    41\n",
       "Name: gender, dtype: int64"
      ]
     },
     "execution_count": 20,
     "metadata": {},
     "output_type": "execute_result"
    }
   ],
   "source": [
    "df['gender'].value_counts()"
   ]
  },
  {
   "cell_type": "code",
   "execution_count": 21,
   "metadata": {},
   "outputs": [
    {
     "data": {
      "image/png": "[encoded data removed]",
      "text/plain": [
       "<Figure size 720x432 with 1 Axes>"
      ]
     },
     "metadata": {},
     "output_type": "display_data"
    }
   ],
   "source": [
    "pie_chart('gender_distribution','gender_pie',df['gender'],2)"
   ]
  },
  {
   "cell_type": "code",
   "execution_count": 22,
   "metadata": {},
   "outputs": [
    {
     "data": {
      "text/plain": [
       "<AxesSubplot:xlabel='gender', ylabel='Count'>"
      ]
     },
     "execution_count": 22,
     "metadata": {},
     "output_type": "execute_result"
    },
    {
     "data": {
      "image/png": "[encoded data removed]",
      "text/plain": [
       "<Figure size 432x288 with 1 Axes>"
      ]
     },
     "metadata": {
      "needs_background": "light"
     },
     "output_type": "display_data"
    }
   ],
   "source": [
    "sns.histplot(df['gender'])"
   ]
  },
  {
   "cell_type": "markdown",
   "metadata": {},
   "source": [
    "## marital_status\n",
    "**2) What is your marital status?** \n",
    "- No null values\n",
    "- Two uniqe values (Single/Married)\n"
   ]
  },
  {
   "cell_type": "code",
   "execution_count": 23,
   "metadata": {},
   "outputs": [
    {
     "data": {
      "text/plain": [
       "Single     101\n",
       "Married      8\n",
       "Name: marital_status, dtype: int64"
      ]
     },
     "execution_count": 23,
     "metadata": {},
     "output_type": "execute_result"
    }
   ],
   "source": [
    "df['marital_status'].value_counts()"
   ]
  },
  {
   "cell_type": "code",
   "execution_count": 24,
   "metadata": {},
   "outputs": [
    {
     "data": {
      "text/plain": [
       "0"
      ]
     },
     "execution_count": 24,
     "metadata": {},
     "output_type": "execute_result"
    }
   ],
   "source": [
    "df['marital_status'].isnull().sum()"
   ]
  },
  {
   "cell_type": "code",
   "execution_count": 25,
   "metadata": {},
   "outputs": [
    {
     "data": {
      "image/png": "[encoded data removed]",
      "text/plain": [
       "<Figure size 720x432 with 1 Axes>"
      ]
     },
     "metadata": {},
     "output_type": "display_data"
    }
   ],
   "source": [
    "pie_chart('marital_status','marital_status_pie',df['marital_status'],2)"
   ]
  },
  {
   "cell_type": "code",
   "execution_count": 26,
   "metadata": {
    "scrolled": true
   },
   "outputs": [
    {
     "data": {
      "text/plain": [
       "<AxesSubplot:xlabel='marital_status', ylabel='Count'>"
      ]
     },
     "execution_count": 26,
     "metadata": {},
     "output_type": "execute_result"
    },
    {
     "data": {
      "image/png": "[encoded data removed]",
      "text/plain": [
       "<Figure size 432x288 with 1 Axes>"
      ]
     },
     "metadata": {
      "needs_background": "light"
     },
     "output_type": "display_data"
    }
   ],
   "source": [
    "sns.histplot(df['marital_status'])"
   ]
  },
  {
   "cell_type": "markdown",
   "metadata": {},
   "source": [
    "## region\n",
    "**3) In which region are you located?**\n",
    "- No missing values\n",
    "- 4 unique values With most responds being in the centeral part of the region (%57.8)\n",
    "- One missing region (South)"
   ]
  },
  {
   "cell_type": "code",
   "execution_count": 27,
   "metadata": {},
   "outputs": [
    {
     "data": {
      "text/plain": [
       "0"
      ]
     },
     "execution_count": 27,
     "metadata": {},
     "output_type": "execute_result"
    }
   ],
   "source": [
    "df['region'].isnull().sum()"
   ]
  },
  {
   "cell_type": "code",
   "execution_count": 28,
   "metadata": {},
   "outputs": [
    {
     "data": {
      "text/plain": [
       "Center     63\n",
       "Western    27\n",
       "Eastern    18\n",
       "Nothern     1\n",
       "Name: region, dtype: int64"
      ]
     },
     "execution_count": 28,
     "metadata": {},
     "output_type": "execute_result"
    }
   ],
   "source": [
    "df['region'].value_counts()"
   ]
  },
  {
   "cell_type": "code",
   "execution_count": 29,
   "metadata": {},
   "outputs": [
    {
     "data": {
      "image/png": "[encoded data removed]",
      "text/plain": [
       "<Figure size 720x432 with 1 Axes>"
      ]
     },
     "metadata": {},
     "output_type": "display_data"
    }
   ],
   "source": [
    "pie_chart('region','region_pie',df['region'],4)"
   ]
  },
  {
   "cell_type": "code",
   "execution_count": 30,
   "metadata": {},
   "outputs": [
    {
     "data": {
      "text/plain": [
       "<AxesSubplot:xlabel='region', ylabel='Count'>"
      ]
     },
     "execution_count": 30,
     "metadata": {},
     "output_type": "execute_result"
    },
    {
     "data": {
      "image/png": "[encoded data removed]",
      "text/plain": [
       "<Figure size 432x288 with 1 Axes>"
      ]
     },
     "metadata": {
      "needs_background": "light"
     },
     "output_type": "display_data"
    }
   ],
   "source": [
    "sns.histplot(df['region'])"
   ]
  },
  {
   "cell_type": "markdown",
   "metadata": {},
   "source": [
    "## bachelor_loc\n",
    "**4) Did you get your bachelor degree in Saudi or Abroad?**\n",
    "\n",
    "- two missing values\n",
    "- two uniqe values (Saudi/Abroad)\n"
   ]
  },
  {
   "cell_type": "code",
   "execution_count": 31,
   "metadata": {},
   "outputs": [
    {
     "data": {
      "text/plain": [
       "2"
      ]
     },
     "execution_count": 31,
     "metadata": {},
     "output_type": "execute_result"
    }
   ],
   "source": [
    "df['bachelor_loc'].isnull().sum()"
   ]
  },
  {
   "cell_type": "code",
   "execution_count": 32,
   "metadata": {},
   "outputs": [
    {
     "data": {
      "text/html": [
       "<div>\n",
       "<style scoped>\n",
       "    .dataframe tbody tr th:only-of-type {\n",
       "        vertical-align: middle;\n",
       "    }\n",
       "\n",
       "    .dataframe tbody tr th {\n",
       "        vertical-align: top;\n",
       "    }\n",
       "\n",
       "    .dataframe thead th {\n",
       "        text-align: right;\n",
       "    }\n",
       "</style>\n",
       "<table border=\"1\" class=\"dataframe\">\n",
       "  <thead>\n",
       "    <tr style=\"text-align: right;\">\n",
       "      <th></th>\n",
       "      <th>timestamp</th>\n",
       "      <th>gender</th>\n",
       "      <th>marital_status</th>\n",
       "      <th>region</th>\n",
       "      <th>bachelor_loc</th>\n",
       "      <th>masters_loc</th>\n",
       "      <th>mixed_sex</th>\n",
       "      <th>introversion_personal</th>\n",
       "      <th>introversion_public</th>\n",
       "      <th>household_chores</th>\n",
       "      <th>single_vs_mixed_working_env</th>\n",
       "      <th>comfort_with_other_gender</th>\n",
       "      <th>comfort_with_help_from_other_gender</th>\n",
       "      <th>project_with_other_gender</th>\n",
       "      <th>events_that_influnced_gender_views</th>\n",
       "      <th>with_or_aginst_mixed_sex_universities</th>\n",
       "      <th>opinion_mixed_sex_universites</th>\n",
       "    </tr>\n",
       "  </thead>\n",
       "  <tbody>\n",
       "    <tr>\n",
       "      <th>70</th>\n",
       "      <td>2020-12-06 05:02:25</td>\n",
       "      <td>Male</td>\n",
       "      <td>Single</td>\n",
       "      <td>Center</td>\n",
       "      <td>NaN</td>\n",
       "      <td>NaN</td>\n",
       "      <td>NaN</td>\n",
       "      <td>Inner reflection and solitude</td>\n",
       "      <td>Outgoing and talkative</td>\n",
       "      <td>2: Disagree</td>\n",
       "      <td>Single-sex work environment</td>\n",
       "      <td>3: Comfortable</td>\n",
       "      <td>3: Likely</td>\n",
       "      <td>3: Likely</td>\n",
       "      <td>NaN</td>\n",
       "      <td>Against mixed-sex universities</td>\n",
       "      <td>Privacy, Competitiveness, Security</td>\n",
       "    </tr>\n",
       "    <tr>\n",
       "      <th>78</th>\n",
       "      <td>2020-12-12 02:16:21</td>\n",
       "      <td>Male</td>\n",
       "      <td>Single</td>\n",
       "      <td>Center</td>\n",
       "      <td>NaN</td>\n",
       "      <td>NaN</td>\n",
       "      <td>NaN</td>\n",
       "      <td>Inner reflection and solitude</td>\n",
       "      <td>Outgoing and talkative</td>\n",
       "      <td>4: Strongly agree</td>\n",
       "      <td>Mixed-sex work environment</td>\n",
       "      <td>4: Very comfortable</td>\n",
       "      <td>4: Highly likely</td>\n",
       "      <td>4: Highly likely</td>\n",
       "      <td>NaN</td>\n",
       "      <td>With mixed-sex universities</td>\n",
       "      <td>Open mind, ice breaks and  better environment</td>\n",
       "    </tr>\n",
       "  </tbody>\n",
       "</table>\n",
       "</div>"
      ],
      "text/plain": [
       "             timestamp gender marital_status  region bachelor_loc masters_loc  \\\n",
       "70 2020-12-06 05:02:25   Male         Single  Center          NaN         NaN   \n",
       "78 2020-12-12 02:16:21   Male         Single  Center          NaN         NaN   \n",
       "\n",
       "   mixed_sex          introversion_personal     introversion_public  \\\n",
       "70       NaN  Inner reflection and solitude  Outgoing and talkative   \n",
       "78       NaN  Inner reflection and solitude  Outgoing and talkative   \n",
       "\n",
       "     household_chores  single_vs_mixed_working_env comfort_with_other_gender  \\\n",
       "70        2: Disagree  Single-sex work environment            3: Comfortable   \n",
       "78  4: Strongly agree   Mixed-sex work environment       4: Very comfortable   \n",
       "\n",
       "   comfort_with_help_from_other_gender project_with_other_gender  \\\n",
       "70                           3: Likely                 3: Likely   \n",
       "78                    4: Highly likely          4: Highly likely   \n",
       "\n",
       "   events_that_influnced_gender_views with_or_aginst_mixed_sex_universities  \\\n",
       "70                                NaN        Against mixed-sex universities   \n",
       "78                                NaN           With mixed-sex universities   \n",
       "\n",
       "                     opinion_mixed_sex_universites  \n",
       "70              Privacy, Competitiveness, Security  \n",
       "78  Open mind, ice breaks and  better environment   "
      ]
     },
     "execution_count": 32,
     "metadata": {},
     "output_type": "execute_result"
    }
   ],
   "source": [
    "df[df['bachelor_loc'].isnull()==True]"
   ]
  },
  {
   "cell_type": "code",
   "execution_count": 34,
   "metadata": {},
   "outputs": [
    {
     "data": {
      "text/plain": [
       "Saudi     70\n",
       "Abroad    37\n",
       "Name: bachelor_loc, dtype: int64"
      ]
     },
     "execution_count": 34,
     "metadata": {},
     "output_type": "execute_result"
    }
   ],
   "source": [
    "df['bachelor_loc'].value_counts()"
   ]
  },
  {
   "cell_type": "code",
   "execution_count": 35,
   "metadata": {
    "scrolled": true
   },
   "outputs": [
    {
     "data": {
      "image/png": "[encoded data removed]",
      "text/plain": [
       "<Figure size 720x432 with 1 Axes>"
      ]
     },
     "metadata": {},
     "output_type": "display_data"
    }
   ],
   "source": [
    "pie_chart('bachelor_location','bachelor_location_pie',df['bachelor_loc'],2)"
   ]
  },
  {
   "cell_type": "code",
   "execution_count": 36,
   "metadata": {},
   "outputs": [],
   "source": [
    "df['bachelor_loc'].fillna('n/a',inplace=True)"
   ]
  },
  {
   "cell_type": "code",
   "execution_count": 37,
   "metadata": {},
   "outputs": [
    {
     "data": {
      "text/plain": [
       "<AxesSubplot:xlabel='bachelor_loc', ylabel='Count'>"
      ]
     },
     "execution_count": 37,
     "metadata": {},
     "output_type": "execute_result"
    },
    {
     "data": {
      "image/png": "[encoded data removed]",
      "text/plain": [
       "<Figure size 432x288 with 1 Axes>"
      ]
     },
     "metadata": {
      "needs_background": "light"
     },
     "output_type": "display_data"
    }
   ],
   "source": [
    "sns.histplot(df['bachelor_loc'])"
   ]
  },
  {
   "cell_type": "markdown",
   "metadata": {},
   "source": [
    "## Masters_loc\n",
    "**5) If you have a master's degree, did you study in Saudi or Abroad? If not applicable, please choose N/A**\n",
    "- 88 missing values\n",
    "- two uniqe values (Saudi/Abroad)"
   ]
  },
  {
   "cell_type": "code",
   "execution_count": 38,
   "metadata": {},
   "outputs": [
    {
     "data": {
      "text/plain": [
       "88"
      ]
     },
     "execution_count": 38,
     "metadata": {},
     "output_type": "execute_result"
    }
   ],
   "source": [
    "df['masters_loc'].isnull().sum()"
   ]
  },
  {
   "cell_type": "code",
   "execution_count": 39,
   "metadata": {},
   "outputs": [
    {
     "data": {
      "text/plain": [
       "Abroad    15\n",
       "Saudi      6\n",
       "Name: masters_loc, dtype: int64"
      ]
     },
     "execution_count": 39,
     "metadata": {},
     "output_type": "execute_result"
    }
   ],
   "source": [
    "df['masters_loc'].value_counts()"
   ]
  },
  {
   "cell_type": "code",
   "execution_count": 40,
   "metadata": {},
   "outputs": [
    {
     "data": {
      "image/png": "[encoded data removed]",
      "text/plain": [
       "<Figure size 720x432 with 1 Axes>"
      ]
     },
     "metadata": {},
     "output_type": "display_data"
    }
   ],
   "source": [
    "# Plot\n",
    "pie_chart('masters_location','masters_location_pie',df['masters_loc'],2)"
   ]
  },
  {
   "cell_type": "code",
   "execution_count": 41,
   "metadata": {},
   "outputs": [],
   "source": [
    "df['masters_loc'].fillna('n/a',inplace=True)"
   ]
  },
  {
   "cell_type": "code",
   "execution_count": 42,
   "metadata": {},
   "outputs": [
    {
     "data": {
      "image/png": "[encoded data removed]",
      "text/plain": [
       "<Figure size 720x432 with 1 Axes>"
      ]
     },
     "metadata": {},
     "output_type": "display_data"
    }
   ],
   "source": [
    "pie_chart('masters_location','masters_location_pie',df['masters_loc'],3)"
   ]
  },
  {
   "cell_type": "code",
   "execution_count": 43,
   "metadata": {},
   "outputs": [
    {
     "data": {
      "text/plain": [
       "<AxesSubplot:xlabel='masters_loc', ylabel='Count'>"
      ]
     },
     "execution_count": 43,
     "metadata": {},
     "output_type": "execute_result"
    },
    {
     "data": {
      "image/png": "[encoded data removed]",
      "text/plain": [
       "<Figure size 432x288 with 1 Axes>"
      ]
     },
     "metadata": {
      "needs_background": "light"
     },
     "output_type": "display_data"
    }
   ],
   "source": [
    "sns.histplot(df['masters_loc'])"
   ]
  },
  {
   "cell_type": "markdown",
   "metadata": {},
   "source": [
    "## mixed_sex\n",
    "**6) Have you ever studied in a mixed-sex university?**\n",
    "- 2 missing values\n",
    "- four possible choices"
   ]
  },
  {
   "cell_type": "code",
   "execution_count": 44,
   "metadata": {},
   "outputs": [
    {
     "data": {
      "text/plain": [
       "2"
      ]
     },
     "execution_count": 44,
     "metadata": {},
     "output_type": "execute_result"
    }
   ],
   "source": [
    "df['mixed_sex'].isnull().sum()"
   ]
  },
  {
   "cell_type": "code",
   "execution_count": 45,
   "metadata": {
    "scrolled": true
   },
   "outputs": [
    {
     "data": {
      "text/html": [
       "<div>\n",
       "<style scoped>\n",
       "    .dataframe tbody tr th:only-of-type {\n",
       "        vertical-align: middle;\n",
       "    }\n",
       "\n",
       "    .dataframe tbody tr th {\n",
       "        vertical-align: top;\n",
       "    }\n",
       "\n",
       "    .dataframe thead th {\n",
       "        text-align: right;\n",
       "    }\n",
       "</style>\n",
       "<table border=\"1\" class=\"dataframe\">\n",
       "  <thead>\n",
       "    <tr style=\"text-align: right;\">\n",
       "      <th></th>\n",
       "      <th>timestamp</th>\n",
       "      <th>gender</th>\n",
       "      <th>marital_status</th>\n",
       "      <th>region</th>\n",
       "      <th>bachelor_loc</th>\n",
       "      <th>masters_loc</th>\n",
       "      <th>mixed_sex</th>\n",
       "      <th>introversion_personal</th>\n",
       "      <th>introversion_public</th>\n",
       "      <th>household_chores</th>\n",
       "      <th>single_vs_mixed_working_env</th>\n",
       "      <th>comfort_with_other_gender</th>\n",
       "      <th>comfort_with_help_from_other_gender</th>\n",
       "      <th>project_with_other_gender</th>\n",
       "      <th>events_that_influnced_gender_views</th>\n",
       "      <th>with_or_aginst_mixed_sex_universities</th>\n",
       "      <th>opinion_mixed_sex_universites</th>\n",
       "    </tr>\n",
       "  </thead>\n",
       "  <tbody>\n",
       "    <tr>\n",
       "      <th>70</th>\n",
       "      <td>2020-12-06 05:02:25</td>\n",
       "      <td>Male</td>\n",
       "      <td>Single</td>\n",
       "      <td>Center</td>\n",
       "      <td>n/a</td>\n",
       "      <td>n/a</td>\n",
       "      <td>NaN</td>\n",
       "      <td>Inner reflection and solitude</td>\n",
       "      <td>Outgoing and talkative</td>\n",
       "      <td>2: Disagree</td>\n",
       "      <td>Single-sex work environment</td>\n",
       "      <td>3: Comfortable</td>\n",
       "      <td>3: Likely</td>\n",
       "      <td>3: Likely</td>\n",
       "      <td>NaN</td>\n",
       "      <td>Against mixed-sex universities</td>\n",
       "      <td>Privacy, Competitiveness, Security</td>\n",
       "    </tr>\n",
       "    <tr>\n",
       "      <th>78</th>\n",
       "      <td>2020-12-12 02:16:21</td>\n",
       "      <td>Male</td>\n",
       "      <td>Single</td>\n",
       "      <td>Center</td>\n",
       "      <td>n/a</td>\n",
       "      <td>n/a</td>\n",
       "      <td>NaN</td>\n",
       "      <td>Inner reflection and solitude</td>\n",
       "      <td>Outgoing and talkative</td>\n",
       "      <td>4: Strongly agree</td>\n",
       "      <td>Mixed-sex work environment</td>\n",
       "      <td>4: Very comfortable</td>\n",
       "      <td>4: Highly likely</td>\n",
       "      <td>4: Highly likely</td>\n",
       "      <td>NaN</td>\n",
       "      <td>With mixed-sex universities</td>\n",
       "      <td>Open mind, ice breaks and  better environment</td>\n",
       "    </tr>\n",
       "  </tbody>\n",
       "</table>\n",
       "</div>"
      ],
      "text/plain": [
       "             timestamp gender marital_status  region bachelor_loc masters_loc  \\\n",
       "70 2020-12-06 05:02:25   Male         Single  Center          n/a         n/a   \n",
       "78 2020-12-12 02:16:21   Male         Single  Center          n/a         n/a   \n",
       "\n",
       "   mixed_sex          introversion_personal     introversion_public  \\\n",
       "70       NaN  Inner reflection and solitude  Outgoing and talkative   \n",
       "78       NaN  Inner reflection and solitude  Outgoing and talkative   \n",
       "\n",
       "     household_chores  single_vs_mixed_working_env comfort_with_other_gender  \\\n",
       "70        2: Disagree  Single-sex work environment            3: Comfortable   \n",
       "78  4: Strongly agree   Mixed-sex work environment       4: Very comfortable   \n",
       "\n",
       "   comfort_with_help_from_other_gender project_with_other_gender  \\\n",
       "70                           3: Likely                 3: Likely   \n",
       "78                    4: Highly likely          4: Highly likely   \n",
       "\n",
       "   events_that_influnced_gender_views with_or_aginst_mixed_sex_universities  \\\n",
       "70                                NaN        Against mixed-sex universities   \n",
       "78                                NaN           With mixed-sex universities   \n",
       "\n",
       "                     opinion_mixed_sex_universites  \n",
       "70              Privacy, Competitiveness, Security  \n",
       "78  Open mind, ice breaks and  better environment   "
      ]
     },
     "execution_count": 45,
     "metadata": {},
     "output_type": "execute_result"
    }
   ],
   "source": [
    "df[df['mixed_sex'].isnull()==True]\n"
   ]
  },
  {
   "cell_type": "code",
   "execution_count": 46,
   "metadata": {},
   "outputs": [
    {
     "data": {
      "text/plain": [
       "Yes, undergrad    55\n",
       "No, neither       33\n",
       "Yes, grad         10\n",
       "Yes, both          9\n",
       "Name: mixed_sex, dtype: int64"
      ]
     },
     "execution_count": 46,
     "metadata": {},
     "output_type": "execute_result"
    }
   ],
   "source": [
    "df['mixed_sex'].value_counts()"
   ]
  },
  {
   "cell_type": "code",
   "execution_count": 47,
   "metadata": {},
   "outputs": [
    {
     "data": {
      "image/png": "[encoded data removed]",
      "text/plain": [
       "<Figure size 720x432 with 1 Axes>"
      ]
     },
     "metadata": {},
     "output_type": "display_data"
    }
   ],
   "source": [
    "pie_chart('studied_in_mixed_sex','mixedsex_experince_pie',df['mixed_sex'],4)"
   ]
  },
  {
   "cell_type": "code",
   "execution_count": 48,
   "metadata": {},
   "outputs": [],
   "source": [
    "df['mixed_sex'].fillna('n/a',inplace=True)"
   ]
  },
  {
   "cell_type": "code",
   "execution_count": 49,
   "metadata": {},
   "outputs": [
    {
     "data": {
      "text/plain": [
       "<AxesSubplot:xlabel='mixed_sex', ylabel='Count'>"
      ]
     },
     "execution_count": 49,
     "metadata": {},
     "output_type": "execute_result"
    },
    {
     "data": {
      "image/png": "[encoded data removed]",
      "text/plain": [
       "<Figure size 432x288 with 1 Axes>"
      ]
     },
     "metadata": {
      "needs_background": "light"
     },
     "output_type": "display_data"
    }
   ],
   "source": [
    "sns.histplot(df['mixed_sex'])"
   ]
  },
  {
   "cell_type": "markdown",
   "metadata": {},
   "source": [
    "## introversion_personal\n",
    "**7) After you spend a long day, how do you gain energy?**\n",
    "\n",
    "- No missing values\n",
    "- two unique values\n",
    "- This will capture the persons perspetive on the level of introversion"
   ]
  },
  {
   "cell_type": "code",
   "execution_count": 50,
   "metadata": {},
   "outputs": [
    {
     "data": {
      "text/plain": [
       "Inner reflection and solitude    67\n",
       "Going out with friends           42\n",
       "Name: introversion_personal, dtype: int64"
      ]
     },
     "execution_count": 50,
     "metadata": {},
     "output_type": "execute_result"
    }
   ],
   "source": [
    "df['introversion_personal'].value_counts()"
   ]
  },
  {
   "cell_type": "code",
   "execution_count": 51,
   "metadata": {},
   "outputs": [
    {
     "data": {
      "text/plain": [
       "<AxesSubplot:xlabel='introversion_personal', ylabel='Count'>"
      ]
     },
     "execution_count": 51,
     "metadata": {},
     "output_type": "execute_result"
    },
    {
     "data": {
      "image/png": "[encoded data removed]",
      "text/plain": [
       "<Figure size 432x288 with 1 Axes>"
      ]
     },
     "metadata": {
      "needs_background": "light"
     },
     "output_type": "display_data"
    }
   ],
   "source": [
    "sns.histplot(df['introversion_personal'])"
   ]
  },
  {
   "cell_type": "code",
   "execution_count": 52,
   "metadata": {},
   "outputs": [
    {
     "data": {
      "image/png": "[encoded data removed]",
      "text/plain": [
       "<Figure size 720x432 with 1 Axes>"
      ]
     },
     "metadata": {},
     "output_type": "display_data"
    }
   ],
   "source": [
    "pie_chart('introversion_personal','introversion_personal_pie',df['introversion_personal'],2)"
   ]
  },
  {
   "cell_type": "markdown",
   "metadata": {},
   "source": [
    "## introversion_public\n",
    "**8) The people who know you best are more likely to describe you as someone who is:**\n",
    "- No missing values\n",
    "- two unique values \n",
    "- This will capture other peoples perspetive on the level of introversion "
   ]
  },
  {
   "cell_type": "code",
   "execution_count": 53,
   "metadata": {},
   "outputs": [
    {
     "data": {
      "text/plain": [
       "0"
      ]
     },
     "execution_count": 53,
     "metadata": {},
     "output_type": "execute_result"
    }
   ],
   "source": [
    "df['introversion_public'].isnull().sum()"
   ]
  },
  {
   "cell_type": "code",
   "execution_count": 54,
   "metadata": {},
   "outputs": [
    {
     "data": {
      "text/plain": [
       "Outgoing and talkative    66\n",
       "Quiet and reflective      43\n",
       "Name: introversion_public, dtype: int64"
      ]
     },
     "execution_count": 54,
     "metadata": {},
     "output_type": "execute_result"
    }
   ],
   "source": [
    "df['introversion_public'].value_counts()"
   ]
  },
  {
   "cell_type": "code",
   "execution_count": 55,
   "metadata": {},
   "outputs": [
    {
     "data": {
      "text/plain": [
       "<AxesSubplot:xlabel='introversion_public', ylabel='Count'>"
      ]
     },
     "execution_count": 55,
     "metadata": {},
     "output_type": "execute_result"
    },
    {
     "data": {
      "image/png": "[encoded data removed]",
      "text/plain": [
       "<Figure size 432x288 with 1 Axes>"
      ]
     },
     "metadata": {
      "needs_background": "light"
     },
     "output_type": "display_data"
    }
   ],
   "source": [
    "sns.histplot(df['introversion_public'])"
   ]
  },
  {
   "cell_type": "code",
   "execution_count": 56,
   "metadata": {},
   "outputs": [
    {
     "data": {
      "image/png": "[encoded data removed]",
      "text/plain": [
       "<Figure size 720x432 with 1 Axes>"
      ]
     },
     "metadata": {},
     "output_type": "display_data"
    }
   ],
   "source": [
    "pie_chart('introversion_public','introversion_public_pie',df['introversion_public'],2)"
   ]
  },
  {
   "cell_type": "markdown",
   "metadata": {},
   "source": [
    "## household_chores\n",
    "**9) Do you think that household chores should be equally divided between men and women?**\n",
    "- No missing values \n",
    "- four uniqe values (scale)"
   ]
  },
  {
   "cell_type": "code",
   "execution_count": 57,
   "metadata": {
    "scrolled": true
   },
   "outputs": [
    {
     "data": {
      "text/plain": [
       "3: Agree                51\n",
       "4: Strongly agree       36\n",
       "2: Disagree             18\n",
       "1: Strongly disagree     4\n",
       "Name: household_chores, dtype: int64"
      ]
     },
     "execution_count": 57,
     "metadata": {},
     "output_type": "execute_result"
    }
   ],
   "source": [
    "df['household_chores'].value_counts()"
   ]
  },
  {
   "cell_type": "code",
   "execution_count": 58,
   "metadata": {},
   "outputs": [
    {
     "data": {
      "text/plain": [
       "0"
      ]
     },
     "execution_count": 58,
     "metadata": {},
     "output_type": "execute_result"
    }
   ],
   "source": [
    "df['household_chores'].isnull().sum()"
   ]
  },
  {
   "cell_type": "code",
   "execution_count": 59,
   "metadata": {},
   "outputs": [
    {
     "name": "stderr",
     "output_type": "stream",
     "text": [
      "/Library/Frameworks/Python.framework/Versions/3.8/lib/python3.8/site-packages/seaborn/_decorators.py:36: FutureWarning: Pass the following variables as keyword args: x, y. From version 0.12, the only valid positional argument will be `data`, and passing other arguments without an explicit keyword will result in an error or misinterpretation.\n",
      "  warnings.warn(\n"
     ]
    },
    {
     "data": {
      "text/plain": [
       "<AxesSubplot:>"
      ]
     },
     "execution_count": 59,
     "metadata": {},
     "output_type": "execute_result"
    },
    {
     "data": {
      "image/png": "[encoded data removed]",
      "text/plain": [
       "<Figure size 432x288 with 1 Axes>"
      ]
     },
     "metadata": {
      "needs_background": "light"
     },
     "output_type": "display_data"
    }
   ],
   "source": [
    "sns.barplot(df['household_chores'].value_counts().keys(),df['household_chores'].value_counts().values)"
   ]
  },
  {
   "cell_type": "markdown",
   "metadata": {},
   "source": [
    "## single_vs_mixed_working_env\n",
    "**10) Do you prefer working in a single-sex work environment or mixed-sex work environment?**\n",
    "- No missing values \n",
    "- two uniqe values (scale)"
   ]
  },
  {
   "cell_type": "code",
   "execution_count": 63,
   "metadata": {
    "scrolled": true
   },
   "outputs": [
    {
     "data": {
      "text/plain": [
       "Mixed-sex work environment     83\n",
       "Single-sex work environment    26\n",
       "Name: single_vs_mixed_working_env, dtype: int64"
      ]
     },
     "execution_count": 63,
     "metadata": {},
     "output_type": "execute_result"
    }
   ],
   "source": [
    "df['single_vs_mixed_working_env'].value_counts()"
   ]
  },
  {
   "cell_type": "code",
   "execution_count": 64,
   "metadata": {},
   "outputs": [
    {
     "data": {
      "text/plain": [
       "<AxesSubplot:xlabel='single_vs_mixed_working_env', ylabel='Count'>"
      ]
     },
     "execution_count": 64,
     "metadata": {},
     "output_type": "execute_result"
    },
    {
     "data": {
      "image/png": "[encoded data removed]",
      "text/plain": [
       "<Figure size 432x288 with 1 Axes>"
      ]
     },
     "metadata": {
      "needs_background": "light"
     },
     "output_type": "display_data"
    }
   ],
   "source": [
    "sns.histplot(df['single_vs_mixed_working_env'])"
   ]
  },
  {
   "cell_type": "code",
   "execution_count": 65,
   "metadata": {},
   "outputs": [
    {
     "data": {
      "text/plain": [
       "0"
      ]
     },
     "execution_count": 65,
     "metadata": {},
     "output_type": "execute_result"
    }
   ],
   "source": [
    "df['single_vs_mixed_working_env'].isnull().sum()"
   ]
  },
  {
   "cell_type": "code",
   "execution_count": 66,
   "metadata": {},
   "outputs": [
    {
     "data": {
      "image/png": "[encoded data removed]",
      "text/plain": [
       "<Figure size 720x432 with 1 Axes>"
      ]
     },
     "metadata": {},
     "output_type": "display_data"
    }
   ],
   "source": [
    "pie_chart('single_vs_mixed_working_env','single_vs_mixed_working_env_pie',df['single_vs_mixed_working_env'],2)"
   ]
  },
  {
   "cell_type": "markdown",
   "metadata": {},
   "source": [
    "## comfort_with_other_gender\n",
    "**11) In your previous work/internship experience: how comfortable did you feel talking to members of the opposite gender?**\n",
    "- No missing values\n",
    "- four unique values (scale)"
   ]
  },
  {
   "cell_type": "code",
   "execution_count": 67,
   "metadata": {},
   "outputs": [
    {
     "data": {
      "text/plain": [
       "3: Comfortable           47\n",
       "4: Very comfortable      46\n",
       "2: Uncomfortable         11\n",
       "1: Very uncomfortable     5\n",
       "Name: comfort_with_other_gender, dtype: int64"
      ]
     },
     "execution_count": 67,
     "metadata": {},
     "output_type": "execute_result"
    }
   ],
   "source": [
    "df['comfort_with_other_gender'].value_counts()"
   ]
  },
  {
   "cell_type": "code",
   "execution_count": 68,
   "metadata": {},
   "outputs": [
    {
     "name": "stderr",
     "output_type": "stream",
     "text": [
      "/Library/Frameworks/Python.framework/Versions/3.8/lib/python3.8/site-packages/seaborn/_decorators.py:36: FutureWarning: Pass the following variables as keyword args: x, y. From version 0.12, the only valid positional argument will be `data`, and passing other arguments without an explicit keyword will result in an error or misinterpretation.\n",
      "  warnings.warn(\n"
     ]
    },
    {
     "data": {
      "text/plain": [
       "<AxesSubplot:>"
      ]
     },
     "execution_count": 68,
     "metadata": {},
     "output_type": "execute_result"
    },
    {
     "data": {
      "image/png": "[encoded data removed]",
      "text/plain": [
       "<Figure size 432x288 with 1 Axes>"
      ]
     },
     "metadata": {
      "needs_background": "light"
     },
     "output_type": "display_data"
    }
   ],
   "source": [
    "sns.barplot(df['comfort_with_other_gender'].value_counts().keys(),df['comfort_with_other_gender'].value_counts().values)"
   ]
  },
  {
   "cell_type": "code",
   "execution_count": 69,
   "metadata": {},
   "outputs": [
    {
     "data": {
      "image/png": "[encoded data removed]",
      "text/plain": [
       "<Figure size 720x432 with 1 Axes>"
      ]
     },
     "metadata": {},
     "output_type": "display_data"
    }
   ],
   "source": [
    "pie_chart('comfort_with_other_gender','comfort_with_other_gender_pie',df['comfort_with_other_gender'],4)"
   ]
  },
  {
   "cell_type": "markdown",
   "metadata": {},
   "source": [
    "## comfort_with_help_from_other_gender\n",
    "**12) If someone from the opposite gender has the information you need at work, how likely will you ask for the information?**\n",
    "- No missing values\n",
    "- four unique values (Scale)"
   ]
  },
  {
   "cell_type": "code",
   "execution_count": 72,
   "metadata": {},
   "outputs": [
    {
     "data": {
      "text/plain": [
       "4: Highly likely      81\n",
       "3: Likely             22\n",
       "2: Unlikely            5\n",
       "1: Highly unlikely     1\n",
       "Name: comfort_with_help_from_other_gender, dtype: int64"
      ]
     },
     "execution_count": 72,
     "metadata": {},
     "output_type": "execute_result"
    }
   ],
   "source": [
    "df['comfort_with_help_from_other_gender'].value_counts()"
   ]
  },
  {
   "cell_type": "code",
   "execution_count": 73,
   "metadata": {},
   "outputs": [
    {
     "name": "stderr",
     "output_type": "stream",
     "text": [
      "/Library/Frameworks/Python.framework/Versions/3.8/lib/python3.8/site-packages/seaborn/_decorators.py:36: FutureWarning: Pass the following variables as keyword args: x, y. From version 0.12, the only valid positional argument will be `data`, and passing other arguments without an explicit keyword will result in an error or misinterpretation.\n",
      "  warnings.warn(\n"
     ]
    },
    {
     "data": {
      "text/plain": [
       "<AxesSubplot:>"
      ]
     },
     "execution_count": 73,
     "metadata": {},
     "output_type": "execute_result"
    },
    {
     "data": {
      "image/png": "[encoded data removed]",
      "text/plain": [
       "<Figure size 432x288 with 1 Axes>"
      ]
     },
     "metadata": {
      "needs_background": "light"
     },
     "output_type": "display_data"
    }
   ],
   "source": [
    "sns.barplot(df['comfort_with_help_from_other_gender'].value_counts().keys(),df['comfort_with_help_from_other_gender'].value_counts().values)"
   ]
  },
  {
   "cell_type": "code",
   "execution_count": 74,
   "metadata": {},
   "outputs": [
    {
     "data": {
      "image/png": "[encoded data removed]",
      "text/plain": [
       "<Figure size 720x432 with 1 Axes>"
      ]
     },
     "metadata": {},
     "output_type": "display_data"
    }
   ],
   "source": [
    "pie_chart('comfort_with_help_from_other_gender','comfort_with_help_from_other_gender_pie',df['comfort_with_help_from_other_gender'],4)"
   ]
  },
  {
   "cell_type": "markdown",
   "metadata": {},
   "source": [
    "## project_with_other_gender\n",
    "**13) How likely are you willing to work on a project with someone from the opposite gender?**\n",
    "- No missing values\n",
    "- four uniqe values (Scale)"
   ]
  },
  {
   "cell_type": "code",
   "execution_count": 75,
   "metadata": {},
   "outputs": [
    {
     "data": {
      "text/plain": [
       "0"
      ]
     },
     "execution_count": 75,
     "metadata": {},
     "output_type": "execute_result"
    }
   ],
   "source": [
    "df['project_with_other_gender'].isnull().sum()"
   ]
  },
  {
   "cell_type": "code",
   "execution_count": 76,
   "metadata": {},
   "outputs": [
    {
     "data": {
      "text/plain": [
       "4: Highly likely      74\n",
       "3: Likely             24\n",
       "2: Unlikely            8\n",
       "1: Highly unlikely     3\n",
       "Name: project_with_other_gender, dtype: int64"
      ]
     },
     "execution_count": 76,
     "metadata": {},
     "output_type": "execute_result"
    }
   ],
   "source": [
    "df['project_with_other_gender'].value_counts()"
   ]
  },
  {
   "cell_type": "code",
   "execution_count": 77,
   "metadata": {},
   "outputs": [
    {
     "name": "stderr",
     "output_type": "stream",
     "text": [
      "/Library/Frameworks/Python.framework/Versions/3.8/lib/python3.8/site-packages/seaborn/_decorators.py:36: FutureWarning: Pass the following variables as keyword args: x, y. From version 0.12, the only valid positional argument will be `data`, and passing other arguments without an explicit keyword will result in an error or misinterpretation.\n",
      "  warnings.warn(\n"
     ]
    },
    {
     "data": {
      "text/plain": [
       "<AxesSubplot:>"
      ]
     },
     "execution_count": 77,
     "metadata": {},
     "output_type": "execute_result"
    },
    {
     "data": {
      "image/png": "[encoded data removed]",
      "text/plain": [
       "<Figure size 432x288 with 1 Axes>"
      ]
     },
     "metadata": {
      "needs_background": "light"
     },
     "output_type": "display_data"
    }
   ],
   "source": [
    "sns.barplot(df['project_with_other_gender'].value_counts().keys(),df['project_with_other_gender'].value_counts().values)"
   ]
  },
  {
   "cell_type": "code",
   "execution_count": 78,
   "metadata": {},
   "outputs": [
    {
     "data": {
      "image/png": "[encoded data removed]",
      "text/plain": [
       "<Figure size 720x432 with 1 Axes>"
      ]
     },
     "metadata": {},
     "output_type": "display_data"
    }
   ],
   "source": [
    "pie_chart('project_with_other_gender','project_with_other_gender_pie',df['project_with_other_gender'],4)"
   ]
  },
  {
   "cell_type": "markdown",
   "metadata": {},
   "source": [
    "## events_that_influnced_gender_views\n",
    "**14) If you studied abroad, can you identify any event that influenced your views about gender?**\n",
    "- 89 missing values\n",
    "- Text might quote from here\n"
   ]
  },
  {
   "cell_type": "code",
   "execution_count": 79,
   "metadata": {},
   "outputs": [
    {
     "data": {
      "text/plain": [
       "84"
      ]
     },
     "execution_count": 79,
     "metadata": {},
     "output_type": "execute_result"
    }
   ],
   "source": [
    "df['events_that_influnced_gender_views'].isnull().sum()"
   ]
  },
  {
   "cell_type": "code",
   "execution_count": 80,
   "metadata": {},
   "outputs": [],
   "source": [
    "df['events_that_influnced_gender_views'].fillna('n/a',inplace=True)\n",
    "df['events_that_influnced_gender_views'].replace([' ','?','.','Ok'],'n/a',inplace=True)"
   ]
  },
  {
   "cell_type": "code",
   "execution_count": 81,
   "metadata": {},
   "outputs": [
    {
     "data": {
      "text/plain": [
       "n/a                                                                                                                                                                                                                                                                                                                                                                                89\n",
       "Student unions                                                                                                                                                                                                                                                                                                                                                                      1\n",
       "Just got used to it with time                                                                                                                                                                                                                                                                                                                                                       1\n",
       "I grew up with a house full of girls so I’m very comfortable with the other gender                                                                                                                                                                                                                                                                                                  1\n",
       "Meeting someone from the opposite gender who I really liked. I thought I had feelings for him but then realized I liked him as a human. For who he was. I didn’t know that one could like someone without it being romantic. Turns out there’s different levels of liking and there is a way to have relationships with the opposite sex with boundaries you set for yourself.      1\n",
       "There isn’t a specific event just normal day to day life                                                                                                                                                                                                                                                                                                                            1\n",
       "Nothing really comes to mind, but females tend to be more organized so working in groups was always good lol                                                                                                                                                                                                                                                                        1\n",
       "Group projects                                                                                                                                                                                                                                                                                                                                                                      1\n",
       "Working with mixed gender groups for projects                                                                                                                                                                                                                                                                                                                                       1\n",
       "Gender separation creates many challenges that henders the development of the society!                                                                                                                                                                                                                                                                                              1\n",
       "I grew up in a mixed gender environment, so I was very comfortable viewing other genders                                                                                                                                                                                                                                                                                            1\n",
       "Projects                                                                                                                                                                                                                                                                                                                                                                            1\n",
       "Women’s day                                                                                                                                                                                                                                                                                                                                                                         1\n",
       "My view on working different gender hasn’t changes when I took my time xchange prgram at Georgia Tech.                                                                                                                                                                                                                                                                              1\n",
       "I grew up around brothers and cousins who were male, and went to summer camps almost every summer. So gender was never an issue for me.                                                                                                                                                                                                                                             1\n",
       "Females tend to get the job done more serious                                                                                                                                                                                                                                                                                                                                       1\n",
       "Club members                                                                                                                                                                                                                                                                                                                                                                        1\n",
       "The lifestyle there                                                                                                                                                                                                                                                                                                                                                                 1\n",
       "During different group works that I had with the opposite gender,they were very effective and reflect how good to have mixed gender which may offer different prospectives.                                                                                                                                                                                                         1\n",
       "The social norms                                                                                                                                                                                                                                                                                                                                                                    1\n",
       "The influence i had was mainly due to a female dominated family, interacting with the opposite gender was not stigmatised                                                                                                                                                                                                                                                           1\n",
       "Name: events_that_influnced_gender_views, dtype: int64"
      ]
     },
     "execution_count": 81,
     "metadata": {},
     "output_type": "execute_result"
    }
   ],
   "source": [
    "df['events_that_influnced_gender_views'].value_counts()"
   ]
  },
  {
   "cell_type": "markdown",
   "metadata": {},
   "source": [
    "## with_or_aginst_mixed_sex_universities\n",
    "**15) Are you with or against mixed-sex universities in Saudi?**\n",
    "- No missing values\n",
    "- two possible unique values\n",
    "- Dependant varible"
   ]
  },
  {
   "cell_type": "code",
   "execution_count": 82,
   "metadata": {},
   "outputs": [
    {
     "data": {
      "text/plain": [
       "0"
      ]
     },
     "execution_count": 82,
     "metadata": {},
     "output_type": "execute_result"
    }
   ],
   "source": [
    "df['with_or_aginst_mixed_sex_universities'].isnull().sum()"
   ]
  },
  {
   "cell_type": "code",
   "execution_count": 83,
   "metadata": {},
   "outputs": [
    {
     "data": {
      "text/plain": [
       "With mixed-sex universities       74\n",
       "Against mixed-sex universities    35\n",
       "Name: with_or_aginst_mixed_sex_universities, dtype: int64"
      ]
     },
     "execution_count": 83,
     "metadata": {},
     "output_type": "execute_result"
    }
   ],
   "source": [
    "df['with_or_aginst_mixed_sex_universities'].value_counts()"
   ]
  },
  {
   "cell_type": "code",
   "execution_count": 84,
   "metadata": {},
   "outputs": [
    {
     "data": {
      "text/plain": [
       "<AxesSubplot:xlabel='with_or_aginst_mixed_sex_universities', ylabel='Count'>"
      ]
     },
     "execution_count": 84,
     "metadata": {},
     "output_type": "execute_result"
    },
    {
     "data": {
      "image/png": "[encoded data removed]",
      "text/plain": [
       "<Figure size 432x288 with 1 Axes>"
      ]
     },
     "metadata": {
      "needs_background": "light"
     },
     "output_type": "display_data"
    }
   ],
   "source": [
    "sns.histplot(df['with_or_aginst_mixed_sex_universities'])"
   ]
  },
  {
   "cell_type": "code",
   "execution_count": 85,
   "metadata": {
    "scrolled": true
   },
   "outputs": [
    {
     "data": {
      "image/png": "[encoded data removed]",
      "text/plain": [
       "<Figure size 720x432 with 1 Axes>"
      ]
     },
     "metadata": {},
     "output_type": "display_data"
    }
   ],
   "source": [
    "pie_chart('with_or_aginst_mixed_sex_universities','with_or_aginst_mixed_sex_universities_pie',df['with_or_aginst_mixed_sex_universities'],2)"
   ]
  },
  {
   "cell_type": "code",
   "execution_count": null,
   "metadata": {},
   "outputs": [],
   "source": [
    "# case study reasurch +1"
   ]
  },
  {
   "cell_type": "markdown",
   "metadata": {},
   "source": [
    "## opinion_mixed_sex_universites\n",
    "**16) What do you think about having mixed-sex universities in Saudi? Please list three reasons why or why not**\n",
    "- two missing values\n",
    "- text data"
   ]
  },
  {
   "cell_type": "code",
   "execution_count": 86,
   "metadata": {},
   "outputs": [
    {
     "data": {
      "text/plain": [
       "2"
      ]
     },
     "execution_count": 86,
     "metadata": {},
     "output_type": "execute_result"
    }
   ],
   "source": [
    "df['opinion_mixed_sex_universites'].isnull().sum()"
   ]
  },
  {
   "cell_type": "code",
   "execution_count": 87,
   "metadata": {},
   "outputs": [],
   "source": [
    "df['opinion_mixed_sex_universites'].fillna('n/a',inplace=True)\n",
    "df['opinion_mixed_sex_universites'].replace([' ','?','.','Ok'],'n/a',inplace=True)"
   ]
  },
  {
   "cell_type": "code",
   "execution_count": 88,
   "metadata": {},
   "outputs": [
    {
     "data": {
      "text/plain": [
       "n/a                                                                                                                                                         5\n",
       "Because everyone deserve an opportunity                                                                                                                     3\n",
       "It helps break the barrier that many end up facing in the workplace or if they travel. Mixing in a professional and decent manner shouldn’t be an issue.    2\n",
       "1- university student tend to be immature \\n2- I’m with partially mix\\n3- not applicable in very city yet                                                   2\n",
       "Both genders can understand eachother more                                                                                                                  2\n",
       "                                                                                                                                                           ..\n",
       "Young and not mature                                                                                                                                        1\n",
       "Healthier environment, variety of universities and majors                                                                                                   1\n",
       "1- it’s could be a problem in our society’s culture, 2- could create problems sexually, 3- could create issues with academic performance                    1\n",
       "I think it’ll be good                                                                                                                                       1\n",
       "Human nature                                                                                                                                                1\n",
       "Name: opinion_mixed_sex_universites, Length: 85, dtype: int64"
      ]
     },
     "execution_count": 88,
     "metadata": {},
     "output_type": "execute_result"
    }
   ],
   "source": [
    "df['opinion_mixed_sex_universites'].value_counts()"
   ]
  },
  {
   "cell_type": "code",
   "execution_count": 89,
   "metadata": {
    "scrolled": false
   },
   "outputs": [
    {
     "data": {
      "text/plain": [
       "n/a                                                                                                                                                         5\n",
       "Because everyone deserve an opportunity                                                                                                                     3\n",
       "It helps break the barrier that many end up facing in the workplace or if they travel. Mixing in a professional and decent manner shouldn’t be an issue.    2\n",
       "1- university student tend to be immature \\n2- I’m with partially mix\\n3- not applicable in very city yet                                                   2\n",
       "Both genders can understand eachother more                                                                                                                  2\n",
       "                                                                                                                                                           ..\n",
       "Young and not mature                                                                                                                                        1\n",
       "Healthier environment, variety of universities and majors                                                                                                   1\n",
       "1- it’s could be a problem in our society’s culture, 2- could create problems sexually, 3- could create issues with academic performance                    1\n",
       "I think it’ll be good                                                                                                                                       1\n",
       "Human nature                                                                                                                                                1\n",
       "Name: opinion_mixed_sex_universites, Length: 85, dtype: int64"
      ]
     },
     "execution_count": 89,
     "metadata": {},
     "output_type": "execute_result"
    }
   ],
   "source": [
    "df['opinion_mixed_sex_universites'].value_counts()"
   ]
  },
  {
   "cell_type": "code",
   "execution_count": null,
   "metadata": {},
   "outputs": [],
   "source": [
    "#go over and quote"
   ]
  },
  {
   "cell_type": "code",
   "execution_count": 90,
   "metadata": {},
   "outputs": [
    {
     "name": "stdout",
     "output_type": "stream",
     "text": [
      "n/a\n",
      "Against it, privacy, competitiveness, security\n",
      "Open mind, ice breaks and  better environment\n",
      "1- it’s could be a problem in our society’s culture, 2- could create problems sexually, 3- could create issues with academic performance\n",
      "I agree.\n",
      "1. Preparing students for mixed-sex working places\n",
      "2. Learning how to become comfortable with the other sex \n",
      "3. Getting used to the boadaries between both sexes. \n",
      "1- it would help our society shed their antiquated ideas about gender roles\n",
      "2- prepares a new generation for the already unsegregated work environment\n",
      "3- reducing the unnecessary costs of having two campuses \n",
      "Bring diversity, get them prepared for work culture, integration \n",
      "Mixed-sex can improve the quality of education \n",
      "Less cost \n",
      "Less resources\n",
      "Great idea\n",
      "Great\n",
      "Great\n",
      "I am only against It because of one reason. It is hard to stay in hijab all day especially the face cover. \n",
      "Both genders can understand eachother more\n",
      "I think it’ll be good\n",
      "It helps break the barrier that many end up facing in the workplace or if they travel. Mixing in a professional and decent manner shouldn’t be an issue.\n",
      "Majors should be for all genders, faculty should be top faculty regardless of gender and it’s a social experience \n",
      "Better to have diversity, different point of views, and increase competition \n",
      "Religion , hard to compete,  uncomfortable \n",
      "1. Promotes healthy relationships between males and females - they could be colleagues, friends, etc. \n",
      "2. The issue of gender needs to be broken in Saudi, females need to feel comfortable talking to the other gender and vise versa. \n",
      "3. Both genders together think differently and are able to create great value working together \n",
      "Strongly agree,\n",
      "More confidence\n",
      "More ideas\n",
      "Better utilization of facilities \n",
      "Still a cultural shock\n",
      "Equally assessed \n",
      "Better communication\n",
      "Different views\n",
      "Very crucial to prepare them for future career \n",
      "Healthier environment, variety of universities and majors\n",
      "Why:\n",
      "- break down unnecessary barriers \n",
      "- work force is shifting towards mix, people should be comfortable with that during university before hand\n",
      "-\n",
      "n/a\n",
      "I think it will have a great impact on the culture and the “sexual” view that dominated the Saudi culture will slowly diminish\n",
      "2- sharing experiences and integrating females has led to a more productive workforce due to different thinking \n",
      "3- a word of caution is to slowly introduce this culture, a swift response is sure to be met with backlash and withdrawal \n",
      "I am with mixed-sex universities for the following:\n",
      "It helps you prepare for the work environment as it is most likely mixed-sex.\n",
      "You get to meet a more diverse set of people.\n",
      "Real life is not segregated so it's inevitable that you will meet or work with a person from the opposite sex.\n",
      "Unnecessary problems will rise\n",
      "I’ve studies in alfaisal university and it was mix .\n",
      "I’n a mix environment you get to know other gender opinions and so on\n",
      "With. preparing for real life, Learn how to socialise professionally with other sex. \n",
      "From my experience being in a mixed- sex university, I believe the disadvantages outweigh the advantages in many aspects of the learning process and environment.\n",
      "(Yes) I believe that it will help familiarizing opposite-genders to work together. (Yes) more intelligence may result of this as cross learning across different genders may occur. (Minor No) The existing system would need a drastic rehabilitation to accommodate such a change.\n",
      "To be more comfortable dealing with the opposite sex at the workplace\n",
      "To know how to communicate better with the opposite sex\n",
      "To better understand how the opposite sex thinks\n",
      "Competition creates creativity\n",
      "Equality of receiving knowledge and skills - getting used for the work environment. \n",
      "The normal\n",
      "Learning to work and coexist with each other in our society is vital. It’s not about supporting or apposition mixed work or university. It’s about educating each age group about each gender and how to understand, communicate, and interact with each other. \n",
      "We can have same sex universities and mixed work environments no doubt but it’s VERY important that people learn how to coexist before we begin such a big step. \n",
      "I don’t think it adds anything nor is it something we consider ourselves lacking. Many studies actually show that segregation has a positive affect on learning for both genders.\n",
      "(Yes) I believe that it will help familiarizing opposite-genders to work together. (Yes) more intelligence may result of this as cross learning across different genders may occur. (Minor No) The existing system would need a drastic rehabilitation to accommodate such a change.\n",
      "Brings diversity, prepares for real world experience, different perspectives \n",
      "Religion , hard to compete,  uncomfortable \n",
      "- \n",
      "Majors should be for all genders, faculty should be top faculty regardless of gender and it’s a social experience \n",
      "University students are between 18-22 which is the prime age for the need of attention, sexual desire, and adolescences. I’m afraid that students will be distracted from focusing on their studies. Plus our culture still has a long way to go. There could be many benefits to it but I feel it is too early for that. \n",
      "- University is a comfortable place to most girls and the mixed-sex can be a uncomfortable. - It’s hard to understand each other from opposite genders sometimes that can effect the learning process \n",
      "create distractions, Not in line with the islamic rules\n",
      "Very important to normalize the idea and leverage strengths of both \n",
      "It’s a must but hard to implement currently\n",
      "create distractions, Not in line with the islamic rules\n",
      "1- university student tend to be immature \n",
      "2- I’m with partially mix\n",
      "3- not applicable in very city yet \n",
      "N\\A\n",
      "I think we have to interact with the opposite gender in or outside universities \n",
      "- University is a comfortable place to most girls and the mixed-sex can be a uncomfortable. - It’s hard to understand each other from opposite genders sometimes that can effect the learning process \n",
      "Having mixed universities offers a fair experience for men and women and access to all faculty members and the same quality of education \n",
      "1- university student tend to be immature \n",
      "2- I’m with partially mix\n",
      "3- not applicable in very city yet \n",
      "1- would greatly enhance opposite gender perception\n",
      "2- raise awareness and respect for the female gender in saudi\n",
      "3- saudi people are not read\n",
      "Both genders can understand eachother more\n",
      "That would remove the nuances resulted from the difference in gender\n",
      "Unify and easier to standardize the knowledge provided for both genders\n",
      "Job occupation would increase due to the eliminated restriction of gender.\n",
      "Support it\n",
      "\n",
      "More efficient\n",
      "More reflective for workplace environment\n",
      "Enhances communications skills \n",
      "1- unfocus in the main important thing which is the knowledge. Be cautious more of what to say and what to do.\n",
      "1) Utilize resources - 2) Get comfortable working with the opposite sex 3) Gain different perspectives.. However, I think it should be done with baby steps with a few universities at first   \n",
      "There’s no reason it shouldn’t be. \n",
      "I’m with it because: \n",
      "- It will establish proper work/communication behaviors  between genders, which will serve the work environment in the future\n",
      "1) helps both genders learn how to communicate with eachother respectively 2) enhances networking 3) both genders can learn from eachother\n",
      "1- Implement appropriate laws and regulations to accommodate for the changes. In addition to online behavioral courses. ( even in the at my U.S University we had to take a mandatory course on a yearly basis). \n",
      "2- We are one of the very few countries that still separate genders\n",
      "3- Not only universities, but most importantly at schools from kindergarten to 12th grade, but could probably be gradual development. ( Don't separate them from kindergarten, till they grow up).\n",
      "Maybe yes if schools were also mixed \n",
      "Maybe yes if schools were also mixed \n",
      "Young and not mature \n",
      "Privacy, Competitiveness, Security\n",
      "1. I don’t think we should just because of natural human sexual drive. 2. But at the same time it would be great in terms of collaboration since different views are likely to be expressed. 3. I don’t think we should because it was kind of distracting to be honest. \n",
      "\n",
      "So in total I don’t think we should \n",
      "I’m with the idea of having that, but with certain guidelines. I’m with this idea because whatever your job is, most probably you’ll have to deal with someone of the opposite-sex, so it’s better to be comfortable in how to communicate with each other at a younger age.\n",
      "I don’t care\n",
      "I’m with it because: \n",
      "- It will establish proper work/communication behaviors  between genders, which will serve the work environment in the future\n",
      "1) helps both genders learn how to communicate with eachother respectively 2) enhances networking 3) both genders can learn from eachother\n",
      "It offers more experience \n",
      "The normal\n",
      "Open mind, ice breaks and  better environment \n",
      "n/a\n",
      "Helps to make things normal \n",
      "1- it will promote growth and maturity for males and dealing with females \n",
      "2- it will start making both genders comfortable in dealing with each other in work and life\n",
      "3- i dont think the majority of both genders are ready for it yet. \n",
      "Be more open\n",
      "just human nature to interact with each other, segregated male/female creates and underlying issue in the long run\n",
      "I studied in a mixed university in saudi and my experience was great but as long as their are clear boundaries between students which is no longer the case in my university.\n",
      "Should be done to prepare the youth for the ongoing transformation in the country \n",
      "Finding harmony in diversity. It should be the new normal.\n",
      "It wouldn’t let students focus on their studies. As well as, it does not fit with Islam’s terms\n",
      "Human nature\n",
      "Pointless approach, and would enforce students to some undesired situations.\n",
      "No specific opinions  \n",
      "n/a\n",
      "Cost-efficiency\n",
      "Same level of education and exposure\n",
      "Better understand the opposite gender\n",
      "1- it will promote growth and maturity for males and dealing with females \n",
      "2- it will start making both genders comfortable in dealing with each other in work and life\n",
      "3- i dont think the majority of both genders are ready for it yet. \n",
      "Big yes\n",
      "Because everyone deserve an opportunity \n",
      "Ok \n",
      "New ideas and different prospective \n",
      "Prepare students for work environments, easier integration into international experiences, better understanding of the opposite gender \n",
      "Because everyone deserve an opportunity \n",
      "I studied in a mixed university in saudi and my experience was great but as long as their are clear boundaries between students which is no longer the case in my university.\n",
      "Because everyone deserve an opportunity \n",
      "No specific opinions  \n",
      "n/a\n",
      "I am against because of social restrictions and awkwardness between genders.\n",
      "Against it.\n",
      "- Might cause sexual problems.\n",
      "- Disperse attention.\n",
      "- Religious issue.\n",
      "just human nature to interact with each other, segregated male/female creates and underlying issue in the long run\n",
      "From my experience being in a mixed- sex university, I believe the disadvantages outweigh the advantages in many aspects of the learning process and environment.\n",
      "It helps break the barrier that many end up facing in the workplace or if they travel. Mixing in a professional and decent manner shouldn’t be an issue.\n"
     ]
    }
   ],
   "source": [
    "for i in df['opinion_mixed_sex_universites']:\n",
    "    print(i)"
   ]
  },
  {
   "cell_type": "markdown",
   "metadata": {},
   "source": [
    "# Basic EDA"
   ]
  },
  {
   "cell_type": "code",
   "execution_count": 91,
   "metadata": {},
   "outputs": [],
   "source": [
    "\n",
    "corr_df1 = df.copy()"
   ]
  },
  {
   "cell_type": "code",
   "execution_count": 92,
   "metadata": {
    "scrolled": true
   },
   "outputs": [
    {
     "data": {
      "text/plain": [
       "Index(['timestamp', 'gender', 'marital_status', 'region', 'bachelor_loc',\n",
       "       'masters_loc', 'mixed_sex', 'introversion_personal',\n",
       "       'introversion_public', 'household_chores',\n",
       "       'single_vs_mixed_working_env', 'comfort_with_other_gender',\n",
       "       'comfort_with_help_from_other_gender', 'project_with_other_gender',\n",
       "       'events_that_influnced_gender_views',\n",
       "       'with_or_aginst_mixed_sex_universities',\n",
       "       'opinion_mixed_sex_universites'],\n",
       "      dtype='object')"
      ]
     },
     "execution_count": 92,
     "metadata": {},
     "output_type": "execute_result"
    }
   ],
   "source": [
    "corr_df1.columns"
   ]
  },
  {
   "cell_type": "code",
   "execution_count": 93,
   "metadata": {},
   "outputs": [
    {
     "data": {
      "text/plain": [
       "['gender',\n",
       " 'marital_status',\n",
       " 'region',\n",
       " 'bachelor_loc',\n",
       " 'masters_loc',\n",
       " 'mixed_sex',\n",
       " 'introversion_personal',\n",
       " 'introversion_public',\n",
       " 'household_chores',\n",
       " 'single_vs_mixed_working_env',\n",
       " 'comfort_with_other_gender',\n",
       " 'comfort_with_help_from_other_gender',\n",
       " 'project_with_other_gender',\n",
       " 'with_or_aginst_mixed_sex_universities']"
      ]
     },
     "execution_count": 93,
     "metadata": {},
     "output_type": "execute_result"
    }
   ],
   "source": [
    "#select the features to drop because it will intoduce a huge number of features when dummied \n",
    "features = ['timestamp','events_that_influnced_gender_views','opinion_mixed_sex_universites']\n",
    "select_features = [x for x in corr_df1.columns if x not in features] \n",
    "select_features "
   ]
  },
  {
   "cell_type": "code",
   "execution_count": 94,
   "metadata": {
    "scrolled": true
   },
   "outputs": [
    {
     "name": "stdout",
     "output_type": "stream",
     "text": [
      "109\n"
     ]
    }
   ],
   "source": [
    "# Create a test varible to test the corrilation with select features \n",
    "test = corr_df1[select_features] \n",
    "print(len(test))"
   ]
  },
  {
   "cell_type": "code",
   "execution_count": 95,
   "metadata": {},
   "outputs": [
    {
     "data": {
      "text/html": [
       "<div>\n",
       "<style scoped>\n",
       "    .dataframe tbody tr th:only-of-type {\n",
       "        vertical-align: middle;\n",
       "    }\n",
       "\n",
       "    .dataframe tbody tr th {\n",
       "        vertical-align: top;\n",
       "    }\n",
       "\n",
       "    .dataframe thead th {\n",
       "        text-align: right;\n",
       "    }\n",
       "</style>\n",
       "<table border=\"1\" class=\"dataframe\">\n",
       "  <thead>\n",
       "    <tr style=\"text-align: right;\">\n",
       "      <th></th>\n",
       "      <th>gender</th>\n",
       "      <th>marital_status</th>\n",
       "      <th>region</th>\n",
       "      <th>bachelor_loc</th>\n",
       "      <th>masters_loc</th>\n",
       "      <th>mixed_sex</th>\n",
       "      <th>introversion_personal</th>\n",
       "      <th>introversion_public</th>\n",
       "      <th>household_chores</th>\n",
       "      <th>single_vs_mixed_working_env</th>\n",
       "      <th>comfort_with_other_gender</th>\n",
       "      <th>comfort_with_help_from_other_gender</th>\n",
       "      <th>project_with_other_gender</th>\n",
       "      <th>with_or_aginst_mixed_sex_universities</th>\n",
       "    </tr>\n",
       "  </thead>\n",
       "  <tbody>\n",
       "    <tr>\n",
       "      <th>0</th>\n",
       "      <td>Female</td>\n",
       "      <td>Single</td>\n",
       "      <td>Eastern</td>\n",
       "      <td>Abroad</td>\n",
       "      <td>n/a</td>\n",
       "      <td>Yes, undergrad</td>\n",
       "      <td>Inner reflection and solitude</td>\n",
       "      <td>Quiet and reflective</td>\n",
       "      <td>4: Strongly agree</td>\n",
       "      <td>Mixed-sex work environment</td>\n",
       "      <td>4: Very comfortable</td>\n",
       "      <td>4: Highly likely</td>\n",
       "      <td>4: Highly likely</td>\n",
       "      <td>Against mixed-sex universities</td>\n",
       "    </tr>\n",
       "    <tr>\n",
       "      <th>1</th>\n",
       "      <td>Male</td>\n",
       "      <td>Single</td>\n",
       "      <td>Center</td>\n",
       "      <td>Saudi</td>\n",
       "      <td>Abroad</td>\n",
       "      <td>Yes, grad</td>\n",
       "      <td>Going out with friends</td>\n",
       "      <td>Outgoing and talkative</td>\n",
       "      <td>2: Disagree</td>\n",
       "      <td>Single-sex work environment</td>\n",
       "      <td>3: Comfortable</td>\n",
       "      <td>3: Likely</td>\n",
       "      <td>3: Likely</td>\n",
       "      <td>Against mixed-sex universities</td>\n",
       "    </tr>\n",
       "    <tr>\n",
       "      <th>2</th>\n",
       "      <td>Male</td>\n",
       "      <td>Single</td>\n",
       "      <td>Center</td>\n",
       "      <td>Saudi</td>\n",
       "      <td>n/a</td>\n",
       "      <td>No, neither</td>\n",
       "      <td>Inner reflection and solitude</td>\n",
       "      <td>Outgoing and talkative</td>\n",
       "      <td>4: Strongly agree</td>\n",
       "      <td>Mixed-sex work environment</td>\n",
       "      <td>4: Very comfortable</td>\n",
       "      <td>4: Highly likely</td>\n",
       "      <td>4: Highly likely</td>\n",
       "      <td>With mixed-sex universities</td>\n",
       "    </tr>\n",
       "    <tr>\n",
       "      <th>3</th>\n",
       "      <td>Female</td>\n",
       "      <td>Single</td>\n",
       "      <td>Center</td>\n",
       "      <td>Saudi</td>\n",
       "      <td>n/a</td>\n",
       "      <td>No, neither</td>\n",
       "      <td>Inner reflection and solitude</td>\n",
       "      <td>Outgoing and talkative</td>\n",
       "      <td>3: Agree</td>\n",
       "      <td>Single-sex work environment</td>\n",
       "      <td>3: Comfortable</td>\n",
       "      <td>4: Highly likely</td>\n",
       "      <td>3: Likely</td>\n",
       "      <td>Against mixed-sex universities</td>\n",
       "    </tr>\n",
       "    <tr>\n",
       "      <th>4</th>\n",
       "      <td>Female</td>\n",
       "      <td>Single</td>\n",
       "      <td>Eastern</td>\n",
       "      <td>Saudi</td>\n",
       "      <td>n/a</td>\n",
       "      <td>No, neither</td>\n",
       "      <td>Going out with friends</td>\n",
       "      <td>Outgoing and talkative</td>\n",
       "      <td>4: Strongly agree</td>\n",
       "      <td>Mixed-sex work environment</td>\n",
       "      <td>3: Comfortable</td>\n",
       "      <td>4: Highly likely</td>\n",
       "      <td>4: Highly likely</td>\n",
       "      <td>With mixed-sex universities</td>\n",
       "    </tr>\n",
       "  </tbody>\n",
       "</table>\n",
       "</div>"
      ],
      "text/plain": [
       "   gender marital_status   region bachelor_loc masters_loc       mixed_sex  \\\n",
       "0  Female         Single  Eastern       Abroad         n/a  Yes, undergrad   \n",
       "1    Male         Single   Center        Saudi      Abroad       Yes, grad   \n",
       "2    Male         Single   Center        Saudi         n/a     No, neither   \n",
       "3  Female         Single   Center        Saudi         n/a     No, neither   \n",
       "4  Female         Single  Eastern        Saudi         n/a     No, neither   \n",
       "\n",
       "           introversion_personal     introversion_public   household_chores  \\\n",
       "0  Inner reflection and solitude    Quiet and reflective  4: Strongly agree   \n",
       "1         Going out with friends  Outgoing and talkative        2: Disagree   \n",
       "2  Inner reflection and solitude  Outgoing and talkative  4: Strongly agree   \n",
       "3  Inner reflection and solitude  Outgoing and talkative           3: Agree   \n",
       "4         Going out with friends  Outgoing and talkative  4: Strongly agree   \n",
       "\n",
       "   single_vs_mixed_working_env comfort_with_other_gender  \\\n",
       "0   Mixed-sex work environment       4: Very comfortable   \n",
       "1  Single-sex work environment            3: Comfortable   \n",
       "2   Mixed-sex work environment       4: Very comfortable   \n",
       "3  Single-sex work environment            3: Comfortable   \n",
       "4   Mixed-sex work environment            3: Comfortable   \n",
       "\n",
       "  comfort_with_help_from_other_gender project_with_other_gender  \\\n",
       "0                    4: Highly likely          4: Highly likely   \n",
       "1                           3: Likely                 3: Likely   \n",
       "2                    4: Highly likely          4: Highly likely   \n",
       "3                    4: Highly likely                 3: Likely   \n",
       "4                    4: Highly likely          4: Highly likely   \n",
       "\n",
       "  with_or_aginst_mixed_sex_universities  \n",
       "0        Against mixed-sex universities  \n",
       "1        Against mixed-sex universities  \n",
       "2           With mixed-sex universities  \n",
       "3        Against mixed-sex universities  \n",
       "4           With mixed-sex universities  "
      ]
     },
     "execution_count": 95,
     "metadata": {},
     "output_type": "execute_result"
    }
   ],
   "source": [
    "test.head()"
   ]
  },
  {
   "cell_type": "code",
   "execution_count": 96,
   "metadata": {},
   "outputs": [
    {
     "data": {
      "text/html": [
       "<div>\n",
       "<style scoped>\n",
       "    .dataframe tbody tr th:only-of-type {\n",
       "        vertical-align: middle;\n",
       "    }\n",
       "\n",
       "    .dataframe tbody tr th {\n",
       "        vertical-align: top;\n",
       "    }\n",
       "\n",
       "    .dataframe thead th {\n",
       "        text-align: right;\n",
       "    }\n",
       "</style>\n",
       "<table border=\"1\" class=\"dataframe\">\n",
       "  <thead>\n",
       "    <tr style=\"text-align: right;\">\n",
       "      <th></th>\n",
       "      <th>gender_Male</th>\n",
       "      <th>marital_status_Single</th>\n",
       "      <th>region_Eastern</th>\n",
       "      <th>region_Nothern</th>\n",
       "      <th>region_Western</th>\n",
       "      <th>bachelor_loc_Saudi</th>\n",
       "      <th>bachelor_loc_n/a</th>\n",
       "      <th>masters_loc_Saudi</th>\n",
       "      <th>masters_loc_n/a</th>\n",
       "      <th>mixed_sex_Yes, both</th>\n",
       "      <th>...</th>\n",
       "      <th>comfort_with_other_gender_2: Uncomfortable</th>\n",
       "      <th>comfort_with_other_gender_3: Comfortable</th>\n",
       "      <th>comfort_with_other_gender_4: Very comfortable</th>\n",
       "      <th>comfort_with_help_from_other_gender_2: Unlikely</th>\n",
       "      <th>comfort_with_help_from_other_gender_3: Likely</th>\n",
       "      <th>comfort_with_help_from_other_gender_4: Highly likely</th>\n",
       "      <th>project_with_other_gender_2: Unlikely</th>\n",
       "      <th>project_with_other_gender_3: Likely</th>\n",
       "      <th>project_with_other_gender_4: Highly likely</th>\n",
       "      <th>with_or_aginst_mixed_sex_universities_With mixed-sex universities</th>\n",
       "    </tr>\n",
       "  </thead>\n",
       "  <tbody>\n",
       "    <tr>\n",
       "      <th>0</th>\n",
       "      <td>0</td>\n",
       "      <td>1</td>\n",
       "      <td>1</td>\n",
       "      <td>0</td>\n",
       "      <td>0</td>\n",
       "      <td>0</td>\n",
       "      <td>0</td>\n",
       "      <td>0</td>\n",
       "      <td>1</td>\n",
       "      <td>0</td>\n",
       "      <td>...</td>\n",
       "      <td>0</td>\n",
       "      <td>0</td>\n",
       "      <td>1</td>\n",
       "      <td>0</td>\n",
       "      <td>0</td>\n",
       "      <td>1</td>\n",
       "      <td>0</td>\n",
       "      <td>0</td>\n",
       "      <td>1</td>\n",
       "      <td>0</td>\n",
       "    </tr>\n",
       "    <tr>\n",
       "      <th>1</th>\n",
       "      <td>1</td>\n",
       "      <td>1</td>\n",
       "      <td>0</td>\n",
       "      <td>0</td>\n",
       "      <td>0</td>\n",
       "      <td>1</td>\n",
       "      <td>0</td>\n",
       "      <td>0</td>\n",
       "      <td>0</td>\n",
       "      <td>0</td>\n",
       "      <td>...</td>\n",
       "      <td>0</td>\n",
       "      <td>1</td>\n",
       "      <td>0</td>\n",
       "      <td>0</td>\n",
       "      <td>1</td>\n",
       "      <td>0</td>\n",
       "      <td>0</td>\n",
       "      <td>1</td>\n",
       "      <td>0</td>\n",
       "      <td>0</td>\n",
       "    </tr>\n",
       "    <tr>\n",
       "      <th>2</th>\n",
       "      <td>1</td>\n",
       "      <td>1</td>\n",
       "      <td>0</td>\n",
       "      <td>0</td>\n",
       "      <td>0</td>\n",
       "      <td>1</td>\n",
       "      <td>0</td>\n",
       "      <td>0</td>\n",
       "      <td>1</td>\n",
       "      <td>0</td>\n",
       "      <td>...</td>\n",
       "      <td>0</td>\n",
       "      <td>0</td>\n",
       "      <td>1</td>\n",
       "      <td>0</td>\n",
       "      <td>0</td>\n",
       "      <td>1</td>\n",
       "      <td>0</td>\n",
       "      <td>0</td>\n",
       "      <td>1</td>\n",
       "      <td>1</td>\n",
       "    </tr>\n",
       "    <tr>\n",
       "      <th>3</th>\n",
       "      <td>0</td>\n",
       "      <td>1</td>\n",
       "      <td>0</td>\n",
       "      <td>0</td>\n",
       "      <td>0</td>\n",
       "      <td>1</td>\n",
       "      <td>0</td>\n",
       "      <td>0</td>\n",
       "      <td>1</td>\n",
       "      <td>0</td>\n",
       "      <td>...</td>\n",
       "      <td>0</td>\n",
       "      <td>1</td>\n",
       "      <td>0</td>\n",
       "      <td>0</td>\n",
       "      <td>0</td>\n",
       "      <td>1</td>\n",
       "      <td>0</td>\n",
       "      <td>1</td>\n",
       "      <td>0</td>\n",
       "      <td>0</td>\n",
       "    </tr>\n",
       "    <tr>\n",
       "      <th>4</th>\n",
       "      <td>0</td>\n",
       "      <td>1</td>\n",
       "      <td>1</td>\n",
       "      <td>0</td>\n",
       "      <td>0</td>\n",
       "      <td>1</td>\n",
       "      <td>0</td>\n",
       "      <td>0</td>\n",
       "      <td>1</td>\n",
       "      <td>0</td>\n",
       "      <td>...</td>\n",
       "      <td>0</td>\n",
       "      <td>1</td>\n",
       "      <td>0</td>\n",
       "      <td>0</td>\n",
       "      <td>0</td>\n",
       "      <td>1</td>\n",
       "      <td>0</td>\n",
       "      <td>0</td>\n",
       "      <td>1</td>\n",
       "      <td>1</td>\n",
       "    </tr>\n",
       "  </tbody>\n",
       "</table>\n",
       "<p>5 rows × 29 columns</p>\n",
       "</div>"
      ],
      "text/plain": [
       "   gender_Male  marital_status_Single  region_Eastern  region_Nothern  \\\n",
       "0            0                      1               1               0   \n",
       "1            1                      1               0               0   \n",
       "2            1                      1               0               0   \n",
       "3            0                      1               0               0   \n",
       "4            0                      1               1               0   \n",
       "\n",
       "   region_Western  bachelor_loc_Saudi  bachelor_loc_n/a  masters_loc_Saudi  \\\n",
       "0               0                   0                 0                  0   \n",
       "1               0                   1                 0                  0   \n",
       "2               0                   1                 0                  0   \n",
       "3               0                   1                 0                  0   \n",
       "4               0                   1                 0                  0   \n",
       "\n",
       "   masters_loc_n/a  mixed_sex_Yes, both  ...  \\\n",
       "0                1                    0  ...   \n",
       "1                0                    0  ...   \n",
       "2                1                    0  ...   \n",
       "3                1                    0  ...   \n",
       "4                1                    0  ...   \n",
       "\n",
       "   comfort_with_other_gender_2: Uncomfortable  \\\n",
       "0                                           0   \n",
       "1                                           0   \n",
       "2                                           0   \n",
       "3                                           0   \n",
       "4                                           0   \n",
       "\n",
       "   comfort_with_other_gender_3: Comfortable  \\\n",
       "0                                         0   \n",
       "1                                         1   \n",
       "2                                         0   \n",
       "3                                         1   \n",
       "4                                         1   \n",
       "\n",
       "   comfort_with_other_gender_4: Very comfortable  \\\n",
       "0                                              1   \n",
       "1                                              0   \n",
       "2                                              1   \n",
       "3                                              0   \n",
       "4                                              0   \n",
       "\n",
       "   comfort_with_help_from_other_gender_2: Unlikely  \\\n",
       "0                                                0   \n",
       "1                                                0   \n",
       "2                                                0   \n",
       "3                                                0   \n",
       "4                                                0   \n",
       "\n",
       "   comfort_with_help_from_other_gender_3: Likely  \\\n",
       "0                                              0   \n",
       "1                                              1   \n",
       "2                                              0   \n",
       "3                                              0   \n",
       "4                                              0   \n",
       "\n",
       "   comfort_with_help_from_other_gender_4: Highly likely  \\\n",
       "0                                                  1      \n",
       "1                                                  0      \n",
       "2                                                  1      \n",
       "3                                                  1      \n",
       "4                                                  1      \n",
       "\n",
       "   project_with_other_gender_2: Unlikely  project_with_other_gender_3: Likely  \\\n",
       "0                                      0                                    0   \n",
       "1                                      0                                    1   \n",
       "2                                      0                                    0   \n",
       "3                                      0                                    1   \n",
       "4                                      0                                    0   \n",
       "\n",
       "   project_with_other_gender_4: Highly likely  \\\n",
       "0                                           1   \n",
       "1                                           0   \n",
       "2                                           1   \n",
       "3                                           0   \n",
       "4                                           1   \n",
       "\n",
       "   with_or_aginst_mixed_sex_universities_With mixed-sex universities  \n",
       "0                                                  0                  \n",
       "1                                                  0                  \n",
       "2                                                  1                  \n",
       "3                                                  0                  \n",
       "4                                                  1                  \n",
       "\n",
       "[5 rows x 29 columns]"
      ]
     },
     "execution_count": 96,
     "metadata": {},
     "output_type": "execute_result"
    }
   ],
   "source": [
    "#Converting the data into dummies to apply to check corrilations (test_dummies)\n",
    "test_dummies = pd.get_dummies(test,drop_first=True)\n",
    "test_dummies.head()"
   ]
  },
  {
   "cell_type": "code",
   "execution_count": 100,
   "metadata": {},
   "outputs": [
    {
     "data": {
      "text/plain": [
       "With mixed-sex universities       74\n",
       "Against mixed-sex universities    35\n",
       "Name: with_or_aginst_mixed_sex_universities, dtype: int64"
      ]
     },
     "execution_count": 100,
     "metadata": {},
     "output_type": "execute_result"
    }
   ],
   "source": [
    "test['with_or_aginst_mixed_sex_universities'].value_counts()"
   ]
  },
  {
   "cell_type": "code",
   "execution_count": 101,
   "metadata": {},
   "outputs": [
    {
     "data": {
      "text/plain": [
       "1    74\n",
       "0    35\n",
       "Name: with_or_aginst_mixed_sex_universities_With mixed-sex universities, dtype: int64"
      ]
     },
     "execution_count": 101,
     "metadata": {},
     "output_type": "execute_result"
    }
   ],
   "source": [
    "test_dummies['with_or_aginst_mixed_sex_universities_With mixed-sex universities'].value_counts()"
   ]
  },
  {
   "cell_type": "code",
   "execution_count": 102,
   "metadata": {},
   "outputs": [
    {
     "data": {
      "text/plain": [
       "Index(['gender_Male', 'marital_status_Single', 'region_Eastern',\n",
       "       'region_Nothern', 'region_Western', 'bachelor_loc_Saudi',\n",
       "       'bachelor_loc_n/a', 'masters_loc_Saudi', 'masters_loc_n/a',\n",
       "       'mixed_sex_Yes, both', 'mixed_sex_Yes, grad',\n",
       "       'mixed_sex_Yes, undergrad', 'mixed_sex_n/a',\n",
       "       'introversion_personal_Inner reflection and solitude',\n",
       "       'introversion_public_Quiet and reflective',\n",
       "       'household_chores_2: Disagree', 'household_chores_3: Agree',\n",
       "       'household_chores_4: Strongly agree',\n",
       "       'single_vs_mixed_working_env_Single-sex work environment',\n",
       "       'comfort_with_other_gender_2: Uncomfortable',\n",
       "       'comfort_with_other_gender_3: Comfortable',\n",
       "       'comfort_with_other_gender_4: Very comfortable',\n",
       "       'comfort_with_help_from_other_gender_2: Unlikely',\n",
       "       'comfort_with_help_from_other_gender_3: Likely',\n",
       "       'comfort_with_help_from_other_gender_4: Highly likely',\n",
       "       'project_with_other_gender_2: Unlikely',\n",
       "       'project_with_other_gender_3: Likely',\n",
       "       'project_with_other_gender_4: Highly likely',\n",
       "       'with_or_aginst_mixed_sex_universities_With mixed-sex universities'],\n",
       "      dtype='object')"
      ]
     },
     "execution_count": 102,
     "metadata": {},
     "output_type": "execute_result"
    }
   ],
   "source": [
    "test_dummies.columns"
   ]
  },
  {
   "cell_type": "code",
   "execution_count": 103,
   "metadata": {
    "scrolled": true
   },
   "outputs": [
    {
     "data": {
      "text/html": [
       "<style  type=\"text/css\" >\n",
       "    #T_6a85f562_485a_11eb_9cdd_acde48001122 th {\n",
       "          font-size: 7pt;\n",
       "    }    #T_6a85f562_485a_11eb_9cdd_acde48001122 td {\n",
       "          padding: 0em 0em;\n",
       "    }    #T_6a85f562_485a_11eb_9cdd_acde48001122 th:hover {\n",
       "          font-size: 12pt;\n",
       "    }    #T_6a85f562_485a_11eb_9cdd_acde48001122 tr:hover td:hover {\n",
       "          max-width: 200px;\n",
       "          font-size: 12pt;\n",
       "    }#T_6a85f562_485a_11eb_9cdd_acde48001122row0_col0,#T_6a85f562_485a_11eb_9cdd_acde48001122row1_col1,#T_6a85f562_485a_11eb_9cdd_acde48001122row2_col2,#T_6a85f562_485a_11eb_9cdd_acde48001122row3_col3,#T_6a85f562_485a_11eb_9cdd_acde48001122row4_col4,#T_6a85f562_485a_11eb_9cdd_acde48001122row5_col5,#T_6a85f562_485a_11eb_9cdd_acde48001122row6_col6,#T_6a85f562_485a_11eb_9cdd_acde48001122row6_col12,#T_6a85f562_485a_11eb_9cdd_acde48001122row7_col7,#T_6a85f562_485a_11eb_9cdd_acde48001122row8_col8,#T_6a85f562_485a_11eb_9cdd_acde48001122row9_col9,#T_6a85f562_485a_11eb_9cdd_acde48001122row10_col10,#T_6a85f562_485a_11eb_9cdd_acde48001122row11_col11,#T_6a85f562_485a_11eb_9cdd_acde48001122row12_col6,#T_6a85f562_485a_11eb_9cdd_acde48001122row12_col12,#T_6a85f562_485a_11eb_9cdd_acde48001122row13_col13,#T_6a85f562_485a_11eb_9cdd_acde48001122row14_col14,#T_6a85f562_485a_11eb_9cdd_acde48001122row15_col15,#T_6a85f562_485a_11eb_9cdd_acde48001122row16_col16,#T_6a85f562_485a_11eb_9cdd_acde48001122row17_col17,#T_6a85f562_485a_11eb_9cdd_acde48001122row18_col18,#T_6a85f562_485a_11eb_9cdd_acde48001122row19_col19,#T_6a85f562_485a_11eb_9cdd_acde48001122row20_col20,#T_6a85f562_485a_11eb_9cdd_acde48001122row21_col21,#T_6a85f562_485a_11eb_9cdd_acde48001122row22_col22,#T_6a85f562_485a_11eb_9cdd_acde48001122row23_col23,#T_6a85f562_485a_11eb_9cdd_acde48001122row24_col24,#T_6a85f562_485a_11eb_9cdd_acde48001122row25_col25,#T_6a85f562_485a_11eb_9cdd_acde48001122row26_col26,#T_6a85f562_485a_11eb_9cdd_acde48001122row27_col27,#T_6a85f562_485a_11eb_9cdd_acde48001122row28_col28{\n",
       "            background-color:  #4479bb;\n",
       "            color:  #000000;\n",
       "            max-width:  80px;\n",
       "            font-size:  10pt;\n",
       "        }#T_6a85f562_485a_11eb_9cdd_acde48001122row0_col1,#T_6a85f562_485a_11eb_9cdd_acde48001122row8_col4,#T_6a85f562_485a_11eb_9cdd_acde48001122row15_col25,#T_6a85f562_485a_11eb_9cdd_acde48001122row20_col13,#T_6a85f562_485a_11eb_9cdd_acde48001122row21_col2,#T_6a85f562_485a_11eb_9cdd_acde48001122row23_col2,#T_6a85f562_485a_11eb_9cdd_acde48001122row25_col4,#T_6a85f562_485a_11eb_9cdd_acde48001122row26_col3,#T_6a85f562_485a_11eb_9cdd_acde48001122row27_col6,#T_6a85f562_485a_11eb_9cdd_acde48001122row27_col12{\n",
       "            background-color:  #edd0d6;\n",
       "            color:  #000000;\n",
       "            max-width:  80px;\n",
       "            font-size:  10pt;\n",
       "        }#T_6a85f562_485a_11eb_9cdd_acde48001122row0_col2,#T_6a85f562_485a_11eb_9cdd_acde48001122row0_col22,#T_6a85f562_485a_11eb_9cdd_acde48001122row2_col24,#T_6a85f562_485a_11eb_9cdd_acde48001122row6_col26,#T_6a85f562_485a_11eb_9cdd_acde48001122row7_col0,#T_6a85f562_485a_11eb_9cdd_acde48001122row8_col16,#T_6a85f562_485a_11eb_9cdd_acde48001122row9_col17,#T_6a85f562_485a_11eb_9cdd_acde48001122row10_col0,#T_6a85f562_485a_11eb_9cdd_acde48001122row12_col26,#T_6a85f562_485a_11eb_9cdd_acde48001122row14_col1,#T_6a85f562_485a_11eb_9cdd_acde48001122row25_col9{\n",
       "            background-color:  #e48fa0;\n",
       "            color:  #000000;\n",
       "            max-width:  80px;\n",
       "            font-size:  10pt;\n",
       "        }#T_6a85f562_485a_11eb_9cdd_acde48001122row0_col3,#T_6a85f562_485a_11eb_9cdd_acde48001122row4_col8,#T_6a85f562_485a_11eb_9cdd_acde48001122row5_col8,#T_6a85f562_485a_11eb_9cdd_acde48001122row7_col20,#T_6a85f562_485a_11eb_9cdd_acde48001122row8_col1,#T_6a85f562_485a_11eb_9cdd_acde48001122row18_col0,#T_6a85f562_485a_11eb_9cdd_acde48001122row19_col9{\n",
       "            background-color:  #e7a8b5;\n",
       "            color:  #000000;\n",
       "            max-width:  80px;\n",
       "            font-size:  10pt;\n",
       "        }#T_6a85f562_485a_11eb_9cdd_acde48001122row0_col4,#T_6a85f562_485a_11eb_9cdd_acde48001122row8_col5,#T_6a85f562_485a_11eb_9cdd_acde48001122row17_col7,#T_6a85f562_485a_11eb_9cdd_acde48001122row20_col2,#T_6a85f562_485a_11eb_9cdd_acde48001122row21_col10{\n",
       "            background-color:  #eab9c3;\n",
       "            color:  #000000;\n",
       "            max-width:  80px;\n",
       "            font-size:  10pt;\n",
       "        }#T_6a85f562_485a_11eb_9cdd_acde48001122row0_col5,#T_6a85f562_485a_11eb_9cdd_acde48001122row3_col20,#T_6a85f562_485a_11eb_9cdd_acde48001122row13_col2{\n",
       "            background-color:  #d8405e;\n",
       "            color:  #f1f1f1;\n",
       "            max-width:  80px;\n",
       "            font-size:  10pt;\n",
       "        }#T_6a85f562_485a_11eb_9cdd_acde48001122row0_col6,#T_6a85f562_485a_11eb_9cdd_acde48001122row0_col12,#T_6a85f562_485a_11eb_9cdd_acde48001122row9_col16,#T_6a85f562_485a_11eb_9cdd_acde48001122row15_col18,#T_6a85f562_485a_11eb_9cdd_acde48001122row15_col27,#T_6a85f562_485a_11eb_9cdd_acde48001122row15_col28,#T_6a85f562_485a_11eb_9cdd_acde48001122row16_col24,#T_6a85f562_485a_11eb_9cdd_acde48001122row28_col5{\n",
       "            background-color:  #e9b1bc;\n",
       "            color:  #000000;\n",
       "            max-width:  80px;\n",
       "            font-size:  10pt;\n",
       "        }#T_6a85f562_485a_11eb_9cdd_acde48001122row0_col7,#T_6a85f562_485a_11eb_9cdd_acde48001122row0_col14,#T_6a85f562_485a_11eb_9cdd_acde48001122row1_col26,#T_6a85f562_485a_11eb_9cdd_acde48001122row3_col8,#T_6a85f562_485a_11eb_9cdd_acde48001122row6_col22,#T_6a85f562_485a_11eb_9cdd_acde48001122row9_col15,#T_6a85f562_485a_11eb_9cdd_acde48001122row12_col22,#T_6a85f562_485a_11eb_9cdd_acde48001122row14_col9,#T_6a85f562_485a_11eb_9cdd_acde48001122row22_col20{\n",
       "            background-color:  #de6b82;\n",
       "            color:  #000000;\n",
       "            max-width:  80px;\n",
       "            font-size:  10pt;\n",
       "        }#T_6a85f562_485a_11eb_9cdd_acde48001122row0_col8,#T_6a85f562_485a_11eb_9cdd_acde48001122row4_col17,#T_6a85f562_485a_11eb_9cdd_acde48001122row6_col0,#T_6a85f562_485a_11eb_9cdd_acde48001122row9_col23,#T_6a85f562_485a_11eb_9cdd_acde48001122row12_col0,#T_6a85f562_485a_11eb_9cdd_acde48001122row13_col3,#T_6a85f562_485a_11eb_9cdd_acde48001122row13_col17,#T_6a85f562_485a_11eb_9cdd_acde48001122row14_col13,#T_6a85f562_485a_11eb_9cdd_acde48001122row25_col7,#T_6a85f562_485a_11eb_9cdd_acde48001122row25_col13{\n",
       "            background-color:  #e494a4;\n",
       "            color:  #000000;\n",
       "            max-width:  80px;\n",
       "            font-size:  10pt;\n",
       "        }#T_6a85f562_485a_11eb_9cdd_acde48001122row0_col9,#T_6a85f562_485a_11eb_9cdd_acde48001122row2_col10,#T_6a85f562_485a_11eb_9cdd_acde48001122row2_col26,#T_6a85f562_485a_11eb_9cdd_acde48001122row3_col0,#T_6a85f562_485a_11eb_9cdd_acde48001122row3_col13,#T_6a85f562_485a_11eb_9cdd_acde48001122row4_col3,#T_6a85f562_485a_11eb_9cdd_acde48001122row9_col10,#T_6a85f562_485a_11eb_9cdd_acde48001122row27_col18{\n",
       "            background-color:  #e0748a;\n",
       "            color:  #000000;\n",
       "            max-width:  80px;\n",
       "            font-size:  10pt;\n",
       "        }#T_6a85f562_485a_11eb_9cdd_acde48001122row0_col10,#T_6a85f562_485a_11eb_9cdd_acde48001122row1_col6,#T_6a85f562_485a_11eb_9cdd_acde48001122row1_col12,#T_6a85f562_485a_11eb_9cdd_acde48001122row4_col20,#T_6a85f562_485a_11eb_9cdd_acde48001122row9_col22,#T_6a85f562_485a_11eb_9cdd_acde48001122row10_col17,#T_6a85f562_485a_11eb_9cdd_acde48001122row11_col25,#T_6a85f562_485a_11eb_9cdd_acde48001122row19_col21,#T_6a85f562_485a_11eb_9cdd_acde48001122row22_col4{\n",
       "            background-color:  #e17d91;\n",
       "            color:  #000000;\n",
       "            max-width:  80px;\n",
       "            font-size:  10pt;\n",
       "        }#T_6a85f562_485a_11eb_9cdd_acde48001122row0_col11,#T_6a85f562_485a_11eb_9cdd_acde48001122row17_col2,#T_6a85f562_485a_11eb_9cdd_acde48001122row20_col15{\n",
       "            background-color:  #f0e4e6;\n",
       "            color:  #000000;\n",
       "            max-width:  80px;\n",
       "            font-size:  10pt;\n",
       "        }#T_6a85f562_485a_11eb_9cdd_acde48001122row0_col13,#T_6a85f562_485a_11eb_9cdd_acde48001122row1_col25,#T_6a85f562_485a_11eb_9cdd_acde48001122row2_col15,#T_6a85f562_485a_11eb_9cdd_acde48001122row9_col1{\n",
       "            background-color:  #dd5f78;\n",
       "            color:  #000000;\n",
       "            max-width:  80px;\n",
       "            font-size:  10pt;\n",
       "        }#T_6a85f562_485a_11eb_9cdd_acde48001122row0_col15,#T_6a85f562_485a_11eb_9cdd_acde48001122row25_col23{\n",
       "            background-color:  #f1f1f2;\n",
       "            color:  #000000;\n",
       "            max-width:  80px;\n",
       "            font-size:  10pt;\n",
       "        }#T_6a85f562_485a_11eb_9cdd_acde48001122row0_col16,#T_6a85f562_485a_11eb_9cdd_acde48001122row1_col14,#T_6a85f562_485a_11eb_9cdd_acde48001122row11_col19,#T_6a85f562_485a_11eb_9cdd_acde48001122row15_col7,#T_6a85f562_485a_11eb_9cdd_acde48001122row17_col18{\n",
       "            background-color:  #e38a9c;\n",
       "            color:  #000000;\n",
       "            max-width:  80px;\n",
       "            font-size:  10pt;\n",
       "        }#T_6a85f562_485a_11eb_9cdd_acde48001122row0_col17,#T_6a85f562_485a_11eb_9cdd_acde48001122row3_col23,#T_6a85f562_485a_11eb_9cdd_acde48001122row6_col16,#T_6a85f562_485a_11eb_9cdd_acde48001122row12_col16{\n",
       "            background-color:  #da4b68;\n",
       "            color:  #000000;\n",
       "            max-width:  80px;\n",
       "            font-size:  10pt;\n",
       "        }#T_6a85f562_485a_11eb_9cdd_acde48001122row0_col18,#T_6a85f562_485a_11eb_9cdd_acde48001122row14_col7,#T_6a85f562_485a_11eb_9cdd_acde48001122row18_col24,#T_6a85f562_485a_11eb_9cdd_acde48001122row22_col21{\n",
       "            background-color:  #de6c83;\n",
       "            color:  #000000;\n",
       "            max-width:  80px;\n",
       "            font-size:  10pt;\n",
       "        }#T_6a85f562_485a_11eb_9cdd_acde48001122row0_col19,#T_6a85f562_485a_11eb_9cdd_acde48001122row4_col22,#T_6a85f562_485a_11eb_9cdd_acde48001122row6_col2,#T_6a85f562_485a_11eb_9cdd_acde48001122row12_col2{\n",
       "            background-color:  #dd6179;\n",
       "            color:  #000000;\n",
       "            max-width:  80px;\n",
       "            font-size:  10pt;\n",
       "        }#T_6a85f562_485a_11eb_9cdd_acde48001122row0_col20,#T_6a85f562_485a_11eb_9cdd_acde48001122row4_col10,#T_6a85f562_485a_11eb_9cdd_acde48001122row6_col19,#T_6a85f562_485a_11eb_9cdd_acde48001122row12_col19,#T_6a85f562_485a_11eb_9cdd_acde48001122row14_col18{\n",
       "            background-color:  #dd657d;\n",
       "            color:  #000000;\n",
       "            max-width:  80px;\n",
       "            font-size:  10pt;\n",
       "        }#T_6a85f562_485a_11eb_9cdd_acde48001122row0_col21,#T_6a85f562_485a_11eb_9cdd_acde48001122row19_col26,#T_6a85f562_485a_11eb_9cdd_acde48001122row26_col9{\n",
       "            background-color:  #f2ebec;\n",
       "            color:  #000000;\n",
       "            max-width:  80px;\n",
       "            font-size:  10pt;\n",
       "        }#T_6a85f562_485a_11eb_9cdd_acde48001122row0_col23,#T_6a85f562_485a_11eb_9cdd_acde48001122row1_col7,#T_6a85f562_485a_11eb_9cdd_acde48001122row5_col21,#T_6a85f562_485a_11eb_9cdd_acde48001122row14_col15,#T_6a85f562_485a_11eb_9cdd_acde48001122row15_col17{\n",
       "            background-color:  #db5570;\n",
       "            color:  #000000;\n",
       "            max-width:  80px;\n",
       "            font-size:  10pt;\n",
       "        }#T_6a85f562_485a_11eb_9cdd_acde48001122row0_col24,#T_6a85f562_485a_11eb_9cdd_acde48001122row18_col8,#T_6a85f562_485a_11eb_9cdd_acde48001122row19_col8,#T_6a85f562_485a_11eb_9cdd_acde48001122row21_col13,#T_6a85f562_485a_11eb_9cdd_acde48001122row24_col6,#T_6a85f562_485a_11eb_9cdd_acde48001122row24_col12{\n",
       "            background-color:  #eed4d9;\n",
       "            color:  #000000;\n",
       "            max-width:  80px;\n",
       "            font-size:  10pt;\n",
       "        }#T_6a85f562_485a_11eb_9cdd_acde48001122row0_col25,#T_6a85f562_485a_11eb_9cdd_acde48001122row1_col27,#T_6a85f562_485a_11eb_9cdd_acde48001122row2_col14,#T_6a85f562_485a_11eb_9cdd_acde48001122row4_col24,#T_6a85f562_485a_11eb_9cdd_acde48001122row6_col23,#T_6a85f562_485a_11eb_9cdd_acde48001122row9_col20,#T_6a85f562_485a_11eb_9cdd_acde48001122row10_col22,#T_6a85f562_485a_11eb_9cdd_acde48001122row12_col23,#T_6a85f562_485a_11eb_9cdd_acde48001122row16_col28,#T_6a85f562_485a_11eb_9cdd_acde48001122row17_col0,#T_6a85f562_485a_11eb_9cdd_acde48001122row24_col18{\n",
       "            background-color:  #e492a3;\n",
       "            color:  #000000;\n",
       "            max-width:  80px;\n",
       "            font-size:  10pt;\n",
       "        }#T_6a85f562_485a_11eb_9cdd_acde48001122row0_col26,#T_6a85f562_485a_11eb_9cdd_acde48001122row1_col9,#T_6a85f562_485a_11eb_9cdd_acde48001122row1_col18,#T_6a85f562_485a_11eb_9cdd_acde48001122row2_col4,#T_6a85f562_485a_11eb_9cdd_acde48001122row3_col11,#T_6a85f562_485a_11eb_9cdd_acde48001122row4_col2,#T_6a85f562_485a_11eb_9cdd_acde48001122row5_col11,#T_6a85f562_485a_11eb_9cdd_acde48001122row6_col5,#T_6a85f562_485a_11eb_9cdd_acde48001122row7_col8,#T_6a85f562_485a_11eb_9cdd_acde48001122row8_col7,#T_6a85f562_485a_11eb_9cdd_acde48001122row9_col11,#T_6a85f562_485a_11eb_9cdd_acde48001122row10_col8,#T_6a85f562_485a_11eb_9cdd_acde48001122row11_col5,#T_6a85f562_485a_11eb_9cdd_acde48001122row12_col5,#T_6a85f562_485a_11eb_9cdd_acde48001122row13_col27,#T_6a85f562_485a_11eb_9cdd_acde48001122row14_col16,#T_6a85f562_485a_11eb_9cdd_acde48001122row15_col16,#T_6a85f562_485a_11eb_9cdd_acde48001122row16_col17,#T_6a85f562_485a_11eb_9cdd_acde48001122row17_col16,#T_6a85f562_485a_11eb_9cdd_acde48001122row18_col28,#T_6a85f562_485a_11eb_9cdd_acde48001122row19_col24,#T_6a85f562_485a_11eb_9cdd_acde48001122row20_col21,#T_6a85f562_485a_11eb_9cdd_acde48001122row21_col20,#T_6a85f562_485a_11eb_9cdd_acde48001122row22_col24,#T_6a85f562_485a_11eb_9cdd_acde48001122row23_col24,#T_6a85f562_485a_11eb_9cdd_acde48001122row24_col23,#T_6a85f562_485a_11eb_9cdd_acde48001122row25_col27,#T_6a85f562_485a_11eb_9cdd_acde48001122row26_col27,#T_6a85f562_485a_11eb_9cdd_acde48001122row27_col26,#T_6a85f562_485a_11eb_9cdd_acde48001122row28_col18{\n",
       "            background-color:  #d73c5b;\n",
       "            color:  #f1f1f1;\n",
       "            max-width:  80px;\n",
       "            font-size:  10pt;\n",
       "        }#T_6a85f562_485a_11eb_9cdd_acde48001122row0_col27,#T_6a85f562_485a_11eb_9cdd_acde48001122row23_col7,#T_6a85f562_485a_11eb_9cdd_acde48001122row24_col15,#T_6a85f562_485a_11eb_9cdd_acde48001122row26_col5,#T_6a85f562_485a_11eb_9cdd_acde48001122row27_col4{\n",
       "            background-color:  #f0e0e3;\n",
       "            color:  #000000;\n",
       "            max-width:  80px;\n",
       "            font-size:  10pt;\n",
       "        }#T_6a85f562_485a_11eb_9cdd_acde48001122row0_col28,#T_6a85f562_485a_11eb_9cdd_acde48001122row2_col7,#T_6a85f562_485a_11eb_9cdd_acde48001122row8_col26,#T_6a85f562_485a_11eb_9cdd_acde48001122row9_col14,#T_6a85f562_485a_11eb_9cdd_acde48001122row21_col23,#T_6a85f562_485a_11eb_9cdd_acde48001122row26_col21,#T_6a85f562_485a_11eb_9cdd_acde48001122row27_col25{\n",
       "            background-color:  #e28698;\n",
       "            color:  #000000;\n",
       "            max-width:  80px;\n",
       "            font-size:  10pt;\n",
       "        }#T_6a85f562_485a_11eb_9cdd_acde48001122row1_col0,#T_6a85f562_485a_11eb_9cdd_acde48001122row4_col25,#T_6a85f562_485a_11eb_9cdd_acde48001122row5_col3,#T_6a85f562_485a_11eb_9cdd_acde48001122row8_col0,#T_6a85f562_485a_11eb_9cdd_acde48001122row11_col17,#T_6a85f562_485a_11eb_9cdd_acde48001122row18_col13,#T_6a85f562_485a_11eb_9cdd_acde48001122row19_col6,#T_6a85f562_485a_11eb_9cdd_acde48001122row19_col12,#T_6a85f562_485a_11eb_9cdd_acde48001122row19_col13,#T_6a85f562_485a_11eb_9cdd_acde48001122row22_col13,#T_6a85f562_485a_11eb_9cdd_acde48001122row22_col18,#T_6a85f562_485a_11eb_9cdd_acde48001122row25_col14{\n",
       "            background-color:  #e9b5bf;\n",
       "            color:  #000000;\n",
       "            max-width:  80px;\n",
       "            font-size:  10pt;\n",
       "        }#T_6a85f562_485a_11eb_9cdd_acde48001122row1_col2,#T_6a85f562_485a_11eb_9cdd_acde48001122row2_col20,#T_6a85f562_485a_11eb_9cdd_acde48001122row4_col7,#T_6a85f562_485a_11eb_9cdd_acde48001122row6_col24,#T_6a85f562_485a_11eb_9cdd_acde48001122row12_col24,#T_6a85f562_485a_11eb_9cdd_acde48001122row14_col21,#T_6a85f562_485a_11eb_9cdd_acde48001122row23_col27{\n",
       "            background-color:  #dc5c76;\n",
       "            color:  #000000;\n",
       "            max-width:  80px;\n",
       "            font-size:  10pt;\n",
       "        }#T_6a85f562_485a_11eb_9cdd_acde48001122row1_col3,#T_6a85f562_485a_11eb_9cdd_acde48001122row1_col21,#T_6a85f562_485a_11eb_9cdd_acde48001122row2_col3,#T_6a85f562_485a_11eb_9cdd_acde48001122row2_col9,#T_6a85f562_485a_11eb_9cdd_acde48001122row6_col20,#T_6a85f562_485a_11eb_9cdd_acde48001122row12_col20,#T_6a85f562_485a_11eb_9cdd_acde48001122row13_col16,#T_6a85f562_485a_11eb_9cdd_acde48001122row18_col11,#T_6a85f562_485a_11eb_9cdd_acde48001122row25_col21{\n",
       "            background-color:  #e0798d;\n",
       "            color:  #000000;\n",
       "            max-width:  80px;\n",
       "            font-size:  10pt;\n",
       "        }#T_6a85f562_485a_11eb_9cdd_acde48001122row1_col4,#T_6a85f562_485a_11eb_9cdd_acde48001122row4_col14,#T_6a85f562_485a_11eb_9cdd_acde48001122row10_col13,#T_6a85f562_485a_11eb_9cdd_acde48001122row11_col1{\n",
       "            background-color:  #e7a3b0;\n",
       "            color:  #000000;\n",
       "            max-width:  80px;\n",
       "            font-size:  10pt;\n",
       "        }#T_6a85f562_485a_11eb_9cdd_acde48001122row1_col5,#T_6a85f562_485a_11eb_9cdd_acde48001122row2_col6,#T_6a85f562_485a_11eb_9cdd_acde48001122row2_col12,#T_6a85f562_485a_11eb_9cdd_acde48001122row3_col5,#T_6a85f562_485a_11eb_9cdd_acde48001122row5_col16,#T_6a85f562_485a_11eb_9cdd_acde48001122row7_col27,#T_6a85f562_485a_11eb_9cdd_acde48001122row9_col19,#T_6a85f562_485a_11eb_9cdd_acde48001122row11_col13,#T_6a85f562_485a_11eb_9cdd_acde48001122row13_col20,#T_6a85f562_485a_11eb_9cdd_acde48001122row24_col19{\n",
       "            background-color:  #e07389;\n",
       "            color:  #000000;\n",
       "            max-width:  80px;\n",
       "            font-size:  10pt;\n",
       "        }#T_6a85f562_485a_11eb_9cdd_acde48001122row1_col8,#T_6a85f562_485a_11eb_9cdd_acde48001122row4_col18,#T_6a85f562_485a_11eb_9cdd_acde48001122row10_col27,#T_6a85f562_485a_11eb_9cdd_acde48001122row11_col7,#T_6a85f562_485a_11eb_9cdd_acde48001122row14_col11,#T_6a85f562_485a_11eb_9cdd_acde48001122row14_col26,#T_6a85f562_485a_11eb_9cdd_acde48001122row22_col28,#T_6a85f562_485a_11eb_9cdd_acde48001122row25_col28{\n",
       "            background-color:  #dd627b;\n",
       "            color:  #000000;\n",
       "            max-width:  80px;\n",
       "            font-size:  10pt;\n",
       "        }#T_6a85f562_485a_11eb_9cdd_acde48001122row1_col10,#T_6a85f562_485a_11eb_9cdd_acde48001122row4_col23,#T_6a85f562_485a_11eb_9cdd_acde48001122row6_col18,#T_6a85f562_485a_11eb_9cdd_acde48001122row9_col18,#T_6a85f562_485a_11eb_9cdd_acde48001122row9_col27,#T_6a85f562_485a_11eb_9cdd_acde48001122row12_col18,#T_6a85f562_485a_11eb_9cdd_acde48001122row18_col21,#T_6a85f562_485a_11eb_9cdd_acde48001122row22_col9,#T_6a85f562_485a_11eb_9cdd_acde48001122row28_col16{\n",
       "            background-color:  #e38d9e;\n",
       "            color:  #000000;\n",
       "            max-width:  80px;\n",
       "            font-size:  10pt;\n",
       "        }#T_6a85f562_485a_11eb_9cdd_acde48001122row1_col11,#T_6a85f562_485a_11eb_9cdd_acde48001122row2_col1,#T_6a85f562_485a_11eb_9cdd_acde48001122row3_col27,#T_6a85f562_485a_11eb_9cdd_acde48001122row3_col28,#T_6a85f562_485a_11eb_9cdd_acde48001122row5_col2,#T_6a85f562_485a_11eb_9cdd_acde48001122row5_col6,#T_6a85f562_485a_11eb_9cdd_acde48001122row5_col12,#T_6a85f562_485a_11eb_9cdd_acde48001122row11_col23{\n",
       "            background-color:  #df7288;\n",
       "            color:  #000000;\n",
       "            max-width:  80px;\n",
       "            font-size:  10pt;\n",
       "        }#T_6a85f562_485a_11eb_9cdd_acde48001122row1_col13{\n",
       "            background-color:  #db5872;\n",
       "            color:  #000000;\n",
       "            max-width:  80px;\n",
       "            font-size:  10pt;\n",
       "        }#T_6a85f562_485a_11eb_9cdd_acde48001122row1_col15,#T_6a85f562_485a_11eb_9cdd_acde48001122row14_col28,#T_6a85f562_485a_11eb_9cdd_acde48001122row15_col13,#T_6a85f562_485a_11eb_9cdd_acde48001122row22_col3,#T_6a85f562_485a_11eb_9cdd_acde48001122row23_col21,#T_6a85f562_485a_11eb_9cdd_acde48001122row25_col17,#T_6a85f562_485a_11eb_9cdd_acde48001122row26_col0,#T_6a85f562_485a_11eb_9cdd_acde48001122row27_col22{\n",
       "            background-color:  #e599a8;\n",
       "            color:  #000000;\n",
       "            max-width:  80px;\n",
       "            font-size:  10pt;\n",
       "        }#T_6a85f562_485a_11eb_9cdd_acde48001122row1_col16,#T_6a85f562_485a_11eb_9cdd_acde48001122row25_col24{\n",
       "            background-color:  #d83e5d;\n",
       "            color:  #f1f1f1;\n",
       "            max-width:  80px;\n",
       "            font-size:  10pt;\n",
       "        }#T_6a85f562_485a_11eb_9cdd_acde48001122row1_col17,#T_6a85f562_485a_11eb_9cdd_acde48001122row8_col22,#T_6a85f562_485a_11eb_9cdd_acde48001122row9_col24,#T_6a85f562_485a_11eb_9cdd_acde48001122row10_col2,#T_6a85f562_485a_11eb_9cdd_acde48001122row10_col28,#T_6a85f562_485a_11eb_9cdd_acde48001122row25_col1,#T_6a85f562_485a_11eb_9cdd_acde48001122row25_col16{\n",
       "            background-color:  #e597a7;\n",
       "            color:  #000000;\n",
       "            max-width:  80px;\n",
       "            font-size:  10pt;\n",
       "        }#T_6a85f562_485a_11eb_9cdd_acde48001122row1_col19,#T_6a85f562_485a_11eb_9cdd_acde48001122row6_col7,#T_6a85f562_485a_11eb_9cdd_acde48001122row12_col7,#T_6a85f562_485a_11eb_9cdd_acde48001122row13_col25,#T_6a85f562_485a_11eb_9cdd_acde48001122row14_col24,#T_6a85f562_485a_11eb_9cdd_acde48001122row26_col24{\n",
       "            background-color:  #de6980;\n",
       "            color:  #000000;\n",
       "            max-width:  80px;\n",
       "            font-size:  10pt;\n",
       "        }#T_6a85f562_485a_11eb_9cdd_acde48001122row1_col20,#T_6a85f562_485a_11eb_9cdd_acde48001122row1_col28,#T_6a85f562_485a_11eb_9cdd_acde48001122row6_col21,#T_6a85f562_485a_11eb_9cdd_acde48001122row11_col15,#T_6a85f562_485a_11eb_9cdd_acde48001122row12_col21,#T_6a85f562_485a_11eb_9cdd_acde48001122row13_col10,#T_6a85f562_485a_11eb_9cdd_acde48001122row13_col21,#T_6a85f562_485a_11eb_9cdd_acde48001122row14_col8,#T_6a85f562_485a_11eb_9cdd_acde48001122row22_col11{\n",
       "            background-color:  #e17a8f;\n",
       "            color:  #000000;\n",
       "            max-width:  80px;\n",
       "            font-size:  10pt;\n",
       "        }#T_6a85f562_485a_11eb_9cdd_acde48001122row1_col22,#T_6a85f562_485a_11eb_9cdd_acde48001122row2_col5,#T_6a85f562_485a_11eb_9cdd_acde48001122row8_col10{\n",
       "            background-color:  #da506b;\n",
       "            color:  #000000;\n",
       "            max-width:  80px;\n",
       "            font-size:  10pt;\n",
       "        }#T_6a85f562_485a_11eb_9cdd_acde48001122row1_col23,#T_6a85f562_485a_11eb_9cdd_acde48001122row6_col9,#T_6a85f562_485a_11eb_9cdd_acde48001122row6_col10,#T_6a85f562_485a_11eb_9cdd_acde48001122row11_col26,#T_6a85f562_485a_11eb_9cdd_acde48001122row12_col9,#T_6a85f562_485a_11eb_9cdd_acde48001122row12_col10,#T_6a85f562_485a_11eb_9cdd_acde48001122row13_col1{\n",
       "            background-color:  #de667e;\n",
       "            color:  #000000;\n",
       "            max-width:  80px;\n",
       "            font-size:  10pt;\n",
       "        }#T_6a85f562_485a_11eb_9cdd_acde48001122row1_col24,#T_6a85f562_485a_11eb_9cdd_acde48001122row2_col11,#T_6a85f562_485a_11eb_9cdd_acde48001122row2_col19,#T_6a85f562_485a_11eb_9cdd_acde48001122row5_col23,#T_6a85f562_485a_11eb_9cdd_acde48001122row7_col10,#T_6a85f562_485a_11eb_9cdd_acde48001122row15_col24,#T_6a85f562_485a_11eb_9cdd_acde48001122row16_col14,#T_6a85f562_485a_11eb_9cdd_acde48001122row18_col1{\n",
       "            background-color:  #e6a1af;\n",
       "            color:  #000000;\n",
       "            max-width:  80px;\n",
       "            font-size:  10pt;\n",
       "        }#T_6a85f562_485a_11eb_9cdd_acde48001122row2_col0,#T_6a85f562_485a_11eb_9cdd_acde48001122row21_col26,#T_6a85f562_485a_11eb_9cdd_acde48001122row22_col1{\n",
       "            background-color:  #e28194;\n",
       "            color:  #000000;\n",
       "            max-width:  80px;\n",
       "            font-size:  10pt;\n",
       "        }#T_6a85f562_485a_11eb_9cdd_acde48001122row2_col8,#T_6a85f562_485a_11eb_9cdd_acde48001122row2_col21,#T_6a85f562_485a_11eb_9cdd_acde48001122row2_col25,#T_6a85f562_485a_11eb_9cdd_acde48001122row5_col4,#T_6a85f562_485a_11eb_9cdd_acde48001122row5_col27,#T_6a85f562_485a_11eb_9cdd_acde48001122row7_col24,#T_6a85f562_485a_11eb_9cdd_acde48001122row19_col20,#T_6a85f562_485a_11eb_9cdd_acde48001122row19_col28{\n",
       "            background-color:  #e17c90;\n",
       "            color:  #000000;\n",
       "            max-width:  80px;\n",
       "            font-size:  10pt;\n",
       "        }#T_6a85f562_485a_11eb_9cdd_acde48001122row2_col13,#T_6a85f562_485a_11eb_9cdd_acde48001122row3_col4,#T_6a85f562_485a_11eb_9cdd_acde48001122row6_col11,#T_6a85f562_485a_11eb_9cdd_acde48001122row12_col11,#T_6a85f562_485a_11eb_9cdd_acde48001122row14_col0{\n",
       "            background-color:  #d94865;\n",
       "            color:  #000000;\n",
       "            max-width:  80px;\n",
       "            font-size:  10pt;\n",
       "        }#T_6a85f562_485a_11eb_9cdd_acde48001122row2_col16,#T_6a85f562_485a_11eb_9cdd_acde48001122row4_col16,#T_6a85f562_485a_11eb_9cdd_acde48001122row8_col9,#T_6a85f562_485a_11eb_9cdd_acde48001122row9_col0,#T_6a85f562_485a_11eb_9cdd_acde48001122row16_col15{\n",
       "            background-color:  #df7086;\n",
       "            color:  #000000;\n",
       "            max-width:  80px;\n",
       "            font-size:  10pt;\n",
       "        }#T_6a85f562_485a_11eb_9cdd_acde48001122row2_col17,#T_6a85f562_485a_11eb_9cdd_acde48001122row5_col1,#T_6a85f562_485a_11eb_9cdd_acde48001122row10_col19,#T_6a85f562_485a_11eb_9cdd_acde48001122row11_col16,#T_6a85f562_485a_11eb_9cdd_acde48001122row25_col0,#T_6a85f562_485a_11eb_9cdd_acde48001122row27_col10,#T_6a85f562_485a_11eb_9cdd_acde48001122row28_col26{\n",
       "            background-color:  #e7a5b2;\n",
       "            color:  #000000;\n",
       "            max-width:  80px;\n",
       "            font-size:  10pt;\n",
       "        }#T_6a85f562_485a_11eb_9cdd_acde48001122row2_col18,#T_6a85f562_485a_11eb_9cdd_acde48001122row5_col9,#T_6a85f562_485a_11eb_9cdd_acde48001122row14_col3{\n",
       "            background-color:  #dc5e77;\n",
       "            color:  #000000;\n",
       "            max-width:  80px;\n",
       "            font-size:  10pt;\n",
       "        }#T_6a85f562_485a_11eb_9cdd_acde48001122row2_col22,#T_6a85f562_485a_11eb_9cdd_acde48001122row4_col19,#T_6a85f562_485a_11eb_9cdd_acde48001122row5_col24,#T_6a85f562_485a_11eb_9cdd_acde48001122row9_col4,#T_6a85f562_485a_11eb_9cdd_acde48001122row10_col9,#T_6a85f562_485a_11eb_9cdd_acde48001122row14_col10,#T_6a85f562_485a_11eb_9cdd_acde48001122row15_col14,#T_6a85f562_485a_11eb_9cdd_acde48001122row22_col10{\n",
       "            background-color:  #e38b9d;\n",
       "            color:  #000000;\n",
       "            max-width:  80px;\n",
       "            font-size:  10pt;\n",
       "        }#T_6a85f562_485a_11eb_9cdd_acde48001122row2_col23,#T_6a85f562_485a_11eb_9cdd_acde48001122row4_col26,#T_6a85f562_485a_11eb_9cdd_acde48001122row6_col25,#T_6a85f562_485a_11eb_9cdd_acde48001122row12_col25{\n",
       "            background-color:  #de687f;\n",
       "            color:  #000000;\n",
       "            max-width:  80px;\n",
       "            font-size:  10pt;\n",
       "        }#T_6a85f562_485a_11eb_9cdd_acde48001122row2_col27,#T_6a85f562_485a_11eb_9cdd_acde48001122row2_col28,#T_6a85f562_485a_11eb_9cdd_acde48001122row7_col4,#T_6a85f562_485a_11eb_9cdd_acde48001122row10_col7,#T_6a85f562_485a_11eb_9cdd_acde48001122row11_col14,#T_6a85f562_485a_11eb_9cdd_acde48001122row13_col23,#T_6a85f562_485a_11eb_9cdd_acde48001122row15_col21{\n",
       "            background-color:  #e491a1;\n",
       "            color:  #000000;\n",
       "            max-width:  80px;\n",
       "            font-size:  10pt;\n",
       "        }#T_6a85f562_485a_11eb_9cdd_acde48001122row3_col1,#T_6a85f562_485a_11eb_9cdd_acde48001122row6_col27,#T_6a85f562_485a_11eb_9cdd_acde48001122row6_col28,#T_6a85f562_485a_11eb_9cdd_acde48001122row12_col27,#T_6a85f562_485a_11eb_9cdd_acde48001122row12_col28,#T_6a85f562_485a_11eb_9cdd_acde48001122row13_col18{\n",
       "            background-color:  #dd637c;\n",
       "            color:  #000000;\n",
       "            max-width:  80px;\n",
       "            font-size:  10pt;\n",
       "        }#T_6a85f562_485a_11eb_9cdd_acde48001122row3_col2,#T_6a85f562_485a_11eb_9cdd_acde48001122row3_col15{\n",
       "            background-color:  #da4d69;\n",
       "            color:  #000000;\n",
       "            max-width:  80px;\n",
       "            font-size:  10pt;\n",
       "        }#T_6a85f562_485a_11eb_9cdd_acde48001122row3_col6,#T_6a85f562_485a_11eb_9cdd_acde48001122row3_col12{\n",
       "            background-color:  #db5771;\n",
       "            color:  #000000;\n",
       "            max-width:  80px;\n",
       "            font-size:  10pt;\n",
       "        }#T_6a85f562_485a_11eb_9cdd_acde48001122row3_col7,#T_6a85f562_485a_11eb_9cdd_acde48001122row3_col22,#T_6a85f562_485a_11eb_9cdd_acde48001122row14_col6,#T_6a85f562_485a_11eb_9cdd_acde48001122row14_col12{\n",
       "            background-color:  #db546f;\n",
       "            color:  #000000;\n",
       "            max-width:  80px;\n",
       "            font-size:  10pt;\n",
       "        }#T_6a85f562_485a_11eb_9cdd_acde48001122row3_col9,#T_6a85f562_485a_11eb_9cdd_acde48001122row5_col25,#T_6a85f562_485a_11eb_9cdd_acde48001122row7_col9,#T_6a85f562_485a_11eb_9cdd_acde48001122row15_col1,#T_6a85f562_485a_11eb_9cdd_acde48001122row15_col6,#T_6a85f562_485a_11eb_9cdd_acde48001122row15_col12,#T_6a85f562_485a_11eb_9cdd_acde48001122row18_col9,#T_6a85f562_485a_11eb_9cdd_acde48001122row21_col14,#T_6a85f562_485a_11eb_9cdd_acde48001122row21_col15,#T_6a85f562_485a_11eb_9cdd_acde48001122row26_col4{\n",
       "            background-color:  #ecc6ce;\n",
       "            color:  #000000;\n",
       "            max-width:  80px;\n",
       "            font-size:  10pt;\n",
       "        }#T_6a85f562_485a_11eb_9cdd_acde48001122row3_col10,#T_6a85f562_485a_11eb_9cdd_acde48001122row3_col19,#T_6a85f562_485a_11eb_9cdd_acde48001122row6_col14,#T_6a85f562_485a_11eb_9cdd_acde48001122row12_col14{\n",
       "            background-color:  #da516c;\n",
       "            color:  #000000;\n",
       "            max-width:  80px;\n",
       "            font-size:  10pt;\n",
       "        }#T_6a85f562_485a_11eb_9cdd_acde48001122row3_col14{\n",
       "            background-color:  #d8415f;\n",
       "            color:  #f1f1f1;\n",
       "            max-width:  80px;\n",
       "            font-size:  10pt;\n",
       "        }#T_6a85f562_485a_11eb_9cdd_acde48001122row3_col16{\n",
       "            background-color:  #d73d5c;\n",
       "            color:  #f1f1f1;\n",
       "            max-width:  80px;\n",
       "            font-size:  10pt;\n",
       "        }#T_6a85f562_485a_11eb_9cdd_acde48001122row3_col17,#T_6a85f562_485a_11eb_9cdd_acde48001122row6_col8,#T_6a85f562_485a_11eb_9cdd_acde48001122row7_col28,#T_6a85f562_485a_11eb_9cdd_acde48001122row10_col4,#T_6a85f562_485a_11eb_9cdd_acde48001122row11_col3,#T_6a85f562_485a_11eb_9cdd_acde48001122row12_col8,#T_6a85f562_485a_11eb_9cdd_acde48001122row13_col5,#T_6a85f562_485a_11eb_9cdd_acde48001122row14_col23,#T_6a85f562_485a_11eb_9cdd_acde48001122row14_col25,#T_6a85f562_485a_11eb_9cdd_acde48001122row15_col26{\n",
       "            background-color:  #e3889a;\n",
       "            color:  #000000;\n",
       "            max-width:  80px;\n",
       "            font-size:  10pt;\n",
       "        }#T_6a85f562_485a_11eb_9cdd_acde48001122row3_col18,#T_6a85f562_485a_11eb_9cdd_acde48001122row3_col26,#T_6a85f562_485a_11eb_9cdd_acde48001122row22_col27{\n",
       "            background-color:  #d94a67;\n",
       "            color:  #000000;\n",
       "            max-width:  80px;\n",
       "            font-size:  10pt;\n",
       "        }#T_6a85f562_485a_11eb_9cdd_acde48001122row3_col21,#T_6a85f562_485a_11eb_9cdd_acde48001122row4_col9,#T_6a85f562_485a_11eb_9cdd_acde48001122row4_col28,#T_6a85f562_485a_11eb_9cdd_acde48001122row10_col21,#T_6a85f562_485a_11eb_9cdd_acde48001122row14_col27,#T_6a85f562_485a_11eb_9cdd_acde48001122row22_col8,#T_6a85f562_485a_11eb_9cdd_acde48001122row22_col23,#T_6a85f562_485a_11eb_9cdd_acde48001122row25_col11{\n",
       "            background-color:  #e18093;\n",
       "            color:  #000000;\n",
       "            max-width:  80px;\n",
       "            font-size:  10pt;\n",
       "        }#T_6a85f562_485a_11eb_9cdd_acde48001122row3_col24,#T_6a85f562_485a_11eb_9cdd_acde48001122row13_col8,#T_6a85f562_485a_11eb_9cdd_acde48001122row13_col15{\n",
       "            background-color:  #df6d84;\n",
       "            color:  #000000;\n",
       "            max-width:  80px;\n",
       "            font-size:  10pt;\n",
       "        }#T_6a85f562_485a_11eb_9cdd_acde48001122row3_col25,#T_6a85f562_485a_11eb_9cdd_acde48001122row5_col0,#T_6a85f562_485a_11eb_9cdd_acde48001122row10_col11,#T_6a85f562_485a_11eb_9cdd_acde48001122row11_col9{\n",
       "            background-color:  #db526e;\n",
       "            color:  #000000;\n",
       "            max-width:  80px;\n",
       "            font-size:  10pt;\n",
       "        }#T_6a85f562_485a_11eb_9cdd_acde48001122row4_col0,#T_6a85f562_485a_11eb_9cdd_acde48001122row7_col3,#T_6a85f562_485a_11eb_9cdd_acde48001122row10_col25,#T_6a85f562_485a_11eb_9cdd_acde48001122row15_col4,#T_6a85f562_485a_11eb_9cdd_acde48001122row15_col8,#T_6a85f562_485a_11eb_9cdd_acde48001122row22_col16,#T_6a85f562_485a_11eb_9cdd_acde48001122row25_col10{\n",
       "            background-color:  #e8aeba;\n",
       "            color:  #000000;\n",
       "            max-width:  80px;\n",
       "            font-size:  10pt;\n",
       "        }#T_6a85f562_485a_11eb_9cdd_acde48001122row4_col1,#T_6a85f562_485a_11eb_9cdd_acde48001122row7_col2,#T_6a85f562_485a_11eb_9cdd_acde48001122row17_col23,#T_6a85f562_485a_11eb_9cdd_acde48001122row20_col0,#T_6a85f562_485a_11eb_9cdd_acde48001122row21_col25,#T_6a85f562_485a_11eb_9cdd_acde48001122row26_col8{\n",
       "            background-color:  #e9b4be;\n",
       "            color:  #000000;\n",
       "            max-width:  80px;\n",
       "            font-size:  10pt;\n",
       "        }#T_6a85f562_485a_11eb_9cdd_acde48001122row4_col5,#T_6a85f562_485a_11eb_9cdd_acde48001122row13_col24,#T_6a85f562_485a_11eb_9cdd_acde48001122row18_col27{\n",
       "            background-color:  #dc5973;\n",
       "            color:  #000000;\n",
       "            max-width:  80px;\n",
       "            font-size:  10pt;\n",
       "        }#T_6a85f562_485a_11eb_9cdd_acde48001122row4_col6,#T_6a85f562_485a_11eb_9cdd_acde48001122row4_col12,#T_6a85f562_485a_11eb_9cdd_acde48001122row6_col3,#T_6a85f562_485a_11eb_9cdd_acde48001122row12_col3,#T_6a85f562_485a_11eb_9cdd_acde48001122row13_col19,#T_6a85f562_485a_11eb_9cdd_acde48001122row14_col19{\n",
       "            background-color:  #df6f85;\n",
       "            color:  #000000;\n",
       "            max-width:  80px;\n",
       "            font-size:  10pt;\n",
       "        }#T_6a85f562_485a_11eb_9cdd_acde48001122row4_col11,#T_6a85f562_485a_11eb_9cdd_acde48001122row6_col13,#T_6a85f562_485a_11eb_9cdd_acde48001122row7_col21,#T_6a85f562_485a_11eb_9cdd_acde48001122row12_col13,#T_6a85f562_485a_11eb_9cdd_acde48001122row13_col22,#T_6a85f562_485a_11eb_9cdd_acde48001122row14_col4,#T_6a85f562_485a_11eb_9cdd_acde48001122row19_col0,#T_6a85f562_485a_11eb_9cdd_acde48001122row22_col6,#T_6a85f562_485a_11eb_9cdd_acde48001122row22_col12,#T_6a85f562_485a_11eb_9cdd_acde48001122row24_col25,#T_6a85f562_485a_11eb_9cdd_acde48001122row28_col22{\n",
       "            background-color:  #e595a5;\n",
       "            color:  #000000;\n",
       "            max-width:  80px;\n",
       "            font-size:  10pt;\n",
       "        }#T_6a85f562_485a_11eb_9cdd_acde48001122row4_col13,#T_6a85f562_485a_11eb_9cdd_acde48001122row7_col25,#T_6a85f562_485a_11eb_9cdd_acde48001122row9_col7,#T_6a85f562_485a_11eb_9cdd_acde48001122row16_col5,#T_6a85f562_485a_11eb_9cdd_acde48001122row22_col2,#T_6a85f562_485a_11eb_9cdd_acde48001122row22_col15,#T_6a85f562_485a_11eb_9cdd_acde48001122row27_col7{\n",
       "            background-color:  #e7a4b1;\n",
       "            color:  #000000;\n",
       "            max-width:  80px;\n",
       "            font-size:  10pt;\n",
       "        }#T_6a85f562_485a_11eb_9cdd_acde48001122row4_col15,#T_6a85f562_485a_11eb_9cdd_acde48001122row4_col27,#T_6a85f562_485a_11eb_9cdd_acde48001122row22_col17,#T_6a85f562_485a_11eb_9cdd_acde48001122row28_col25{\n",
       "            background-color:  #e48e9f;\n",
       "            color:  #000000;\n",
       "            max-width:  80px;\n",
       "            font-size:  10pt;\n",
       "        }#T_6a85f562_485a_11eb_9cdd_acde48001122row4_col21,#T_6a85f562_485a_11eb_9cdd_acde48001122row6_col15,#T_6a85f562_485a_11eb_9cdd_acde48001122row7_col15,#T_6a85f562_485a_11eb_9cdd_acde48001122row10_col6,#T_6a85f562_485a_11eb_9cdd_acde48001122row10_col12,#T_6a85f562_485a_11eb_9cdd_acde48001122row12_col15,#T_6a85f562_485a_11eb_9cdd_acde48001122row20_col19,#T_6a85f562_485a_11eb_9cdd_acde48001122row21_col5,#T_6a85f562_485a_11eb_9cdd_acde48001122row24_col22{\n",
       "            background-color:  #e59aa9;\n",
       "            color:  #000000;\n",
       "            max-width:  80px;\n",
       "            font-size:  10pt;\n",
       "        }#T_6a85f562_485a_11eb_9cdd_acde48001122row5_col7,#T_6a85f562_485a_11eb_9cdd_acde48001122row10_col1,#T_6a85f562_485a_11eb_9cdd_acde48001122row16_col2,#T_6a85f562_485a_11eb_9cdd_acde48001122row16_col4,#T_6a85f562_485a_11eb_9cdd_acde48001122row18_col3,#T_6a85f562_485a_11eb_9cdd_acde48001122row18_col14,#T_6a85f562_485a_11eb_9cdd_acde48001122row21_col7,#T_6a85f562_485a_11eb_9cdd_acde48001122row27_col5,#T_6a85f562_485a_11eb_9cdd_acde48001122row27_col16,#T_6a85f562_485a_11eb_9cdd_acde48001122row28_col6,#T_6a85f562_485a_11eb_9cdd_acde48001122row28_col10,#T_6a85f562_485a_11eb_9cdd_acde48001122row28_col12{\n",
       "            background-color:  #eabcc5;\n",
       "            color:  #000000;\n",
       "            max-width:  80px;\n",
       "            font-size:  10pt;\n",
       "        }#T_6a85f562_485a_11eb_9cdd_acde48001122row5_col10,#T_6a85f562_485a_11eb_9cdd_acde48001122row5_col18,#T_6a85f562_485a_11eb_9cdd_acde48001122row16_col7,#T_6a85f562_485a_11eb_9cdd_acde48001122row20_col8,#T_6a85f562_485a_11eb_9cdd_acde48001122row27_col14,#T_6a85f562_485a_11eb_9cdd_acde48001122row28_col14{\n",
       "            background-color:  #f0e1e4;\n",
       "            color:  #000000;\n",
       "            max-width:  80px;\n",
       "            font-size:  10pt;\n",
       "        }#T_6a85f562_485a_11eb_9cdd_acde48001122row5_col13,#T_6a85f562_485a_11eb_9cdd_acde48001122row7_col6,#T_6a85f562_485a_11eb_9cdd_acde48001122row7_col12,#T_6a85f562_485a_11eb_9cdd_acde48001122row7_col14,#T_6a85f562_485a_11eb_9cdd_acde48001122row9_col13,#T_6a85f562_485a_11eb_9cdd_acde48001122row15_col22,#T_6a85f562_485a_11eb_9cdd_acde48001122row15_col23,#T_6a85f562_485a_11eb_9cdd_acde48001122row16_col27,#T_6a85f562_485a_11eb_9cdd_acde48001122row18_col4,#T_6a85f562_485a_11eb_9cdd_acde48001122row19_col7,#T_6a85f562_485a_11eb_9cdd_acde48001122row27_col13{\n",
       "            background-color:  #e8adb8;\n",
       "            color:  #000000;\n",
       "            max-width:  80px;\n",
       "            font-size:  10pt;\n",
       "        }#T_6a85f562_485a_11eb_9cdd_acde48001122row5_col14,#T_6a85f562_485a_11eb_9cdd_acde48001122row8_col6,#T_6a85f562_485a_11eb_9cdd_acde48001122row8_col12,#T_6a85f562_485a_11eb_9cdd_acde48001122row10_col18,#T_6a85f562_485a_11eb_9cdd_acde48001122row13_col26,#T_6a85f562_485a_11eb_9cdd_acde48001122row15_col10,#T_6a85f562_485a_11eb_9cdd_acde48001122row16_col0,#T_6a85f562_485a_11eb_9cdd_acde48001122row19_col4,#T_6a85f562_485a_11eb_9cdd_acde48001122row20_col3,#T_6a85f562_485a_11eb_9cdd_acde48001122row28_col4{\n",
       "            background-color:  #ecc5cc;\n",
       "            color:  #000000;\n",
       "            max-width:  80px;\n",
       "            font-size:  10pt;\n",
       "        }#T_6a85f562_485a_11eb_9cdd_acde48001122row5_col15,#T_6a85f562_485a_11eb_9cdd_acde48001122row5_col19,#T_6a85f562_485a_11eb_9cdd_acde48001122row7_col26,#T_6a85f562_485a_11eb_9cdd_acde48001122row10_col15,#T_6a85f562_485a_11eb_9cdd_acde48001122row17_col19,#T_6a85f562_485a_11eb_9cdd_acde48001122row28_col13{\n",
       "            background-color:  #ecc3cb;\n",
       "            color:  #000000;\n",
       "            max-width:  80px;\n",
       "            font-size:  10pt;\n",
       "        }#T_6a85f562_485a_11eb_9cdd_acde48001122row5_col17,#T_6a85f562_485a_11eb_9cdd_acde48001122row8_col14,#T_6a85f562_485a_11eb_9cdd_acde48001122row8_col28,#T_6a85f562_485a_11eb_9cdd_acde48001122row9_col28,#T_6a85f562_485a_11eb_9cdd_acde48001122row10_col14,#T_6a85f562_485a_11eb_9cdd_acde48001122row13_col7,#T_6a85f562_485a_11eb_9cdd_acde48001122row15_col20,#T_6a85f562_485a_11eb_9cdd_acde48001122row19_col17,#T_6a85f562_485a_11eb_9cdd_acde48001122row20_col27,#T_6a85f562_485a_11eb_9cdd_acde48001122row24_col7{\n",
       "            background-color:  #eab7c1;\n",
       "            color:  #000000;\n",
       "            max-width:  80px;\n",
       "            font-size:  10pt;\n",
       "        }#T_6a85f562_485a_11eb_9cdd_acde48001122row5_col20,#T_6a85f562_485a_11eb_9cdd_acde48001122row8_col19,#T_6a85f562_485a_11eb_9cdd_acde48001122row8_col24,#T_6a85f562_485a_11eb_9cdd_acde48001122row14_col17,#T_6a85f562_485a_11eb_9cdd_acde48001122row16_col13,#T_6a85f562_485a_11eb_9cdd_acde48001122row25_col5,#T_6a85f562_485a_11eb_9cdd_acde48001122row25_col8{\n",
       "            background-color:  #ecc9d0;\n",
       "            color:  #000000;\n",
       "            max-width:  80px;\n",
       "            font-size:  10pt;\n",
       "        }#T_6a85f562_485a_11eb_9cdd_acde48001122row5_col22,#T_6a85f562_485a_11eb_9cdd_acde48001122row20_col7,#T_6a85f562_485a_11eb_9cdd_acde48001122row23_col17,#T_6a85f562_485a_11eb_9cdd_acde48001122row23_col22{\n",
       "            background-color:  #edcdd3;\n",
       "            color:  #000000;\n",
       "            max-width:  80px;\n",
       "            font-size:  10pt;\n",
       "        }#T_6a85f562_485a_11eb_9cdd_acde48001122row5_col26,#T_6a85f562_485a_11eb_9cdd_acde48001122row16_col1,#T_6a85f562_485a_11eb_9cdd_acde48001122row17_col10,#T_6a85f562_485a_11eb_9cdd_acde48001122row18_col2,#T_6a85f562_485a_11eb_9cdd_acde48001122row19_col11{\n",
       "            background-color:  #e8aab6;\n",
       "            color:  #000000;\n",
       "            max-width:  80px;\n",
       "            font-size:  10pt;\n",
       "        }#T_6a85f562_485a_11eb_9cdd_acde48001122row5_col28,#T_6a85f562_485a_11eb_9cdd_acde48001122row14_col20,#T_6a85f562_485a_11eb_9cdd_acde48001122row17_col15,#T_6a85f562_485a_11eb_9cdd_acde48001122row22_col14,#T_6a85f562_485a_11eb_9cdd_acde48001122row28_col19{\n",
       "            background-color:  #e28799;\n",
       "            color:  #000000;\n",
       "            max-width:  80px;\n",
       "            font-size:  10pt;\n",
       "        }#T_6a85f562_485a_11eb_9cdd_acde48001122row6_col1,#T_6a85f562_485a_11eb_9cdd_acde48001122row11_col6,#T_6a85f562_485a_11eb_9cdd_acde48001122row11_col12,#T_6a85f562_485a_11eb_9cdd_acde48001122row11_col20,#T_6a85f562_485a_11eb_9cdd_acde48001122row11_col22,#T_6a85f562_485a_11eb_9cdd_acde48001122row12_col1,#T_6a85f562_485a_11eb_9cdd_acde48001122row15_col11,#T_6a85f562_485a_11eb_9cdd_acde48001122row25_col26{\n",
       "            background-color:  #e17e92;\n",
       "            color:  #000000;\n",
       "            max-width:  80px;\n",
       "            font-size:  10pt;\n",
       "        }#T_6a85f562_485a_11eb_9cdd_acde48001122row6_col4,#T_6a85f562_485a_11eb_9cdd_acde48001122row12_col4,#T_6a85f562_485a_11eb_9cdd_acde48001122row14_col22{\n",
       "            background-color:  #dc5b75;\n",
       "            color:  #000000;\n",
       "            max-width:  80px;\n",
       "            font-size:  10pt;\n",
       "        }#T_6a85f562_485a_11eb_9cdd_acde48001122row6_col17,#T_6a85f562_485a_11eb_9cdd_acde48001122row9_col2,#T_6a85f562_485a_11eb_9cdd_acde48001122row12_col17{\n",
       "            background-color:  #e28396;\n",
       "            color:  #000000;\n",
       "            max-width:  80px;\n",
       "            font-size:  10pt;\n",
       "        }#T_6a85f562_485a_11eb_9cdd_acde48001122row7_col1,#T_6a85f562_485a_11eb_9cdd_acde48001122row13_col6,#T_6a85f562_485a_11eb_9cdd_acde48001122row13_col12,#T_6a85f562_485a_11eb_9cdd_acde48001122row14_col5,#T_6a85f562_485a_11eb_9cdd_acde48001122row25_col3{\n",
       "            background-color:  #e69ead;\n",
       "            color:  #000000;\n",
       "            max-width:  80px;\n",
       "            font-size:  10pt;\n",
       "        }#T_6a85f562_485a_11eb_9cdd_acde48001122row7_col5,#T_6a85f562_485a_11eb_9cdd_acde48001122row7_col16,#T_6a85f562_485a_11eb_9cdd_acde48001122row17_col9,#T_6a85f562_485a_11eb_9cdd_acde48001122row24_col13,#T_6a85f562_485a_11eb_9cdd_acde48001122row24_col16,#T_6a85f562_485a_11eb_9cdd_acde48001122row26_col14{\n",
       "            background-color:  #edccd2;\n",
       "            color:  #000000;\n",
       "            max-width:  80px;\n",
       "            font-size:  10pt;\n",
       "        }#T_6a85f562_485a_11eb_9cdd_acde48001122row7_col11,#T_6a85f562_485a_11eb_9cdd_acde48001122row9_col25,#T_6a85f562_485a_11eb_9cdd_acde48001122row10_col24,#T_6a85f562_485a_11eb_9cdd_acde48001122row13_col28,#T_6a85f562_485a_11eb_9cdd_acde48001122row24_col26,#T_6a85f562_485a_11eb_9cdd_acde48001122row25_col20{\n",
       "            background-color:  #e0778c;\n",
       "            color:  #000000;\n",
       "            max-width:  80px;\n",
       "            font-size:  10pt;\n",
       "        }#T_6a85f562_485a_11eb_9cdd_acde48001122row7_col13,#T_6a85f562_485a_11eb_9cdd_acde48001122row10_col5,#T_6a85f562_485a_11eb_9cdd_acde48001122row10_col23,#T_6a85f562_485a_11eb_9cdd_acde48001122row18_col10,#T_6a85f562_485a_11eb_9cdd_acde48001122row18_col20,#T_6a85f562_485a_11eb_9cdd_acde48001122row20_col14,#T_6a85f562_485a_11eb_9cdd_acde48001122row23_col5,#T_6a85f562_485a_11eb_9cdd_acde48001122row27_col2,#T_6a85f562_485a_11eb_9cdd_acde48001122row27_col15{\n",
       "            background-color:  #f0e3e5;\n",
       "            color:  #000000;\n",
       "            max-width:  80px;\n",
       "            font-size:  10pt;\n",
       "        }#T_6a85f562_485a_11eb_9cdd_acde48001122row7_col17,#T_6a85f562_485a_11eb_9cdd_acde48001122row7_col19,#T_6a85f562_485a_11eb_9cdd_acde48001122row21_col18,#T_6a85f562_485a_11eb_9cdd_acde48001122row28_col7{\n",
       "            background-color:  #e6a0ae;\n",
       "            color:  #000000;\n",
       "            max-width:  80px;\n",
       "            font-size:  10pt;\n",
       "        }#T_6a85f562_485a_11eb_9cdd_acde48001122row7_col18,#T_6a85f562_485a_11eb_9cdd_acde48001122row16_col22,#T_6a85f562_485a_11eb_9cdd_acde48001122row20_col9,#T_6a85f562_485a_11eb_9cdd_acde48001122row26_col22,#T_6a85f562_485a_11eb_9cdd_acde48001122row27_col9{\n",
       "            background-color:  #efd9dd;\n",
       "            color:  #000000;\n",
       "            max-width:  80px;\n",
       "            font-size:  10pt;\n",
       "        }#T_6a85f562_485a_11eb_9cdd_acde48001122row7_col22,#T_6a85f562_485a_11eb_9cdd_acde48001122row18_col26,#T_6a85f562_485a_11eb_9cdd_acde48001122row28_col17{\n",
       "            background-color:  #dfe5ed;\n",
       "            color:  #000000;\n",
       "            max-width:  80px;\n",
       "            font-size:  10pt;\n",
       "        }#T_6a85f562_485a_11eb_9cdd_acde48001122row7_col23,#T_6a85f562_485a_11eb_9cdd_acde48001122row16_col6,#T_6a85f562_485a_11eb_9cdd_acde48001122row16_col12,#T_6a85f562_485a_11eb_9cdd_acde48001122row20_col22,#T_6a85f562_485a_11eb_9cdd_acde48001122row21_col22{\n",
       "            background-color:  #e9afbb;\n",
       "            color:  #000000;\n",
       "            max-width:  80px;\n",
       "            font-size:  10pt;\n",
       "        }#T_6a85f562_485a_11eb_9cdd_acde48001122row8_col2,#T_6a85f562_485a_11eb_9cdd_acde48001122row16_col8,#T_6a85f562_485a_11eb_9cdd_acde48001122row26_col11{\n",
       "            background-color:  #e8abb7;\n",
       "            color:  #000000;\n",
       "            max-width:  80px;\n",
       "            font-size:  10pt;\n",
       "        }#T_6a85f562_485a_11eb_9cdd_acde48001122row8_col3,#T_6a85f562_485a_11eb_9cdd_acde48001122row15_col19,#T_6a85f562_485a_11eb_9cdd_acde48001122row16_col21,#T_6a85f562_485a_11eb_9cdd_acde48001122row17_col20,#T_6a85f562_485a_11eb_9cdd_acde48001122row17_col22,#T_6a85f562_485a_11eb_9cdd_acde48001122row19_col10,#T_6a85f562_485a_11eb_9cdd_acde48001122row23_col11{\n",
       "            background-color:  #ebbfc8;\n",
       "            color:  #000000;\n",
       "            max-width:  80px;\n",
       "            font-size:  10pt;\n",
       "        }#T_6a85f562_485a_11eb_9cdd_acde48001122row8_col11{\n",
       "            background-color:  #dae1eb;\n",
       "            color:  #000000;\n",
       "            max-width:  80px;\n",
       "            font-size:  10pt;\n",
       "        }#T_6a85f562_485a_11eb_9cdd_acde48001122row8_col13,#T_6a85f562_485a_11eb_9cdd_acde48001122row9_col21,#T_6a85f562_485a_11eb_9cdd_acde48001122row9_col26{\n",
       "            background-color:  #e7a7b4;\n",
       "            color:  #000000;\n",
       "            max-width:  80px;\n",
       "            font-size:  10pt;\n",
       "        }#T_6a85f562_485a_11eb_9cdd_acde48001122row8_col15,#T_6a85f562_485a_11eb_9cdd_acde48001122row10_col16,#T_6a85f562_485a_11eb_9cdd_acde48001122row11_col2,#T_6a85f562_485a_11eb_9cdd_acde48001122row19_col1,#T_6a85f562_485a_11eb_9cdd_acde48001122row19_col14,#T_6a85f562_485a_11eb_9cdd_acde48001122row20_col11,#T_6a85f562_485a_11eb_9cdd_acde48001122row26_col25,#T_6a85f562_485a_11eb_9cdd_acde48001122row26_col28,#T_6a85f562_485a_11eb_9cdd_acde48001122row27_col20{\n",
       "            background-color:  #eabbc4;\n",
       "            color:  #000000;\n",
       "            max-width:  80px;\n",
       "            font-size:  10pt;\n",
       "        }#T_6a85f562_485a_11eb_9cdd_acde48001122row8_col17,#T_6a85f562_485a_11eb_9cdd_acde48001122row17_col4,#T_6a85f562_485a_11eb_9cdd_acde48001122row17_col6,#T_6a85f562_485a_11eb_9cdd_acde48001122row17_col12,#T_6a85f562_485a_11eb_9cdd_acde48001122row28_col3,#T_6a85f562_485a_11eb_9cdd_acde48001122row28_col21{\n",
       "            background-color:  #efd7dc;\n",
       "            color:  #000000;\n",
       "            max-width:  80px;\n",
       "            font-size:  10pt;\n",
       "        }#T_6a85f562_485a_11eb_9cdd_acde48001122row8_col18,#T_6a85f562_485a_11eb_9cdd_acde48001122row17_col25,#T_6a85f562_485a_11eb_9cdd_acde48001122row26_col15{\n",
       "            background-color:  #ebc2ca;\n",
       "            color:  #000000;\n",
       "            max-width:  80px;\n",
       "            font-size:  10pt;\n",
       "        }#T_6a85f562_485a_11eb_9cdd_acde48001122row8_col20,#T_6a85f562_485a_11eb_9cdd_acde48001122row16_col25,#T_6a85f562_485a_11eb_9cdd_acde48001122row24_col10{\n",
       "            background-color:  #ebc1c9;\n",
       "            color:  #000000;\n",
       "            max-width:  80px;\n",
       "            font-size:  10pt;\n",
       "        }#T_6a85f562_485a_11eb_9cdd_acde48001122row8_col21,#T_6a85f562_485a_11eb_9cdd_acde48001122row11_col4,#T_6a85f562_485a_11eb_9cdd_acde48001122row20_col25{\n",
       "            background-color:  #e9b2bd;\n",
       "            color:  #000000;\n",
       "            max-width:  80px;\n",
       "            font-size:  10pt;\n",
       "        }#T_6a85f562_485a_11eb_9cdd_acde48001122row8_col23,#T_6a85f562_485a_11eb_9cdd_acde48001122row16_col3,#T_6a85f562_485a_11eb_9cdd_acde48001122row17_col26,#T_6a85f562_485a_11eb_9cdd_acde48001122row19_col3,#T_6a85f562_485a_11eb_9cdd_acde48001122row23_col0{\n",
       "            background-color:  #eab8c2;\n",
       "            color:  #000000;\n",
       "            max-width:  80px;\n",
       "            font-size:  10pt;\n",
       "        }#T_6a85f562_485a_11eb_9cdd_acde48001122row8_col25,#T_6a85f562_485a_11eb_9cdd_acde48001122row19_col2,#T_6a85f562_485a_11eb_9cdd_acde48001122row19_col15,#T_6a85f562_485a_11eb_9cdd_acde48001122row21_col8,#T_6a85f562_485a_11eb_9cdd_acde48001122row26_col1{\n",
       "            background-color:  #eed6db;\n",
       "            color:  #000000;\n",
       "            max-width:  80px;\n",
       "            font-size:  10pt;\n",
       "        }#T_6a85f562_485a_11eb_9cdd_acde48001122row8_col27,#T_6a85f562_485a_11eb_9cdd_acde48001122row16_col9,#T_6a85f562_485a_11eb_9cdd_acde48001122row16_col23,#T_6a85f562_485a_11eb_9cdd_acde48001122row17_col1,#T_6a85f562_485a_11eb_9cdd_acde48001122row20_col16,#T_6a85f562_485a_11eb_9cdd_acde48001122row22_col25,#T_6a85f562_485a_11eb_9cdd_acde48001122row23_col9,#T_6a85f562_485a_11eb_9cdd_acde48001122row28_col9{\n",
       "            background-color:  #f1e7e9;\n",
       "            color:  #000000;\n",
       "            max-width:  80px;\n",
       "            font-size:  10pt;\n",
       "        }#T_6a85f562_485a_11eb_9cdd_acde48001122row9_col3,#T_6a85f562_485a_11eb_9cdd_acde48001122row17_col3,#T_6a85f562_485a_11eb_9cdd_acde48001122row18_col7,#T_6a85f562_485a_11eb_9cdd_acde48001122row23_col4,#T_6a85f562_485a_11eb_9cdd_acde48001122row24_col2{\n",
       "            background-color:  #f1eaeb;\n",
       "            color:  #000000;\n",
       "            max-width:  80px;\n",
       "            font-size:  10pt;\n",
       "        }#T_6a85f562_485a_11eb_9cdd_acde48001122row9_col5,#T_6a85f562_485a_11eb_9cdd_acde48001122row13_col0{\n",
       "            background-color:  #d94663;\n",
       "            color:  #f1f1f1;\n",
       "            max-width:  80px;\n",
       "            font-size:  10pt;\n",
       "        }#T_6a85f562_485a_11eb_9cdd_acde48001122row9_col6,#T_6a85f562_485a_11eb_9cdd_acde48001122row9_col12,#T_6a85f562_485a_11eb_9cdd_acde48001122row14_col2,#T_6a85f562_485a_11eb_9cdd_acde48001122row15_col2,#T_6a85f562_485a_11eb_9cdd_acde48001122row15_col9,#T_6a85f562_485a_11eb_9cdd_acde48001122row18_col17{\n",
       "            background-color:  #e28497;\n",
       "            color:  #000000;\n",
       "            max-width:  80px;\n",
       "            font-size:  10pt;\n",
       "        }#T_6a85f562_485a_11eb_9cdd_acde48001122row9_col8{\n",
       "            background-color:  #d84361;\n",
       "            color:  #f1f1f1;\n",
       "            max-width:  80px;\n",
       "            font-size:  10pt;\n",
       "        }#T_6a85f562_485a_11eb_9cdd_acde48001122row10_col3,#T_6a85f562_485a_11eb_9cdd_acde48001122row13_col4,#T_6a85f562_485a_11eb_9cdd_acde48001122row25_col2,#T_6a85f562_485a_11eb_9cdd_acde48001122row28_col23{\n",
       "            background-color:  #e69dab;\n",
       "            color:  #000000;\n",
       "            max-width:  80px;\n",
       "            font-size:  10pt;\n",
       "        }#T_6a85f562_485a_11eb_9cdd_acde48001122row10_col20,#T_6a85f562_485a_11eb_9cdd_acde48001122row18_col15,#T_6a85f562_485a_11eb_9cdd_acde48001122row20_col4,#T_6a85f562_485a_11eb_9cdd_acde48001122row24_col5,#T_6a85f562_485a_11eb_9cdd_acde48001122row28_col2,#T_6a85f562_485a_11eb_9cdd_acde48001122row28_col15{\n",
       "            background-color:  #eed2d7;\n",
       "            color:  #000000;\n",
       "            max-width:  80px;\n",
       "            font-size:  10pt;\n",
       "        }#T_6a85f562_485a_11eb_9cdd_acde48001122row10_col26,#T_6a85f562_485a_11eb_9cdd_acde48001122row16_col26,#T_6a85f562_485a_11eb_9cdd_acde48001122row20_col18,#T_6a85f562_485a_11eb_9cdd_acde48001122row23_col13,#T_6a85f562_485a_11eb_9cdd_acde48001122row27_col1{\n",
       "            background-color:  #f2f1f1;\n",
       "            color:  #000000;\n",
       "            max-width:  80px;\n",
       "            font-size:  10pt;\n",
       "        }#T_6a85f562_485a_11eb_9cdd_acde48001122row11_col0,#T_6a85f562_485a_11eb_9cdd_acde48001122row11_col21,#T_6a85f562_485a_11eb_9cdd_acde48001122row21_col3,#T_6a85f562_485a_11eb_9cdd_acde48001122row24_col3{\n",
       "            background-color:  #f2eeef;\n",
       "            color:  #000000;\n",
       "            max-width:  80px;\n",
       "            font-size:  10pt;\n",
       "        }#T_6a85f562_485a_11eb_9cdd_acde48001122row11_col8,#T_6a85f562_485a_11eb_9cdd_acde48001122row15_col0,#T_6a85f562_485a_11eb_9cdd_acde48001122row22_col19{\n",
       "            background-color:  #e4e9ee;\n",
       "            color:  #000000;\n",
       "            max-width:  80px;\n",
       "            font-size:  10pt;\n",
       "        }#T_6a85f562_485a_11eb_9cdd_acde48001122row11_col10,#T_6a85f562_485a_11eb_9cdd_acde48001122row19_col27,#T_6a85f562_485a_11eb_9cdd_acde48001122row27_col23{\n",
       "            background-color:  #da4e6a;\n",
       "            color:  #000000;\n",
       "            max-width:  80px;\n",
       "            font-size:  10pt;\n",
       "        }#T_6a85f562_485a_11eb_9cdd_acde48001122row11_col18,#T_6a85f562_485a_11eb_9cdd_acde48001122row13_col11{\n",
       "            background-color:  #d94764;\n",
       "            color:  #f1f1f1;\n",
       "            max-width:  80px;\n",
       "            font-size:  10pt;\n",
       "        }#T_6a85f562_485a_11eb_9cdd_acde48001122row11_col24,#T_6a85f562_485a_11eb_9cdd_acde48001122row21_col4,#T_6a85f562_485a_11eb_9cdd_acde48001122row21_col17,#T_6a85f562_485a_11eb_9cdd_acde48001122row21_col28,#T_6a85f562_485a_11eb_9cdd_acde48001122row23_col8{\n",
       "            background-color:  #f1e5e7;\n",
       "            color:  #000000;\n",
       "            max-width:  80px;\n",
       "            font-size:  10pt;\n",
       "        }#T_6a85f562_485a_11eb_9cdd_acde48001122row11_col27,#T_6a85f562_485a_11eb_9cdd_acde48001122row20_col10{\n",
       "            background-color:  #e8ebf0;\n",
       "            color:  #000000;\n",
       "            max-width:  80px;\n",
       "            font-size:  10pt;\n",
       "        }#T_6a85f562_485a_11eb_9cdd_acde48001122row11_col28,#T_6a85f562_485a_11eb_9cdd_acde48001122row15_col5,#T_6a85f562_485a_11eb_9cdd_acde48001122row26_col17{\n",
       "            background-color:  #ecc8cf;\n",
       "            color:  #000000;\n",
       "            max-width:  80px;\n",
       "            font-size:  10pt;\n",
       "        }#T_6a85f562_485a_11eb_9cdd_acde48001122row13_col9,#T_6a85f562_485a_11eb_9cdd_acde48001122row13_col14,#T_6a85f562_485a_11eb_9cdd_acde48001122row15_col3,#T_6a85f562_485a_11eb_9cdd_acde48001122row21_col19,#T_6a85f562_485a_11eb_9cdd_acde48001122row22_col0,#T_6a85f562_485a_11eb_9cdd_acde48001122row22_col26,#T_6a85f562_485a_11eb_9cdd_acde48001122row25_col6,#T_6a85f562_485a_11eb_9cdd_acde48001122row25_col12{\n",
       "            background-color:  #e69caa;\n",
       "            color:  #000000;\n",
       "            max-width:  80px;\n",
       "            font-size:  10pt;\n",
       "        }#T_6a85f562_485a_11eb_9cdd_acde48001122row16_col10{\n",
       "            background-color:  #f0dee2;\n",
       "            color:  #000000;\n",
       "            max-width:  80px;\n",
       "            font-size:  10pt;\n",
       "        }#T_6a85f562_485a_11eb_9cdd_acde48001122row16_col11,#T_6a85f562_485a_11eb_9cdd_acde48001122row20_col24,#T_6a85f562_485a_11eb_9cdd_acde48001122row25_col15,#T_6a85f562_485a_11eb_9cdd_acde48001122row26_col2,#T_6a85f562_485a_11eb_9cdd_acde48001122row28_col1{\n",
       "            background-color:  #edcfd5;\n",
       "            color:  #000000;\n",
       "            max-width:  80px;\n",
       "            font-size:  10pt;\n",
       "        }#T_6a85f562_485a_11eb_9cdd_acde48001122row16_col18,#T_6a85f562_485a_11eb_9cdd_acde48001122row20_col23,#T_6a85f562_485a_11eb_9cdd_acde48001122row20_col28,#T_6a85f562_485a_11eb_9cdd_acde48001122row27_col17{\n",
       "            background-color:  #eaecf0;\n",
       "            color:  #000000;\n",
       "            max-width:  80px;\n",
       "            font-size:  10pt;\n",
       "        }#T_6a85f562_485a_11eb_9cdd_acde48001122row16_col19,#T_6a85f562_485a_11eb_9cdd_acde48001122row20_col17,#T_6a85f562_485a_11eb_9cdd_acde48001122row21_col16,#T_6a85f562_485a_11eb_9cdd_acde48001122row22_col5,#T_6a85f562_485a_11eb_9cdd_acde48001122row28_col8{\n",
       "            background-color:  #edcad1;\n",
       "            color:  #000000;\n",
       "            max-width:  80px;\n",
       "            font-size:  10pt;\n",
       "        }#T_6a85f562_485a_11eb_9cdd_acde48001122row16_col20,#T_6a85f562_485a_11eb_9cdd_acde48001122row17_col5,#T_6a85f562_485a_11eb_9cdd_acde48001122row17_col13,#T_6a85f562_485a_11eb_9cdd_acde48001122row20_col1,#T_6a85f562_485a_11eb_9cdd_acde48001122row21_col1,#T_6a85f562_485a_11eb_9cdd_acde48001122row23_col1{\n",
       "            background-color:  #efdde0;\n",
       "            color:  #000000;\n",
       "            max-width:  80px;\n",
       "            font-size:  10pt;\n",
       "        }#T_6a85f562_485a_11eb_9cdd_acde48001122row17_col8,#T_6a85f562_485a_11eb_9cdd_acde48001122row17_col24,#T_6a85f562_485a_11eb_9cdd_acde48001122row17_col27,#T_6a85f562_485a_11eb_9cdd_acde48001122row24_col4,#T_6a85f562_485a_11eb_9cdd_acde48001122row25_col22,#T_6a85f562_485a_11eb_9cdd_acde48001122row26_col6,#T_6a85f562_485a_11eb_9cdd_acde48001122row26_col12,#T_6a85f562_485a_11eb_9cdd_acde48001122row28_col20{\n",
       "            background-color:  #f2eded;\n",
       "            color:  #000000;\n",
       "            max-width:  80px;\n",
       "            font-size:  10pt;\n",
       "        }#T_6a85f562_485a_11eb_9cdd_acde48001122row17_col11,#T_6a85f562_485a_11eb_9cdd_acde48001122row17_col21,#T_6a85f562_485a_11eb_9cdd_acde48001122row18_col6,#T_6a85f562_485a_11eb_9cdd_acde48001122row18_col12,#T_6a85f562_485a_11eb_9cdd_acde48001122row19_col5,#T_6a85f562_485a_11eb_9cdd_acde48001122row21_col6,#T_6a85f562_485a_11eb_9cdd_acde48001122row21_col12,#T_6a85f562_485a_11eb_9cdd_acde48001122row24_col14,#T_6a85f562_485a_11eb_9cdd_acde48001122row24_col20{\n",
       "            background-color:  #efdcdf;\n",
       "            color:  #000000;\n",
       "            max-width:  80px;\n",
       "            font-size:  10pt;\n",
       "        }#T_6a85f562_485a_11eb_9cdd_acde48001122row17_col14,#T_6a85f562_485a_11eb_9cdd_acde48001122row17_col28{\n",
       "            background-color:  #dce3ec;\n",
       "            color:  #000000;\n",
       "            max-width:  80px;\n",
       "            font-size:  10pt;\n",
       "        }#T_6a85f562_485a_11eb_9cdd_acde48001122row18_col5,#T_6a85f562_485a_11eb_9cdd_acde48001122row18_col19{\n",
       "            background-color:  #e6eaef;\n",
       "            color:  #000000;\n",
       "            max-width:  80px;\n",
       "            font-size:  10pt;\n",
       "        }#T_6a85f562_485a_11eb_9cdd_acde48001122row18_col16,#T_6a85f562_485a_11eb_9cdd_acde48001122row22_col7{\n",
       "            background-color:  #edeef1;\n",
       "            color:  #000000;\n",
       "            max-width:  80px;\n",
       "            font-size:  10pt;\n",
       "        }#T_6a85f562_485a_11eb_9cdd_acde48001122row18_col22,#T_6a85f562_485a_11eb_9cdd_acde48001122row20_col6,#T_6a85f562_485a_11eb_9cdd_acde48001122row20_col12,#T_6a85f562_485a_11eb_9cdd_acde48001122row23_col3{\n",
       "            background-color:  #efdade;\n",
       "            color:  #000000;\n",
       "            max-width:  80px;\n",
       "            font-size:  10pt;\n",
       "        }#T_6a85f562_485a_11eb_9cdd_acde48001122row18_col23,#T_6a85f562_485a_11eb_9cdd_acde48001122row21_col0{\n",
       "            background-color:  #ccd8e7;\n",
       "            color:  #000000;\n",
       "            max-width:  80px;\n",
       "            font-size:  10pt;\n",
       "        }#T_6a85f562_485a_11eb_9cdd_acde48001122row18_col25,#T_6a85f562_485a_11eb_9cdd_acde48001122row19_col23,#T_6a85f562_485a_11eb_9cdd_acde48001122row27_col28{\n",
       "            background-color:  #c0cfe3;\n",
       "            color:  #000000;\n",
       "            max-width:  80px;\n",
       "            font-size:  10pt;\n",
       "        }#T_6a85f562_485a_11eb_9cdd_acde48001122row19_col16,#T_6a85f562_485a_11eb_9cdd_acde48001122row23_col28,#T_6a85f562_485a_11eb_9cdd_acde48001122row28_col0{\n",
       "            background-color:  #ebbec6;\n",
       "            color:  #000000;\n",
       "            max-width:  80px;\n",
       "            font-size:  10pt;\n",
       "        }#T_6a85f562_485a_11eb_9cdd_acde48001122row19_col18,#T_6a85f562_485a_11eb_9cdd_acde48001122row23_col6,#T_6a85f562_485a_11eb_9cdd_acde48001122row23_col12{\n",
       "            background-color:  #ebedf1;\n",
       "            color:  #000000;\n",
       "            max-width:  80px;\n",
       "            font-size:  10pt;\n",
       "        }#T_6a85f562_485a_11eb_9cdd_acde48001122row19_col22{\n",
       "            background-color:  #d0dae8;\n",
       "            color:  #000000;\n",
       "            max-width:  80px;\n",
       "            font-size:  10pt;\n",
       "        }#T_6a85f562_485a_11eb_9cdd_acde48001122row19_col25{\n",
       "            background-color:  #9bb6d7;\n",
       "            color:  #000000;\n",
       "            max-width:  80px;\n",
       "            font-size:  10pt;\n",
       "        }#T_6a85f562_485a_11eb_9cdd_acde48001122row20_col5{\n",
       "            background-color:  #eeeff2;\n",
       "            color:  #000000;\n",
       "            max-width:  80px;\n",
       "            font-size:  10pt;\n",
       "        }#T_6a85f562_485a_11eb_9cdd_acde48001122row20_col26{\n",
       "            background-color:  #c7d4e5;\n",
       "            color:  #000000;\n",
       "            max-width:  80px;\n",
       "            font-size:  10pt;\n",
       "        }#T_6a85f562_485a_11eb_9cdd_acde48001122row21_col9,#T_6a85f562_485a_11eb_9cdd_acde48001122row23_col15,#T_6a85f562_485a_11eb_9cdd_acde48001122row24_col9,#T_6a85f562_485a_11eb_9cdd_acde48001122row26_col7,#T_6a85f562_485a_11eb_9cdd_acde48001122row27_col3,#T_6a85f562_485a_11eb_9cdd_acde48001122row28_col11{\n",
       "            background-color:  #f1e8ea;\n",
       "            color:  #000000;\n",
       "            max-width:  80px;\n",
       "            font-size:  10pt;\n",
       "        }#T_6a85f562_485a_11eb_9cdd_acde48001122row21_col11,#T_6a85f562_485a_11eb_9cdd_acde48001122row26_col18,#T_6a85f562_485a_11eb_9cdd_acde48001122row27_col0{\n",
       "            background-color:  #d1dbe8;\n",
       "            color:  #000000;\n",
       "            max-width:  80px;\n",
       "            font-size:  10pt;\n",
       "        }#T_6a85f562_485a_11eb_9cdd_acde48001122row21_col24{\n",
       "            background-color:  #b0c4dd;\n",
       "            color:  #000000;\n",
       "            max-width:  80px;\n",
       "            font-size:  10pt;\n",
       "        }#T_6a85f562_485a_11eb_9cdd_acde48001122row21_col27{\n",
       "            background-color:  #a6bdda;\n",
       "            color:  #000000;\n",
       "            max-width:  80px;\n",
       "            font-size:  10pt;\n",
       "        }#T_6a85f562_485a_11eb_9cdd_acde48001122row23_col10,#T_6a85f562_485a_11eb_9cdd_acde48001122row24_col0,#T_6a85f562_485a_11eb_9cdd_acde48001122row25_col18{\n",
       "            background-color:  #d3dce9;\n",
       "            color:  #000000;\n",
       "            max-width:  80px;\n",
       "            font-size:  10pt;\n",
       "        }#T_6a85f562_485a_11eb_9cdd_acde48001122row23_col14{\n",
       "            background-color:  #f2eff0;\n",
       "            color:  #000000;\n",
       "            max-width:  80px;\n",
       "            font-size:  10pt;\n",
       "        }#T_6a85f562_485a_11eb_9cdd_acde48001122row23_col16,#T_6a85f562_485a_11eb_9cdd_acde48001122row26_col16{\n",
       "            background-color:  #e7eaef;\n",
       "            color:  #000000;\n",
       "            max-width:  80px;\n",
       "            font-size:  10pt;\n",
       "        }#T_6a85f562_485a_11eb_9cdd_acde48001122row23_col18{\n",
       "            background-color:  #bccce1;\n",
       "            color:  #000000;\n",
       "            max-width:  80px;\n",
       "            font-size:  10pt;\n",
       "        }#T_6a85f562_485a_11eb_9cdd_acde48001122row23_col19{\n",
       "            background-color:  #adc2dd;\n",
       "            color:  #000000;\n",
       "            max-width:  80px;\n",
       "            font-size:  10pt;\n",
       "        }#T_6a85f562_485a_11eb_9cdd_acde48001122row23_col20{\n",
       "            background-color:  #e0e6ed;\n",
       "            color:  #000000;\n",
       "            max-width:  80px;\n",
       "            font-size:  10pt;\n",
       "        }#T_6a85f562_485a_11eb_9cdd_acde48001122row23_col25{\n",
       "            background-color:  #c8d5e5;\n",
       "            color:  #000000;\n",
       "            max-width:  80px;\n",
       "            font-size:  10pt;\n",
       "        }#T_6a85f562_485a_11eb_9cdd_acde48001122row23_col26{\n",
       "            background-color:  #8cabd2;\n",
       "            color:  #000000;\n",
       "            max-width:  80px;\n",
       "            font-size:  10pt;\n",
       "        }#T_6a85f562_485a_11eb_9cdd_acde48001122row24_col1{\n",
       "            background-color:  #e2e7ee;\n",
       "            color:  #000000;\n",
       "            max-width:  80px;\n",
       "            font-size:  10pt;\n",
       "        }#T_6a85f562_485a_11eb_9cdd_acde48001122row24_col8{\n",
       "            background-color:  #eff0f2;\n",
       "            color:  #000000;\n",
       "            max-width:  80px;\n",
       "            font-size:  10pt;\n",
       "        }#T_6a85f562_485a_11eb_9cdd_acde48001122row24_col11,#T_6a85f562_485a_11eb_9cdd_acde48001122row26_col10{\n",
       "            background-color:  #cfdae7;\n",
       "            color:  #000000;\n",
       "            max-width:  80px;\n",
       "            font-size:  10pt;\n",
       "        }#T_6a85f562_485a_11eb_9cdd_acde48001122row24_col17,#T_6a85f562_485a_11eb_9cdd_acde48001122row26_col19{\n",
       "            background-color:  #e3e8ee;\n",
       "            color:  #000000;\n",
       "            max-width:  80px;\n",
       "            font-size:  10pt;\n",
       "        }#T_6a85f562_485a_11eb_9cdd_acde48001122row24_col21{\n",
       "            background-color:  #a9bfdb;\n",
       "            color:  #000000;\n",
       "            max-width:  80px;\n",
       "            font-size:  10pt;\n",
       "        }#T_6a85f562_485a_11eb_9cdd_acde48001122row24_col27{\n",
       "            background-color:  #6791c6;\n",
       "            color:  #000000;\n",
       "            max-width:  80px;\n",
       "            font-size:  10pt;\n",
       "        }#T_6a85f562_485a_11eb_9cdd_acde48001122row24_col28{\n",
       "            background-color:  #c4d2e4;\n",
       "            color:  #000000;\n",
       "            max-width:  80px;\n",
       "            font-size:  10pt;\n",
       "        }#T_6a85f562_485a_11eb_9cdd_acde48001122row25_col19,#T_6a85f562_485a_11eb_9cdd_acde48001122row27_col21{\n",
       "            background-color:  #a5bcda;\n",
       "            color:  #000000;\n",
       "            max-width:  80px;\n",
       "            font-size:  10pt;\n",
       "        }#T_6a85f562_485a_11eb_9cdd_acde48001122row26_col13{\n",
       "            background-color:  #d8e0eb;\n",
       "            color:  #000000;\n",
       "            max-width:  80px;\n",
       "            font-size:  10pt;\n",
       "        }#T_6a85f562_485a_11eb_9cdd_acde48001122row26_col20,#T_6a85f562_485a_11eb_9cdd_acde48001122row27_col11{\n",
       "            background-color:  #c5d3e4;\n",
       "            color:  #000000;\n",
       "            max-width:  80px;\n",
       "            font-size:  10pt;\n",
       "        }#T_6a85f562_485a_11eb_9cdd_acde48001122row26_col23{\n",
       "            background-color:  #8eadd3;\n",
       "            color:  #000000;\n",
       "            max-width:  80px;\n",
       "            font-size:  10pt;\n",
       "        }#T_6a85f562_485a_11eb_9cdd_acde48001122row27_col8{\n",
       "            background-color:  #dee4ec;\n",
       "            color:  #000000;\n",
       "            max-width:  80px;\n",
       "            font-size:  10pt;\n",
       "        }#T_6a85f562_485a_11eb_9cdd_acde48001122row27_col19{\n",
       "            background-color:  #e0768b;\n",
       "            color:  #000000;\n",
       "            max-width:  80px;\n",
       "            font-size:  10pt;\n",
       "        }#T_6a85f562_485a_11eb_9cdd_acde48001122row27_col24{\n",
       "            background-color:  #6892c6;\n",
       "            color:  #000000;\n",
       "            max-width:  80px;\n",
       "            font-size:  10pt;\n",
       "        }#T_6a85f562_485a_11eb_9cdd_acde48001122row28_col24{\n",
       "            background-color:  #d5deea;\n",
       "            color:  #000000;\n",
       "            max-width:  80px;\n",
       "            font-size:  10pt;\n",
       "        }#T_6a85f562_485a_11eb_9cdd_acde48001122row28_col27{\n",
       "            background-color:  #cbd7e6;\n",
       "            color:  #000000;\n",
       "            max-width:  80px;\n",
       "            font-size:  10pt;\n",
       "        }</style><table id=\"T_6a85f562_485a_11eb_9cdd_acde48001122\" ><caption>Hover to magify</caption><thead>    <tr>        <th class=\"blank level0\" ></th>        <th class=\"col_heading level0 col0\" >gender_Male</th>        <th class=\"col_heading level0 col1\" >marital_status_Single</th>        <th class=\"col_heading level0 col2\" >region_Eastern</th>        <th class=\"col_heading level0 col3\" >region_Nothern</th>        <th class=\"col_heading level0 col4\" >region_Western</th>        <th class=\"col_heading level0 col5\" >bachelor_loc_Saudi</th>        <th class=\"col_heading level0 col6\" >bachelor_loc_n/a</th>        <th class=\"col_heading level0 col7\" >masters_loc_Saudi</th>        <th class=\"col_heading level0 col8\" >masters_loc_n/a</th>        <th class=\"col_heading level0 col9\" >mixed_sex_Yes, both</th>        <th class=\"col_heading level0 col10\" >mixed_sex_Yes, grad</th>        <th class=\"col_heading level0 col11\" >mixed_sex_Yes, undergrad</th>        <th class=\"col_heading level0 col12\" >mixed_sex_n/a</th>        <th class=\"col_heading level0 col13\" >introversion_personal_Inner reflection and solitude</th>        <th class=\"col_heading level0 col14\" >introversion_public_Quiet and reflective</th>        <th class=\"col_heading level0 col15\" >household_chores_2: Disagree</th>        <th class=\"col_heading level0 col16\" >household_chores_3: Agree</th>        <th class=\"col_heading level0 col17\" >household_chores_4: Strongly agree</th>        <th class=\"col_heading level0 col18\" >single_vs_mixed_working_env_Single-sex work environment</th>        <th class=\"col_heading level0 col19\" >comfort_with_other_gender_2: Uncomfortable</th>        <th class=\"col_heading level0 col20\" >comfort_with_other_gender_3: Comfortable</th>        <th class=\"col_heading level0 col21\" >comfort_with_other_gender_4: Very comfortable</th>        <th class=\"col_heading level0 col22\" >comfort_with_help_from_other_gender_2: Unlikely</th>        <th class=\"col_heading level0 col23\" >comfort_with_help_from_other_gender_3: Likely</th>        <th class=\"col_heading level0 col24\" >comfort_with_help_from_other_gender_4: Highly likely</th>        <th class=\"col_heading level0 col25\" >project_with_other_gender_2: Unlikely</th>        <th class=\"col_heading level0 col26\" >project_with_other_gender_3: Likely</th>        <th class=\"col_heading level0 col27\" >project_with_other_gender_4: Highly likely</th>        <th class=\"col_heading level0 col28\" >with_or_aginst_mixed_sex_universities_With mixed-sex universities</th>    </tr></thead><tbody>\n",
       "                <tr>\n",
       "                        <th id=\"T_6a85f562_485a_11eb_9cdd_acde48001122level0_row0\" class=\"row_heading level0 row0\" >gender_Male</th>\n",
       "                        <td id=\"T_6a85f562_485a_11eb_9cdd_acde48001122row0_col0\" class=\"data row0 col0\" >1.00</td>\n",
       "                        <td id=\"T_6a85f562_485a_11eb_9cdd_acde48001122row0_col1\" class=\"data row0 col1\" >0.22</td>\n",
       "                        <td id=\"T_6a85f562_485a_11eb_9cdd_acde48001122row0_col2\" class=\"data row0 col2\" >-0.01</td>\n",
       "                        <td id=\"T_6a85f562_485a_11eb_9cdd_acde48001122row0_col3\" class=\"data row0 col3\" >0.07</td>\n",
       "                        <td id=\"T_6a85f562_485a_11eb_9cdd_acde48001122row0_col4\" class=\"data row0 col4\" >0.14</td>\n",
       "                        <td id=\"T_6a85f562_485a_11eb_9cdd_acde48001122row0_col5\" class=\"data row0 col5\" >-0.30</td>\n",
       "                        <td id=\"T_6a85f562_485a_11eb_9cdd_acde48001122row0_col6\" class=\"data row0 col6\" >0.11</td>\n",
       "                        <td id=\"T_6a85f562_485a_11eb_9cdd_acde48001122row0_col7\" class=\"data row0 col7\" >-0.14</td>\n",
       "                        <td id=\"T_6a85f562_485a_11eb_9cdd_acde48001122row0_col8\" class=\"data row0 col8\" >0.00</td>\n",
       "                        <td id=\"T_6a85f562_485a_11eb_9cdd_acde48001122row0_col9\" class=\"data row0 col9\" >-0.11</td>\n",
       "                        <td id=\"T_6a85f562_485a_11eb_9cdd_acde48001122row0_col10\" class=\"data row0 col10\" >-0.08</td>\n",
       "                        <td id=\"T_6a85f562_485a_11eb_9cdd_acde48001122row0_col11\" class=\"data row0 col11\" >0.29</td>\n",
       "                        <td id=\"T_6a85f562_485a_11eb_9cdd_acde48001122row0_col12\" class=\"data row0 col12\" >0.11</td>\n",
       "                        <td id=\"T_6a85f562_485a_11eb_9cdd_acde48001122row0_col13\" class=\"data row0 col13\" >-0.19</td>\n",
       "                        <td id=\"T_6a85f562_485a_11eb_9cdd_acde48001122row0_col14\" class=\"data row0 col14\" >-0.15</td>\n",
       "                        <td id=\"T_6a85f562_485a_11eb_9cdd_acde48001122row0_col15\" class=\"data row0 col15\" >0.35</td>\n",
       "                        <td id=\"T_6a85f562_485a_11eb_9cdd_acde48001122row0_col16\" class=\"data row0 col16\" >-0.03</td>\n",
       "                        <td id=\"T_6a85f562_485a_11eb_9cdd_acde48001122row0_col17\" class=\"data row0 col17\" >-0.26</td>\n",
       "                        <td id=\"T_6a85f562_485a_11eb_9cdd_acde48001122row0_col18\" class=\"data row0 col18\" >-0.14</td>\n",
       "                        <td id=\"T_6a85f562_485a_11eb_9cdd_acde48001122row0_col19\" class=\"data row0 col19\" >-0.18</td>\n",
       "                        <td id=\"T_6a85f562_485a_11eb_9cdd_acde48001122row0_col20\" class=\"data row0 col20\" >-0.17</td>\n",
       "                        <td id=\"T_6a85f562_485a_11eb_9cdd_acde48001122row0_col21\" class=\"data row0 col21\" >0.32</td>\n",
       "                        <td id=\"T_6a85f562_485a_11eb_9cdd_acde48001122row0_col22\" class=\"data row0 col22\" >-0.01</td>\n",
       "                        <td id=\"T_6a85f562_485a_11eb_9cdd_acde48001122row0_col23\" class=\"data row0 col23\" >-0.22</td>\n",
       "                        <td id=\"T_6a85f562_485a_11eb_9cdd_acde48001122row0_col24\" class=\"data row0 col24\" >0.24</td>\n",
       "                        <td id=\"T_6a85f562_485a_11eb_9cdd_acde48001122row0_col25\" class=\"data row0 col25\" >0.00</td>\n",
       "                        <td id=\"T_6a85f562_485a_11eb_9cdd_acde48001122row0_col26\" class=\"data row0 col26\" >-0.32</td>\n",
       "                        <td id=\"T_6a85f562_485a_11eb_9cdd_acde48001122row0_col27\" class=\"data row0 col27\" >0.28</td>\n",
       "                        <td id=\"T_6a85f562_485a_11eb_9cdd_acde48001122row0_col28\" class=\"data row0 col28\" >-0.05</td>\n",
       "            </tr>\n",
       "            <tr>\n",
       "                        <th id=\"T_6a85f562_485a_11eb_9cdd_acde48001122level0_row1\" class=\"row_heading level0 row1\" >marital_status_Single</th>\n",
       "                        <td id=\"T_6a85f562_485a_11eb_9cdd_acde48001122row1_col0\" class=\"data row1 col0\" >0.22</td>\n",
       "                        <td id=\"T_6a85f562_485a_11eb_9cdd_acde48001122row1_col1\" class=\"data row1 col1\" >1.00</td>\n",
       "                        <td id=\"T_6a85f562_485a_11eb_9cdd_acde48001122row1_col2\" class=\"data row1 col2\" >-0.06</td>\n",
       "                        <td id=\"T_6a85f562_485a_11eb_9cdd_acde48001122row1_col3\" class=\"data row1 col3\" >0.03</td>\n",
       "                        <td id=\"T_6a85f562_485a_11eb_9cdd_acde48001122row1_col4\" class=\"data row1 col4\" >0.16</td>\n",
       "                        <td id=\"T_6a85f562_485a_11eb_9cdd_acde48001122row1_col5\" class=\"data row1 col5\" >0.01</td>\n",
       "                        <td id=\"T_6a85f562_485a_11eb_9cdd_acde48001122row1_col6\" class=\"data row1 col6\" >0.04</td>\n",
       "                        <td id=\"T_6a85f562_485a_11eb_9cdd_acde48001122row1_col7\" class=\"data row1 col7\" >-0.09</td>\n",
       "                        <td id=\"T_6a85f562_485a_11eb_9cdd_acde48001122row1_col8\" class=\"data row1 col8\" >-0.05</td>\n",
       "                        <td id=\"T_6a85f562_485a_11eb_9cdd_acde48001122row1_col9\" class=\"data row1 col9\" >-0.17</td>\n",
       "                        <td id=\"T_6a85f562_485a_11eb_9cdd_acde48001122row1_col10\" class=\"data row1 col10\" >0.09</td>\n",
       "                        <td id=\"T_6a85f562_485a_11eb_9cdd_acde48001122row1_col11\" class=\"data row1 col11\" >0.00</td>\n",
       "                        <td id=\"T_6a85f562_485a_11eb_9cdd_acde48001122row1_col12\" class=\"data row1 col12\" >0.04</td>\n",
       "                        <td id=\"T_6a85f562_485a_11eb_9cdd_acde48001122row1_col13\" class=\"data row1 col13\" >-0.08</td>\n",
       "                        <td id=\"T_6a85f562_485a_11eb_9cdd_acde48001122row1_col14\" class=\"data row1 col14\" >0.08</td>\n",
       "                        <td id=\"T_6a85f562_485a_11eb_9cdd_acde48001122row1_col15\" class=\"data row1 col15\" >0.13</td>\n",
       "                        <td id=\"T_6a85f562_485a_11eb_9cdd_acde48001122row1_col16\" class=\"data row1 col16\" >-0.16</td>\n",
       "                        <td id=\"T_6a85f562_485a_11eb_9cdd_acde48001122row1_col17\" class=\"data row1 col17\" >0.12</td>\n",
       "                        <td id=\"T_6a85f562_485a_11eb_9cdd_acde48001122row1_col18\" class=\"data row1 col18\" >-0.17</td>\n",
       "                        <td id=\"T_6a85f562_485a_11eb_9cdd_acde48001122row1_col19\" class=\"data row1 col19\" >-0.02</td>\n",
       "                        <td id=\"T_6a85f562_485a_11eb_9cdd_acde48001122row1_col20\" class=\"data row1 col20\" >0.03</td>\n",
       "                        <td id=\"T_6a85f562_485a_11eb_9cdd_acde48001122row1_col21\" class=\"data row1 col21\" >0.03</td>\n",
       "                        <td id=\"T_6a85f562_485a_11eb_9cdd_acde48001122row1_col22\" class=\"data row1 col22\" >-0.11</td>\n",
       "                        <td id=\"T_6a85f562_485a_11eb_9cdd_acde48001122row1_col23\" class=\"data row1 col23\" >-0.03</td>\n",
       "                        <td id=\"T_6a85f562_485a_11eb_9cdd_acde48001122row1_col24\" class=\"data row1 col24\" >0.16</td>\n",
       "                        <td id=\"T_6a85f562_485a_11eb_9cdd_acde48001122row1_col25\" class=\"data row1 col25\" >-0.06</td>\n",
       "                        <td id=\"T_6a85f562_485a_11eb_9cdd_acde48001122row1_col26\" class=\"data row1 col26\" >-0.02</td>\n",
       "                        <td id=\"T_6a85f562_485a_11eb_9cdd_acde48001122row1_col27\" class=\"data row1 col27\" >0.11</td>\n",
       "                        <td id=\"T_6a85f562_485a_11eb_9cdd_acde48001122row1_col28\" class=\"data row1 col28\" >0.03</td>\n",
       "            </tr>\n",
       "            <tr>\n",
       "                        <th id=\"T_6a85f562_485a_11eb_9cdd_acde48001122level0_row2\" class=\"row_heading level0 row2\" >region_Eastern</th>\n",
       "                        <td id=\"T_6a85f562_485a_11eb_9cdd_acde48001122row2_col0\" class=\"data row2 col0\" >-0.01</td>\n",
       "                        <td id=\"T_6a85f562_485a_11eb_9cdd_acde48001122row2_col1\" class=\"data row2 col1\" >-0.06</td>\n",
       "                        <td id=\"T_6a85f562_485a_11eb_9cdd_acde48001122row2_col2\" class=\"data row2 col2\" >1.00</td>\n",
       "                        <td id=\"T_6a85f562_485a_11eb_9cdd_acde48001122row2_col3\" class=\"data row2 col3\" >-0.04</td>\n",
       "                        <td id=\"T_6a85f562_485a_11eb_9cdd_acde48001122row2_col4\" class=\"data row2 col4\" >-0.26</td>\n",
       "                        <td id=\"T_6a85f562_485a_11eb_9cdd_acde48001122row2_col5\" class=\"data row2 col5\" >-0.18</td>\n",
       "                        <td id=\"T_6a85f562_485a_11eb_9cdd_acde48001122row2_col6\" class=\"data row2 col6\" >-0.06</td>\n",
       "                        <td id=\"T_6a85f562_485a_11eb_9cdd_acde48001122row2_col7\" class=\"data row2 col7\" >0.00</td>\n",
       "                        <td id=\"T_6a85f562_485a_11eb_9cdd_acde48001122row2_col8\" class=\"data row2 col8\" >-0.03</td>\n",
       "                        <td id=\"T_6a85f562_485a_11eb_9cdd_acde48001122row2_col9\" class=\"data row2 col9\" >-0.04</td>\n",
       "                        <td id=\"T_6a85f562_485a_11eb_9cdd_acde48001122row2_col10\" class=\"data row2 col10\" >-0.06</td>\n",
       "                        <td id=\"T_6a85f562_485a_11eb_9cdd_acde48001122row2_col11\" class=\"data row2 col11\" >0.09</td>\n",
       "                        <td id=\"T_6a85f562_485a_11eb_9cdd_acde48001122row2_col12\" class=\"data row2 col12\" >-0.06</td>\n",
       "                        <td id=\"T_6a85f562_485a_11eb_9cdd_acde48001122row2_col13\" class=\"data row2 col13\" >-0.21</td>\n",
       "                        <td id=\"T_6a85f562_485a_11eb_9cdd_acde48001122row2_col14\" class=\"data row2 col14\" >0.05</td>\n",
       "                        <td id=\"T_6a85f562_485a_11eb_9cdd_acde48001122row2_col15\" class=\"data row2 col15\" >-0.13</td>\n",
       "                        <td id=\"T_6a85f562_485a_11eb_9cdd_acde48001122row2_col16\" class=\"data row2 col16\" >-0.07</td>\n",
       "                        <td id=\"T_6a85f562_485a_11eb_9cdd_acde48001122row2_col17\" class=\"data row2 col17\" >0.11</td>\n",
       "                        <td id=\"T_6a85f562_485a_11eb_9cdd_acde48001122row2_col18\" class=\"data row2 col18\" >-0.13</td>\n",
       "                        <td id=\"T_6a85f562_485a_11eb_9cdd_acde48001122row2_col19\" class=\"data row2 col19\" >0.10</td>\n",
       "                        <td id=\"T_6a85f562_485a_11eb_9cdd_acde48001122row2_col20\" class=\"data row2 col20\" >-0.14</td>\n",
       "                        <td id=\"T_6a85f562_485a_11eb_9cdd_acde48001122row2_col21\" class=\"data row2 col21\" >-0.03</td>\n",
       "                        <td id=\"T_6a85f562_485a_11eb_9cdd_acde48001122row2_col22\" class=\"data row2 col22\" >0.02</td>\n",
       "                        <td id=\"T_6a85f562_485a_11eb_9cdd_acde48001122row2_col23\" class=\"data row2 col23\" >-0.10</td>\n",
       "                        <td id=\"T_6a85f562_485a_11eb_9cdd_acde48001122row2_col24\" class=\"data row2 col24\" >0.04</td>\n",
       "                        <td id=\"T_6a85f562_485a_11eb_9cdd_acde48001122row2_col25\" class=\"data row2 col25\" >-0.03</td>\n",
       "                        <td id=\"T_6a85f562_485a_11eb_9cdd_acde48001122row2_col26\" class=\"data row2 col26\" >-0.06</td>\n",
       "                        <td id=\"T_6a85f562_485a_11eb_9cdd_acde48001122row2_col27\" class=\"data row2 col27\" >0.04</td>\n",
       "                        <td id=\"T_6a85f562_485a_11eb_9cdd_acde48001122row2_col28\" class=\"data row2 col28\" >0.04</td>\n",
       "            </tr>\n",
       "            <tr>\n",
       "                        <th id=\"T_6a85f562_485a_11eb_9cdd_acde48001122level0_row3\" class=\"row_heading level0 row3\" >region_Nothern</th>\n",
       "                        <td id=\"T_6a85f562_485a_11eb_9cdd_acde48001122row3_col0\" class=\"data row3 col0\" >0.07</td>\n",
       "                        <td id=\"T_6a85f562_485a_11eb_9cdd_acde48001122row3_col1\" class=\"data row3 col1\" >0.03</td>\n",
       "                        <td id=\"T_6a85f562_485a_11eb_9cdd_acde48001122row3_col2\" class=\"data row3 col2\" >-0.04</td>\n",
       "                        <td id=\"T_6a85f562_485a_11eb_9cdd_acde48001122row3_col3\" class=\"data row3 col3\" >1.00</td>\n",
       "                        <td id=\"T_6a85f562_485a_11eb_9cdd_acde48001122row3_col4\" class=\"data row3 col4\" >-0.06</td>\n",
       "                        <td id=\"T_6a85f562_485a_11eb_9cdd_acde48001122row3_col5\" class=\"data row3 col5\" >0.07</td>\n",
       "                        <td id=\"T_6a85f562_485a_11eb_9cdd_acde48001122row3_col6\" class=\"data row3 col6\" >-0.01</td>\n",
       "                        <td id=\"T_6a85f562_485a_11eb_9cdd_acde48001122row3_col7\" class=\"data row3 col7\" >-0.02</td>\n",
       "                        <td id=\"T_6a85f562_485a_11eb_9cdd_acde48001122row3_col8\" class=\"data row3 col8\" >0.05</td>\n",
       "                        <td id=\"T_6a85f562_485a_11eb_9cdd_acde48001122row3_col9\" class=\"data row3 col9\" >0.32</td>\n",
       "                        <td id=\"T_6a85f562_485a_11eb_9cdd_acde48001122row3_col10\" class=\"data row3 col10\" >-0.03</td>\n",
       "                        <td id=\"T_6a85f562_485a_11eb_9cdd_acde48001122row3_col11\" class=\"data row3 col11\" >-0.10</td>\n",
       "                        <td id=\"T_6a85f562_485a_11eb_9cdd_acde48001122row3_col12\" class=\"data row3 col12\" >-0.01</td>\n",
       "                        <td id=\"T_6a85f562_485a_11eb_9cdd_acde48001122row3_col13\" class=\"data row3 col13\" >0.08</td>\n",
       "                        <td id=\"T_6a85f562_485a_11eb_9cdd_acde48001122row3_col14\" class=\"data row3 col14\" >-0.08</td>\n",
       "                        <td id=\"T_6a85f562_485a_11eb_9cdd_acde48001122row3_col15\" class=\"data row3 col15\" >-0.04</td>\n",
       "                        <td id=\"T_6a85f562_485a_11eb_9cdd_acde48001122row3_col16\" class=\"data row3 col16\" >-0.09</td>\n",
       "                        <td id=\"T_6a85f562_485a_11eb_9cdd_acde48001122row3_col17\" class=\"data row3 col17\" >0.14</td>\n",
       "                        <td id=\"T_6a85f562_485a_11eb_9cdd_acde48001122row3_col18\" class=\"data row3 col18\" >-0.05</td>\n",
       "                        <td id=\"T_6a85f562_485a_11eb_9cdd_acde48001122row3_col19\" class=\"data row3 col19\" >-0.03</td>\n",
       "                        <td id=\"T_6a85f562_485a_11eb_9cdd_acde48001122row3_col20\" class=\"data row3 col20\" >-0.08</td>\n",
       "                        <td id=\"T_6a85f562_485a_11eb_9cdd_acde48001122row3_col21\" class=\"data row3 col21\" >0.11</td>\n",
       "                        <td id=\"T_6a85f562_485a_11eb_9cdd_acde48001122row3_col22\" class=\"data row3 col22\" >-0.02</td>\n",
       "                        <td id=\"T_6a85f562_485a_11eb_9cdd_acde48001122row3_col23\" class=\"data row3 col23\" >-0.05</td>\n",
       "                        <td id=\"T_6a85f562_485a_11eb_9cdd_acde48001122row3_col24\" class=\"data row3 col24\" >0.06</td>\n",
       "                        <td id=\"T_6a85f562_485a_11eb_9cdd_acde48001122row3_col25\" class=\"data row3 col25\" >-0.03</td>\n",
       "                        <td id=\"T_6a85f562_485a_11eb_9cdd_acde48001122row3_col26\" class=\"data row3 col26\" >-0.05</td>\n",
       "                        <td id=\"T_6a85f562_485a_11eb_9cdd_acde48001122row3_col27\" class=\"data row3 col27\" >0.07</td>\n",
       "                        <td id=\"T_6a85f562_485a_11eb_9cdd_acde48001122row3_col28\" class=\"data row3 col28\" >0.07</td>\n",
       "            </tr>\n",
       "            <tr>\n",
       "                        <th id=\"T_6a85f562_485a_11eb_9cdd_acde48001122level0_row4\" class=\"row_heading level0 row4\" >region_Western</th>\n",
       "                        <td id=\"T_6a85f562_485a_11eb_9cdd_acde48001122row4_col0\" class=\"data row4 col0\" >0.14</td>\n",
       "                        <td id=\"T_6a85f562_485a_11eb_9cdd_acde48001122row4_col1\" class=\"data row4 col1\" >0.16</td>\n",
       "                        <td id=\"T_6a85f562_485a_11eb_9cdd_acde48001122row4_col2\" class=\"data row4 col2\" >-0.26</td>\n",
       "                        <td id=\"T_6a85f562_485a_11eb_9cdd_acde48001122row4_col3\" class=\"data row4 col3\" >-0.06</td>\n",
       "                        <td id=\"T_6a85f562_485a_11eb_9cdd_acde48001122row4_col4\" class=\"data row4 col4\" >1.00</td>\n",
       "                        <td id=\"T_6a85f562_485a_11eb_9cdd_acde48001122row4_col5\" class=\"data row4 col5\" >-0.15</td>\n",
       "                        <td id=\"T_6a85f562_485a_11eb_9cdd_acde48001122row4_col6\" class=\"data row4 col6\" >-0.08</td>\n",
       "                        <td id=\"T_6a85f562_485a_11eb_9cdd_acde48001122row4_col7\" class=\"data row4 col7\" >-0.14</td>\n",
       "                        <td id=\"T_6a85f562_485a_11eb_9cdd_acde48001122row4_col8\" class=\"data row4 col8\" >0.12</td>\n",
       "                        <td id=\"T_6a85f562_485a_11eb_9cdd_acde48001122row4_col9\" class=\"data row4 col9\" >-0.02</td>\n",
       "                        <td id=\"T_6a85f562_485a_11eb_9cdd_acde48001122row4_col10\" class=\"data row4 col10\" >-0.11</td>\n",
       "                        <td id=\"T_6a85f562_485a_11eb_9cdd_acde48001122row4_col11\" class=\"data row4 col11\" >0.06</td>\n",
       "                        <td id=\"T_6a85f562_485a_11eb_9cdd_acde48001122row4_col12\" class=\"data row4 col12\" >-0.08</td>\n",
       "                        <td id=\"T_6a85f562_485a_11eb_9cdd_acde48001122row4_col13\" class=\"data row4 col13\" >0.10</td>\n",
       "                        <td id=\"T_6a85f562_485a_11eb_9cdd_acde48001122row4_col14\" class=\"data row4 col14\" >0.10</td>\n",
       "                        <td id=\"T_6a85f562_485a_11eb_9cdd_acde48001122row4_col15\" class=\"data row4 col15\" >0.03</td>\n",
       "                        <td id=\"T_6a85f562_485a_11eb_9cdd_acde48001122row4_col16\" class=\"data row4 col16\" >-0.07</td>\n",
       "                        <td id=\"T_6a85f562_485a_11eb_9cdd_acde48001122row4_col17\" class=\"data row4 col17\" >0.05</td>\n",
       "                        <td id=\"T_6a85f562_485a_11eb_9cdd_acde48001122row4_col18\" class=\"data row4 col18\" >-0.12</td>\n",
       "                        <td id=\"T_6a85f562_485a_11eb_9cdd_acde48001122row4_col19\" class=\"data row4 col19\" >0.02</td>\n",
       "                        <td id=\"T_6a85f562_485a_11eb_9cdd_acde48001122row4_col20\" class=\"data row4 col20\" >-0.03</td>\n",
       "                        <td id=\"T_6a85f562_485a_11eb_9cdd_acde48001122row4_col21\" class=\"data row4 col21\" >0.07</td>\n",
       "                        <td id=\"T_6a85f562_485a_11eb_9cdd_acde48001122row4_col22\" class=\"data row4 col22\" >-0.13</td>\n",
       "                        <td id=\"T_6a85f562_485a_11eb_9cdd_acde48001122row4_col23\" class=\"data row4 col23\" >0.03</td>\n",
       "                        <td id=\"T_6a85f562_485a_11eb_9cdd_acde48001122row4_col24\" class=\"data row4 col24\" >0.05</td>\n",
       "                        <td id=\"T_6a85f562_485a_11eb_9cdd_acde48001122row4_col25\" class=\"data row4 col25\" >0.16</td>\n",
       "                        <td id=\"T_6a85f562_485a_11eb_9cdd_acde48001122row4_col26\" class=\"data row4 col26\" >-0.10</td>\n",
       "                        <td id=\"T_6a85f562_485a_11eb_9cdd_acde48001122row4_col27\" class=\"data row4 col27\" >0.03</td>\n",
       "                        <td id=\"T_6a85f562_485a_11eb_9cdd_acde48001122row4_col28\" class=\"data row4 col28\" >-0.02</td>\n",
       "            </tr>\n",
       "            <tr>\n",
       "                        <th id=\"T_6a85f562_485a_11eb_9cdd_acde48001122level0_row5\" class=\"row_heading level0 row5\" >bachelor_loc_Saudi</th>\n",
       "                        <td id=\"T_6a85f562_485a_11eb_9cdd_acde48001122row5_col0\" class=\"data row5 col0\" >-0.30</td>\n",
       "                        <td id=\"T_6a85f562_485a_11eb_9cdd_acde48001122row5_col1\" class=\"data row5 col1\" >0.01</td>\n",
       "                        <td id=\"T_6a85f562_485a_11eb_9cdd_acde48001122row5_col2\" class=\"data row5 col2\" >-0.18</td>\n",
       "                        <td id=\"T_6a85f562_485a_11eb_9cdd_acde48001122row5_col3\" class=\"data row5 col3\" >0.07</td>\n",
       "                        <td id=\"T_6a85f562_485a_11eb_9cdd_acde48001122row5_col4\" class=\"data row5 col4\" >-0.15</td>\n",
       "                        <td id=\"T_6a85f562_485a_11eb_9cdd_acde48001122row5_col5\" class=\"data row5 col5\" >1.00</td>\n",
       "                        <td id=\"T_6a85f562_485a_11eb_9cdd_acde48001122row5_col6\" class=\"data row5 col6\" >-0.18</td>\n",
       "                        <td id=\"T_6a85f562_485a_11eb_9cdd_acde48001122row5_col7\" class=\"data row5 col7\" >0.10</td>\n",
       "                        <td id=\"T_6a85f562_485a_11eb_9cdd_acde48001122row5_col8\" class=\"data row5 col8\" >0.02</td>\n",
       "                        <td id=\"T_6a85f562_485a_11eb_9cdd_acde48001122row5_col9\" class=\"data row5 col9\" >-0.26</td>\n",
       "                        <td id=\"T_6a85f562_485a_11eb_9cdd_acde48001122row5_col10\" class=\"data row5 col10\" >0.24</td>\n",
       "                        <td id=\"T_6a85f562_485a_11eb_9cdd_acde48001122row5_col11\" class=\"data row5 col11\" >-0.40</td>\n",
       "                        <td id=\"T_6a85f562_485a_11eb_9cdd_acde48001122row5_col12\" class=\"data row5 col12\" >-0.18</td>\n",
       "                        <td id=\"T_6a85f562_485a_11eb_9cdd_acde48001122row5_col13\" class=\"data row5 col13\" >0.04</td>\n",
       "                        <td id=\"T_6a85f562_485a_11eb_9cdd_acde48001122row5_col14\" class=\"data row5 col14\" >0.13</td>\n",
       "                        <td id=\"T_6a85f562_485a_11eb_9cdd_acde48001122row5_col15\" class=\"data row5 col15\" >0.13</td>\n",
       "                        <td id=\"T_6a85f562_485a_11eb_9cdd_acde48001122row5_col16\" class=\"data row5 col16\" >-0.18</td>\n",
       "                        <td id=\"T_6a85f562_485a_11eb_9cdd_acde48001122row5_col17\" class=\"data row5 col17\" >0.08</td>\n",
       "                        <td id=\"T_6a85f562_485a_11eb_9cdd_acde48001122row5_col18\" class=\"data row5 col18\" >0.24</td>\n",
       "                        <td id=\"T_6a85f562_485a_11eb_9cdd_acde48001122row5_col19\" class=\"data row5 col19\" >0.12</td>\n",
       "                        <td id=\"T_6a85f562_485a_11eb_9cdd_acde48001122row5_col20\" class=\"data row5 col20\" >0.15</td>\n",
       "                        <td id=\"T_6a85f562_485a_11eb_9cdd_acde48001122row5_col21\" class=\"data row5 col21\" >-0.29</td>\n",
       "                        <td id=\"T_6a85f562_485a_11eb_9cdd_acde48001122row5_col22\" class=\"data row5 col22\" >0.16</td>\n",
       "                        <td id=\"T_6a85f562_485a_11eb_9cdd_acde48001122row5_col23\" class=\"data row5 col23\" >-0.01</td>\n",
       "                        <td id=\"T_6a85f562_485a_11eb_9cdd_acde48001122row5_col24\" class=\"data row5 col24\" >-0.09</td>\n",
       "                        <td id=\"T_6a85f562_485a_11eb_9cdd_acde48001122row5_col25\" class=\"data row5 col25\" >0.14</td>\n",
       "                        <td id=\"T_6a85f562_485a_11eb_9cdd_acde48001122row5_col26\" class=\"data row5 col26\" >0.03</td>\n",
       "                        <td id=\"T_6a85f562_485a_11eb_9cdd_acde48001122row5_col27\" class=\"data row5 col27\" >-0.14</td>\n",
       "                        <td id=\"T_6a85f562_485a_11eb_9cdd_acde48001122row5_col28\" class=\"data row5 col28\" >-0.10</td>\n",
       "            </tr>\n",
       "            <tr>\n",
       "                        <th id=\"T_6a85f562_485a_11eb_9cdd_acde48001122level0_row6\" class=\"row_heading level0 row6\" >bachelor_loc_n/a</th>\n",
       "                        <td id=\"T_6a85f562_485a_11eb_9cdd_acde48001122row6_col0\" class=\"data row6 col0\" >0.11</td>\n",
       "                        <td id=\"T_6a85f562_485a_11eb_9cdd_acde48001122row6_col1\" class=\"data row6 col1\" >0.04</td>\n",
       "                        <td id=\"T_6a85f562_485a_11eb_9cdd_acde48001122row6_col2\" class=\"data row6 col2\" >-0.06</td>\n",
       "                        <td id=\"T_6a85f562_485a_11eb_9cdd_acde48001122row6_col3\" class=\"data row6 col3\" >-0.01</td>\n",
       "                        <td id=\"T_6a85f562_485a_11eb_9cdd_acde48001122row6_col4\" class=\"data row6 col4\" >-0.08</td>\n",
       "                        <td id=\"T_6a85f562_485a_11eb_9cdd_acde48001122row6_col5\" class=\"data row6 col5\" >-0.18</td>\n",
       "                        <td id=\"T_6a85f562_485a_11eb_9cdd_acde48001122row6_col6\" class=\"data row6 col6\" >1.00</td>\n",
       "                        <td id=\"T_6a85f562_485a_11eb_9cdd_acde48001122row6_col7\" class=\"data row6 col7\" >-0.03</td>\n",
       "                        <td id=\"T_6a85f562_485a_11eb_9cdd_acde48001122row6_col8\" class=\"data row6 col8\" >0.07</td>\n",
       "                        <td id=\"T_6a85f562_485a_11eb_9cdd_acde48001122row6_col9\" class=\"data row6 col9\" >-0.04</td>\n",
       "                        <td id=\"T_6a85f562_485a_11eb_9cdd_acde48001122row6_col10\" class=\"data row6 col10\" >-0.04</td>\n",
       "                        <td id=\"T_6a85f562_485a_11eb_9cdd_acde48001122row6_col11\" class=\"data row6 col11\" >-0.14</td>\n",
       "                        <td id=\"T_6a85f562_485a_11eb_9cdd_acde48001122row6_col12\" class=\"data row6 col12\" >1.00</td>\n",
       "                        <td id=\"T_6a85f562_485a_11eb_9cdd_acde48001122row6_col13\" class=\"data row6 col13\" >0.11</td>\n",
       "                        <td id=\"T_6a85f562_485a_11eb_9cdd_acde48001122row6_col14\" class=\"data row6 col14\" >-0.11</td>\n",
       "                        <td id=\"T_6a85f562_485a_11eb_9cdd_acde48001122row6_col15\" class=\"data row6 col15\" >0.12</td>\n",
       "                        <td id=\"T_6a85f562_485a_11eb_9cdd_acde48001122row6_col16\" class=\"data row6 col16\" >-0.13</td>\n",
       "                        <td id=\"T_6a85f562_485a_11eb_9cdd_acde48001122row6_col17\" class=\"data row6 col17\" >0.05</td>\n",
       "                        <td id=\"T_6a85f562_485a_11eb_9cdd_acde48001122row6_col18\" class=\"data row6 col18\" >0.08</td>\n",
       "                        <td id=\"T_6a85f562_485a_11eb_9cdd_acde48001122row6_col19\" class=\"data row6 col19\" >-0.05</td>\n",
       "                        <td id=\"T_6a85f562_485a_11eb_9cdd_acde48001122row6_col20\" class=\"data row6 col20\" >0.02</td>\n",
       "                        <td id=\"T_6a85f562_485a_11eb_9cdd_acde48001122row6_col21\" class=\"data row6 col21\" >0.02</td>\n",
       "                        <td id=\"T_6a85f562_485a_11eb_9cdd_acde48001122row6_col22\" class=\"data row6 col22\" >-0.03</td>\n",
       "                        <td id=\"T_6a85f562_485a_11eb_9cdd_acde48001122row6_col23\" class=\"data row6 col23\" >0.10</td>\n",
       "                        <td id=\"T_6a85f562_485a_11eb_9cdd_acde48001122row6_col24\" class=\"data row6 col24\" >-0.08</td>\n",
       "                        <td id=\"T_6a85f562_485a_11eb_9cdd_acde48001122row6_col25\" class=\"data row6 col25\" >-0.04</td>\n",
       "                        <td id=\"T_6a85f562_485a_11eb_9cdd_acde48001122row6_col26\" class=\"data row6 col26\" >0.09</td>\n",
       "                        <td id=\"T_6a85f562_485a_11eb_9cdd_acde48001122row6_col27\" class=\"data row6 col27\" >-0.05</td>\n",
       "                        <td id=\"T_6a85f562_485a_11eb_9cdd_acde48001122row6_col28\" class=\"data row6 col28\" >-0.05</td>\n",
       "            </tr>\n",
       "            <tr>\n",
       "                        <th id=\"T_6a85f562_485a_11eb_9cdd_acde48001122level0_row7\" class=\"row_heading level0 row7\" >masters_loc_Saudi</th>\n",
       "                        <td id=\"T_6a85f562_485a_11eb_9cdd_acde48001122row7_col0\" class=\"data row7 col0\" >-0.14</td>\n",
       "                        <td id=\"T_6a85f562_485a_11eb_9cdd_acde48001122row7_col1\" class=\"data row7 col1\" >-0.09</td>\n",
       "                        <td id=\"T_6a85f562_485a_11eb_9cdd_acde48001122row7_col2\" class=\"data row7 col2\" >0.00</td>\n",
       "                        <td id=\"T_6a85f562_485a_11eb_9cdd_acde48001122row7_col3\" class=\"data row7 col3\" >-0.02</td>\n",
       "                        <td id=\"T_6a85f562_485a_11eb_9cdd_acde48001122row7_col4\" class=\"data row7 col4\" >-0.14</td>\n",
       "                        <td id=\"T_6a85f562_485a_11eb_9cdd_acde48001122row7_col5\" class=\"data row7 col5\" >0.10</td>\n",
       "                        <td id=\"T_6a85f562_485a_11eb_9cdd_acde48001122row7_col6\" class=\"data row7 col6\" >-0.03</td>\n",
       "                        <td id=\"T_6a85f562_485a_11eb_9cdd_acde48001122row7_col7\" class=\"data row7 col7\" >1.00</td>\n",
       "                        <td id=\"T_6a85f562_485a_11eb_9cdd_acde48001122row7_col8\" class=\"data row7 col8\" >-0.49</td>\n",
       "                        <td id=\"T_6a85f562_485a_11eb_9cdd_acde48001122row7_col9\" class=\"data row7 col9\" >0.07</td>\n",
       "                        <td id=\"T_6a85f562_485a_11eb_9cdd_acde48001122row7_col10\" class=\"data row7 col10\" >-0.08</td>\n",
       "                        <td id=\"T_6a85f562_485a_11eb_9cdd_acde48001122row7_col11\" class=\"data row7 col11\" >-0.24</td>\n",
       "                        <td id=\"T_6a85f562_485a_11eb_9cdd_acde48001122row7_col12\" class=\"data row7 col12\" >-0.03</td>\n",
       "                        <td id=\"T_6a85f562_485a_11eb_9cdd_acde48001122row7_col13\" class=\"data row7 col13\" >0.19</td>\n",
       "                        <td id=\"T_6a85f562_485a_11eb_9cdd_acde48001122row7_col14\" class=\"data row7 col14\" >-0.03</td>\n",
       "                        <td id=\"T_6a85f562_485a_11eb_9cdd_acde48001122row7_col15\" class=\"data row7 col15\" >-0.11</td>\n",
       "                        <td id=\"T_6a85f562_485a_11eb_9cdd_acde48001122row7_col16\" class=\"data row7 col16\" >0.10</td>\n",
       "                        <td id=\"T_6a85f562_485a_11eb_9cdd_acde48001122row7_col17\" class=\"data row7 col17\" >-0.08</td>\n",
       "                        <td id=\"T_6a85f562_485a_11eb_9cdd_acde48001122row7_col18\" class=\"data row7 col18\" >0.15</td>\n",
       "                        <td id=\"T_6a85f562_485a_11eb_9cdd_acde48001122row7_col19\" class=\"data row7 col19\" >-0.08</td>\n",
       "                        <td id=\"T_6a85f562_485a_11eb_9cdd_acde48001122row7_col20\" class=\"data row7 col20\" >-0.05</td>\n",
       "                        <td id=\"T_6a85f562_485a_11eb_9cdd_acde48001122row7_col21\" class=\"data row7 col21\" >-0.12</td>\n",
       "                        <td id=\"T_6a85f562_485a_11eb_9cdd_acde48001122row7_col22\" class=\"data row7 col22\" >0.33</td>\n",
       "                        <td id=\"T_6a85f562_485a_11eb_9cdd_acde48001122row7_col23\" class=\"data row7 col23\" >-0.02</td>\n",
       "                        <td id=\"T_6a85f562_485a_11eb_9cdd_acde48001122row7_col24\" class=\"data row7 col24\" >-0.23</td>\n",
       "                        <td id=\"T_6a85f562_485a_11eb_9cdd_acde48001122row7_col25\" class=\"data row7 col25\" >-0.07</td>\n",
       "                        <td id=\"T_6a85f562_485a_11eb_9cdd_acde48001122row7_col26\" class=\"data row7 col26\" >0.07</td>\n",
       "                        <td id=\"T_6a85f562_485a_11eb_9cdd_acde48001122row7_col27\" class=\"data row7 col27\" >-0.26</td>\n",
       "                        <td id=\"T_6a85f562_485a_11eb_9cdd_acde48001122row7_col28\" class=\"data row7 col28\" >-0.18</td>\n",
       "            </tr>\n",
       "            <tr>\n",
       "                        <th id=\"T_6a85f562_485a_11eb_9cdd_acde48001122level0_row8\" class=\"row_heading level0 row8\" >masters_loc_n/a</th>\n",
       "                        <td id=\"T_6a85f562_485a_11eb_9cdd_acde48001122row8_col0\" class=\"data row8 col0\" >0.00</td>\n",
       "                        <td id=\"T_6a85f562_485a_11eb_9cdd_acde48001122row8_col1\" class=\"data row8 col1\" >-0.05</td>\n",
       "                        <td id=\"T_6a85f562_485a_11eb_9cdd_acde48001122row8_col2\" class=\"data row8 col2\" >-0.03</td>\n",
       "                        <td id=\"T_6a85f562_485a_11eb_9cdd_acde48001122row8_col3\" class=\"data row8 col3\" >0.05</td>\n",
       "                        <td id=\"T_6a85f562_485a_11eb_9cdd_acde48001122row8_col4\" class=\"data row8 col4\" >0.12</td>\n",
       "                        <td id=\"T_6a85f562_485a_11eb_9cdd_acde48001122row8_col5\" class=\"data row8 col5\" >0.02</td>\n",
       "                        <td id=\"T_6a85f562_485a_11eb_9cdd_acde48001122row8_col6\" class=\"data row8 col6\" >0.07</td>\n",
       "                        <td id=\"T_6a85f562_485a_11eb_9cdd_acde48001122row8_col7\" class=\"data row8 col7\" >-0.49</td>\n",
       "                        <td id=\"T_6a85f562_485a_11eb_9cdd_acde48001122row8_col8\" class=\"data row8 col8\" >1.00</td>\n",
       "                        <td id=\"T_6a85f562_485a_11eb_9cdd_acde48001122row8_col9\" class=\"data row8 col9\" >-0.28</td>\n",
       "                        <td id=\"T_6a85f562_485a_11eb_9cdd_acde48001122row8_col10\" class=\"data row8 col10\" >-0.41</td>\n",
       "                        <td id=\"T_6a85f562_485a_11eb_9cdd_acde48001122row8_col11\" class=\"data row8 col11\" >0.35</td>\n",
       "                        <td id=\"T_6a85f562_485a_11eb_9cdd_acde48001122row8_col12\" class=\"data row8 col12\" >0.07</td>\n",
       "                        <td id=\"T_6a85f562_485a_11eb_9cdd_acde48001122row8_col13\" class=\"data row8 col13\" >-0.05</td>\n",
       "                        <td id=\"T_6a85f562_485a_11eb_9cdd_acde48001122row8_col14\" class=\"data row8 col14\" >0.01</td>\n",
       "                        <td id=\"T_6a85f562_485a_11eb_9cdd_acde48001122row8_col15\" class=\"data row8 col15\" >0.03</td>\n",
       "                        <td id=\"T_6a85f562_485a_11eb_9cdd_acde48001122row8_col16\" class=\"data row8 col16\" >-0.15</td>\n",
       "                        <td id=\"T_6a85f562_485a_11eb_9cdd_acde48001122row8_col17\" class=\"data row8 col17\" >0.15</td>\n",
       "                        <td id=\"T_6a85f562_485a_11eb_9cdd_acde48001122row8_col18\" class=\"data row8 col18\" >0.06</td>\n",
       "                        <td id=\"T_6a85f562_485a_11eb_9cdd_acde48001122row8_col19\" class=\"data row8 col19\" >0.09</td>\n",
       "                        <td id=\"T_6a85f562_485a_11eb_9cdd_acde48001122row8_col20\" class=\"data row8 col20\" >0.05</td>\n",
       "                        <td id=\"T_6a85f562_485a_11eb_9cdd_acde48001122row8_col21\" class=\"data row8 col21\" >-0.01</td>\n",
       "                        <td id=\"T_6a85f562_485a_11eb_9cdd_acde48001122row8_col22\" class=\"data row8 col22\" >-0.12</td>\n",
       "                        <td id=\"T_6a85f562_485a_11eb_9cdd_acde48001122row8_col23\" class=\"data row8 col23\" >0.01</td>\n",
       "                        <td id=\"T_6a85f562_485a_11eb_9cdd_acde48001122row8_col24\" class=\"data row8 col24\" >0.09</td>\n",
       "                        <td id=\"T_6a85f562_485a_11eb_9cdd_acde48001122row8_col25\" class=\"data row8 col25\" >0.14</td>\n",
       "                        <td id=\"T_6a85f562_485a_11eb_9cdd_acde48001122row8_col26\" class=\"data row8 col26\" >-0.19</td>\n",
       "                        <td id=\"T_6a85f562_485a_11eb_9cdd_acde48001122row8_col27\" class=\"data row8 col27\" >0.21</td>\n",
       "                        <td id=\"T_6a85f562_485a_11eb_9cdd_acde48001122row8_col28\" class=\"data row8 col28\" >0.01</td>\n",
       "            </tr>\n",
       "            <tr>\n",
       "                        <th id=\"T_6a85f562_485a_11eb_9cdd_acde48001122level0_row9\" class=\"row_heading level0 row9\" >mixed_sex_Yes, both</th>\n",
       "                        <td id=\"T_6a85f562_485a_11eb_9cdd_acde48001122row9_col0\" class=\"data row9 col0\" >-0.11</td>\n",
       "                        <td id=\"T_6a85f562_485a_11eb_9cdd_acde48001122row9_col1\" class=\"data row9 col1\" >-0.17</td>\n",
       "                        <td id=\"T_6a85f562_485a_11eb_9cdd_acde48001122row9_col2\" class=\"data row9 col2\" >-0.04</td>\n",
       "                        <td id=\"T_6a85f562_485a_11eb_9cdd_acde48001122row9_col3\" class=\"data row9 col3\" >0.32</td>\n",
       "                        <td id=\"T_6a85f562_485a_11eb_9cdd_acde48001122row9_col4\" class=\"data row9 col4\" >-0.02</td>\n",
       "                        <td id=\"T_6a85f562_485a_11eb_9cdd_acde48001122row9_col5\" class=\"data row9 col5\" >-0.26</td>\n",
       "                        <td id=\"T_6a85f562_485a_11eb_9cdd_acde48001122row9_col6\" class=\"data row9 col6\" >-0.04</td>\n",
       "                        <td id=\"T_6a85f562_485a_11eb_9cdd_acde48001122row9_col7\" class=\"data row9 col7\" >0.07</td>\n",
       "                        <td id=\"T_6a85f562_485a_11eb_9cdd_acde48001122row9_col8\" class=\"data row9 col8\" >-0.28</td>\n",
       "                        <td id=\"T_6a85f562_485a_11eb_9cdd_acde48001122row9_col9\" class=\"data row9 col9\" >1.00</td>\n",
       "                        <td id=\"T_6a85f562_485a_11eb_9cdd_acde48001122row9_col10\" class=\"data row9 col10\" >-0.10</td>\n",
       "                        <td id=\"T_6a85f562_485a_11eb_9cdd_acde48001122row9_col11\" class=\"data row9 col11\" >-0.30</td>\n",
       "                        <td id=\"T_6a85f562_485a_11eb_9cdd_acde48001122row9_col12\" class=\"data row9 col12\" >-0.04</td>\n",
       "                        <td id=\"T_6a85f562_485a_11eb_9cdd_acde48001122row9_col13\" class=\"data row9 col13\" >0.10</td>\n",
       "                        <td id=\"T_6a85f562_485a_11eb_9cdd_acde48001122row9_col14\" class=\"data row9 col14\" >-0.04</td>\n",
       "                        <td id=\"T_6a85f562_485a_11eb_9cdd_acde48001122row9_col15\" class=\"data row9 col15\" >-0.13</td>\n",
       "                        <td id=\"T_6a85f562_485a_11eb_9cdd_acde48001122row9_col16\" class=\"data row9 col16\" >0.12</td>\n",
       "                        <td id=\"T_6a85f562_485a_11eb_9cdd_acde48001122row9_col17\" class=\"data row9 col17\" >0.00</td>\n",
       "                        <td id=\"T_6a85f562_485a_11eb_9cdd_acde48001122row9_col18\" class=\"data row9 col18\" >-0.01</td>\n",
       "                        <td id=\"T_6a85f562_485a_11eb_9cdd_acde48001122row9_col19\" class=\"data row9 col19\" >-0.10</td>\n",
       "                        <td id=\"T_6a85f562_485a_11eb_9cdd_acde48001122row9_col20\" class=\"data row9 col20\" >0.01</td>\n",
       "                        <td id=\"T_6a85f562_485a_11eb_9cdd_acde48001122row9_col21\" class=\"data row9 col21\" >0.08</td>\n",
       "                        <td id=\"T_6a85f562_485a_11eb_9cdd_acde48001122row9_col22\" class=\"data row9 col22\" >-0.07</td>\n",
       "                        <td id=\"T_6a85f562_485a_11eb_9cdd_acde48001122row9_col23\" class=\"data row9 col23\" >0.02</td>\n",
       "                        <td id=\"T_6a85f562_485a_11eb_9cdd_acde48001122row9_col24\" class=\"data row9 col24\" >0.02</td>\n",
       "                        <td id=\"T_6a85f562_485a_11eb_9cdd_acde48001122row9_col25\" class=\"data row9 col25\" >-0.08</td>\n",
       "                        <td id=\"T_6a85f562_485a_11eb_9cdd_acde48001122row9_col26\" class=\"data row9 col26\" >0.08</td>\n",
       "                        <td id=\"T_6a85f562_485a_11eb_9cdd_acde48001122row9_col27\" class=\"data row9 col27\" >-0.01</td>\n",
       "                        <td id=\"T_6a85f562_485a_11eb_9cdd_acde48001122row9_col28\" class=\"data row9 col28\" >0.13</td>\n",
       "            </tr>\n",
       "            <tr>\n",
       "                        <th id=\"T_6a85f562_485a_11eb_9cdd_acde48001122level0_row10\" class=\"row_heading level0 row10\" >mixed_sex_Yes, grad</th>\n",
       "                        <td id=\"T_6a85f562_485a_11eb_9cdd_acde48001122row10_col0\" class=\"data row10 col0\" >-0.08</td>\n",
       "                        <td id=\"T_6a85f562_485a_11eb_9cdd_acde48001122row10_col1\" class=\"data row10 col1\" >0.09</td>\n",
       "                        <td id=\"T_6a85f562_485a_11eb_9cdd_acde48001122row10_col2\" class=\"data row10 col2\" >-0.06</td>\n",
       "                        <td id=\"T_6a85f562_485a_11eb_9cdd_acde48001122row10_col3\" class=\"data row10 col3\" >-0.03</td>\n",
       "                        <td id=\"T_6a85f562_485a_11eb_9cdd_acde48001122row10_col4\" class=\"data row10 col4\" >-0.11</td>\n",
       "                        <td id=\"T_6a85f562_485a_11eb_9cdd_acde48001122row10_col5\" class=\"data row10 col5\" >0.24</td>\n",
       "                        <td id=\"T_6a85f562_485a_11eb_9cdd_acde48001122row10_col6\" class=\"data row10 col6\" >-0.04</td>\n",
       "                        <td id=\"T_6a85f562_485a_11eb_9cdd_acde48001122row10_col7\" class=\"data row10 col7\" >-0.08</td>\n",
       "                        <td id=\"T_6a85f562_485a_11eb_9cdd_acde48001122row10_col8\" class=\"data row10 col8\" >-0.41</td>\n",
       "                        <td id=\"T_6a85f562_485a_11eb_9cdd_acde48001122row10_col9\" class=\"data row10 col9\" >-0.10</td>\n",
       "                        <td id=\"T_6a85f562_485a_11eb_9cdd_acde48001122row10_col10\" class=\"data row10 col10\" >1.00</td>\n",
       "                        <td id=\"T_6a85f562_485a_11eb_9cdd_acde48001122row10_col11\" class=\"data row10 col11\" >-0.32</td>\n",
       "                        <td id=\"T_6a85f562_485a_11eb_9cdd_acde48001122row10_col12\" class=\"data row10 col12\" >-0.04</td>\n",
       "                        <td id=\"T_6a85f562_485a_11eb_9cdd_acde48001122row10_col13\" class=\"data row10 col13\" >-0.01</td>\n",
       "                        <td id=\"T_6a85f562_485a_11eb_9cdd_acde48001122row10_col14\" class=\"data row10 col14\" >0.07</td>\n",
       "                        <td id=\"T_6a85f562_485a_11eb_9cdd_acde48001122row10_col15\" class=\"data row10 col15\" >0.12</td>\n",
       "                        <td id=\"T_6a85f562_485a_11eb_9cdd_acde48001122row10_col16\" class=\"data row10 col16\" >0.08</td>\n",
       "                        <td id=\"T_6a85f562_485a_11eb_9cdd_acde48001122row10_col17\" class=\"data row10 col17\" >-0.16</td>\n",
       "                        <td id=\"T_6a85f562_485a_11eb_9cdd_acde48001122row10_col18\" class=\"data row10 col18\" >0.12</td>\n",
       "                        <td id=\"T_6a85f562_485a_11eb_9cdd_acde48001122row10_col19\" class=\"data row10 col19\" >-0.00</td>\n",
       "                        <td id=\"T_6a85f562_485a_11eb_9cdd_acde48001122row10_col20\" class=\"data row10 col20\" >0.17</td>\n",
       "                        <td id=\"T_6a85f562_485a_11eb_9cdd_acde48001122row10_col21\" class=\"data row10 col21\" >-0.14</td>\n",
       "                        <td id=\"T_6a85f562_485a_11eb_9cdd_acde48001122row10_col22\" class=\"data row10 col22\" >-0.07</td>\n",
       "                        <td id=\"T_6a85f562_485a_11eb_9cdd_acde48001122row10_col23\" class=\"data row10 col23\" >0.24</td>\n",
       "                        <td id=\"T_6a85f562_485a_11eb_9cdd_acde48001122row10_col24\" class=\"data row10 col24\" >-0.18</td>\n",
       "                        <td id=\"T_6a85f562_485a_11eb_9cdd_acde48001122row10_col25\" class=\"data row10 col25\" >0.03</td>\n",
       "                        <td id=\"T_6a85f562_485a_11eb_9cdd_acde48001122row10_col26\" class=\"data row10 col26\" >0.29</td>\n",
       "                        <td id=\"T_6a85f562_485a_11eb_9cdd_acde48001122row10_col27\" class=\"data row10 col27\" >-0.26</td>\n",
       "                        <td id=\"T_6a85f562_485a_11eb_9cdd_acde48001122row10_col28\" class=\"data row10 col28\" >-0.05</td>\n",
       "            </tr>\n",
       "            <tr>\n",
       "                        <th id=\"T_6a85f562_485a_11eb_9cdd_acde48001122level0_row11\" class=\"row_heading level0 row11\" >mixed_sex_Yes, undergrad</th>\n",
       "                        <td id=\"T_6a85f562_485a_11eb_9cdd_acde48001122row11_col0\" class=\"data row11 col0\" >0.29</td>\n",
       "                        <td id=\"T_6a85f562_485a_11eb_9cdd_acde48001122row11_col1\" class=\"data row11 col1\" >0.00</td>\n",
       "                        <td id=\"T_6a85f562_485a_11eb_9cdd_acde48001122row11_col2\" class=\"data row11 col2\" >0.09</td>\n",
       "                        <td id=\"T_6a85f562_485a_11eb_9cdd_acde48001122row11_col3\" class=\"data row11 col3\" >-0.10</td>\n",
       "                        <td id=\"T_6a85f562_485a_11eb_9cdd_acde48001122row11_col4\" class=\"data row11 col4\" >0.06</td>\n",
       "                        <td id=\"T_6a85f562_485a_11eb_9cdd_acde48001122row11_col5\" class=\"data row11 col5\" >-0.40</td>\n",
       "                        <td id=\"T_6a85f562_485a_11eb_9cdd_acde48001122row11_col6\" class=\"data row11 col6\" >-0.14</td>\n",
       "                        <td id=\"T_6a85f562_485a_11eb_9cdd_acde48001122row11_col7\" class=\"data row11 col7\" >-0.24</td>\n",
       "                        <td id=\"T_6a85f562_485a_11eb_9cdd_acde48001122row11_col8\" class=\"data row11 col8\" >0.35</td>\n",
       "                        <td id=\"T_6a85f562_485a_11eb_9cdd_acde48001122row11_col9\" class=\"data row11 col9\" >-0.30</td>\n",
       "                        <td id=\"T_6a85f562_485a_11eb_9cdd_acde48001122row11_col10\" class=\"data row11 col10\" >-0.32</td>\n",
       "                        <td id=\"T_6a85f562_485a_11eb_9cdd_acde48001122row11_col11\" class=\"data row11 col11\" >1.00</td>\n",
       "                        <td id=\"T_6a85f562_485a_11eb_9cdd_acde48001122row11_col12\" class=\"data row11 col12\" >-0.14</td>\n",
       "                        <td id=\"T_6a85f562_485a_11eb_9cdd_acde48001122row11_col13\" class=\"data row11 col13\" >-0.18</td>\n",
       "                        <td id=\"T_6a85f562_485a_11eb_9cdd_acde48001122row11_col14\" class=\"data row11 col14\" >-0.06</td>\n",
       "                        <td id=\"T_6a85f562_485a_11eb_9cdd_acde48001122row11_col15\" class=\"data row11 col15\" >-0.15</td>\n",
       "                        <td id=\"T_6a85f562_485a_11eb_9cdd_acde48001122row11_col16\" class=\"data row11 col16\" >0.01</td>\n",
       "                        <td id=\"T_6a85f562_485a_11eb_9cdd_acde48001122row11_col17\" class=\"data row11 col17\" >0.07</td>\n",
       "                        <td id=\"T_6a85f562_485a_11eb_9cdd_acde48001122row11_col18\" class=\"data row11 col18\" >-0.35</td>\n",
       "                        <td id=\"T_6a85f562_485a_11eb_9cdd_acde48001122row11_col19\" class=\"data row11 col19\" >-0.09</td>\n",
       "                        <td id=\"T_6a85f562_485a_11eb_9cdd_acde48001122row11_col20\" class=\"data row11 col20\" >-0.14</td>\n",
       "                        <td id=\"T_6a85f562_485a_11eb_9cdd_acde48001122row11_col21\" class=\"data row11 col21\" >0.29</td>\n",
       "                        <td id=\"T_6a85f562_485a_11eb_9cdd_acde48001122row11_col22\" class=\"data row11 col22\" >-0.13</td>\n",
       "                        <td id=\"T_6a85f562_485a_11eb_9cdd_acde48001122row11_col23\" class=\"data row11 col23\" >-0.19</td>\n",
       "                        <td id=\"T_6a85f562_485a_11eb_9cdd_acde48001122row11_col24\" class=\"data row11 col24\" >0.26</td>\n",
       "                        <td id=\"T_6a85f562_485a_11eb_9cdd_acde48001122row11_col25\" class=\"data row11 col25\" >-0.14</td>\n",
       "                        <td id=\"T_6a85f562_485a_11eb_9cdd_acde48001122row11_col26\" class=\"data row11 col26\" >-0.23</td>\n",
       "                        <td id=\"T_6a85f562_485a_11eb_9cdd_acde48001122row11_col27\" class=\"data row11 col27\" >0.34</td>\n",
       "                        <td id=\"T_6a85f562_485a_11eb_9cdd_acde48001122row11_col28\" class=\"data row11 col28\" >0.14</td>\n",
       "            </tr>\n",
       "            <tr>\n",
       "                        <th id=\"T_6a85f562_485a_11eb_9cdd_acde48001122level0_row12\" class=\"row_heading level0 row12\" >mixed_sex_n/a</th>\n",
       "                        <td id=\"T_6a85f562_485a_11eb_9cdd_acde48001122row12_col0\" class=\"data row12 col0\" >0.11</td>\n",
       "                        <td id=\"T_6a85f562_485a_11eb_9cdd_acde48001122row12_col1\" class=\"data row12 col1\" >0.04</td>\n",
       "                        <td id=\"T_6a85f562_485a_11eb_9cdd_acde48001122row12_col2\" class=\"data row12 col2\" >-0.06</td>\n",
       "                        <td id=\"T_6a85f562_485a_11eb_9cdd_acde48001122row12_col3\" class=\"data row12 col3\" >-0.01</td>\n",
       "                        <td id=\"T_6a85f562_485a_11eb_9cdd_acde48001122row12_col4\" class=\"data row12 col4\" >-0.08</td>\n",
       "                        <td id=\"T_6a85f562_485a_11eb_9cdd_acde48001122row12_col5\" class=\"data row12 col5\" >-0.18</td>\n",
       "                        <td id=\"T_6a85f562_485a_11eb_9cdd_acde48001122row12_col6\" class=\"data row12 col6\" >1.00</td>\n",
       "                        <td id=\"T_6a85f562_485a_11eb_9cdd_acde48001122row12_col7\" class=\"data row12 col7\" >-0.03</td>\n",
       "                        <td id=\"T_6a85f562_485a_11eb_9cdd_acde48001122row12_col8\" class=\"data row12 col8\" >0.07</td>\n",
       "                        <td id=\"T_6a85f562_485a_11eb_9cdd_acde48001122row12_col9\" class=\"data row12 col9\" >-0.04</td>\n",
       "                        <td id=\"T_6a85f562_485a_11eb_9cdd_acde48001122row12_col10\" class=\"data row12 col10\" >-0.04</td>\n",
       "                        <td id=\"T_6a85f562_485a_11eb_9cdd_acde48001122row12_col11\" class=\"data row12 col11\" >-0.14</td>\n",
       "                        <td id=\"T_6a85f562_485a_11eb_9cdd_acde48001122row12_col12\" class=\"data row12 col12\" >1.00</td>\n",
       "                        <td id=\"T_6a85f562_485a_11eb_9cdd_acde48001122row12_col13\" class=\"data row12 col13\" >0.11</td>\n",
       "                        <td id=\"T_6a85f562_485a_11eb_9cdd_acde48001122row12_col14\" class=\"data row12 col14\" >-0.11</td>\n",
       "                        <td id=\"T_6a85f562_485a_11eb_9cdd_acde48001122row12_col15\" class=\"data row12 col15\" >0.12</td>\n",
       "                        <td id=\"T_6a85f562_485a_11eb_9cdd_acde48001122row12_col16\" class=\"data row12 col16\" >-0.13</td>\n",
       "                        <td id=\"T_6a85f562_485a_11eb_9cdd_acde48001122row12_col17\" class=\"data row12 col17\" >0.05</td>\n",
       "                        <td id=\"T_6a85f562_485a_11eb_9cdd_acde48001122row12_col18\" class=\"data row12 col18\" >0.08</td>\n",
       "                        <td id=\"T_6a85f562_485a_11eb_9cdd_acde48001122row12_col19\" class=\"data row12 col19\" >-0.05</td>\n",
       "                        <td id=\"T_6a85f562_485a_11eb_9cdd_acde48001122row12_col20\" class=\"data row12 col20\" >0.02</td>\n",
       "                        <td id=\"T_6a85f562_485a_11eb_9cdd_acde48001122row12_col21\" class=\"data row12 col21\" >0.02</td>\n",
       "                        <td id=\"T_6a85f562_485a_11eb_9cdd_acde48001122row12_col22\" class=\"data row12 col22\" >-0.03</td>\n",
       "                        <td id=\"T_6a85f562_485a_11eb_9cdd_acde48001122row12_col23\" class=\"data row12 col23\" >0.10</td>\n",
       "                        <td id=\"T_6a85f562_485a_11eb_9cdd_acde48001122row12_col24\" class=\"data row12 col24\" >-0.08</td>\n",
       "                        <td id=\"T_6a85f562_485a_11eb_9cdd_acde48001122row12_col25\" class=\"data row12 col25\" >-0.04</td>\n",
       "                        <td id=\"T_6a85f562_485a_11eb_9cdd_acde48001122row12_col26\" class=\"data row12 col26\" >0.09</td>\n",
       "                        <td id=\"T_6a85f562_485a_11eb_9cdd_acde48001122row12_col27\" class=\"data row12 col27\" >-0.05</td>\n",
       "                        <td id=\"T_6a85f562_485a_11eb_9cdd_acde48001122row12_col28\" class=\"data row12 col28\" >-0.05</td>\n",
       "            </tr>\n",
       "            <tr>\n",
       "                        <th id=\"T_6a85f562_485a_11eb_9cdd_acde48001122level0_row13\" class=\"row_heading level0 row13\" >introversion_personal_Inner reflection and solitude</th>\n",
       "                        <td id=\"T_6a85f562_485a_11eb_9cdd_acde48001122row13_col0\" class=\"data row13 col0\" >-0.19</td>\n",
       "                        <td id=\"T_6a85f562_485a_11eb_9cdd_acde48001122row13_col1\" class=\"data row13 col1\" >-0.08</td>\n",
       "                        <td id=\"T_6a85f562_485a_11eb_9cdd_acde48001122row13_col2\" class=\"data row13 col2\" >-0.21</td>\n",
       "                        <td id=\"T_6a85f562_485a_11eb_9cdd_acde48001122row13_col3\" class=\"data row13 col3\" >0.08</td>\n",
       "                        <td id=\"T_6a85f562_485a_11eb_9cdd_acde48001122row13_col4\" class=\"data row13 col4\" >0.10</td>\n",
       "                        <td id=\"T_6a85f562_485a_11eb_9cdd_acde48001122row13_col5\" class=\"data row13 col5\" >0.04</td>\n",
       "                        <td id=\"T_6a85f562_485a_11eb_9cdd_acde48001122row13_col6\" class=\"data row13 col6\" >0.11</td>\n",
       "                        <td id=\"T_6a85f562_485a_11eb_9cdd_acde48001122row13_col7\" class=\"data row13 col7\" >0.19</td>\n",
       "                        <td id=\"T_6a85f562_485a_11eb_9cdd_acde48001122row13_col8\" class=\"data row13 col8\" >-0.05</td>\n",
       "                        <td id=\"T_6a85f562_485a_11eb_9cdd_acde48001122row13_col9\" class=\"data row13 col9\" >0.10</td>\n",
       "                        <td id=\"T_6a85f562_485a_11eb_9cdd_acde48001122row13_col10\" class=\"data row13 col10\" >-0.01</td>\n",
       "                        <td id=\"T_6a85f562_485a_11eb_9cdd_acde48001122row13_col11\" class=\"data row13 col11\" >-0.18</td>\n",
       "                        <td id=\"T_6a85f562_485a_11eb_9cdd_acde48001122row13_col12\" class=\"data row13 col12\" >0.11</td>\n",
       "                        <td id=\"T_6a85f562_485a_11eb_9cdd_acde48001122row13_col13\" class=\"data row13 col13\" >1.00</td>\n",
       "                        <td id=\"T_6a85f562_485a_11eb_9cdd_acde48001122row13_col14\" class=\"data row13 col14\" >0.10</td>\n",
       "                        <td id=\"T_6a85f562_485a_11eb_9cdd_acde48001122row13_col15\" class=\"data row13 col15\" >-0.05</td>\n",
       "                        <td id=\"T_6a85f562_485a_11eb_9cdd_acde48001122row13_col16\" class=\"data row13 col16\" >-0.01</td>\n",
       "                        <td id=\"T_6a85f562_485a_11eb_9cdd_acde48001122row13_col17\" class=\"data row13 col17\" >0.08</td>\n",
       "                        <td id=\"T_6a85f562_485a_11eb_9cdd_acde48001122row13_col18\" class=\"data row13 col18\" >-0.09</td>\n",
       "                        <td id=\"T_6a85f562_485a_11eb_9cdd_acde48001122row13_col19\" class=\"data row13 col19\" >-0.05</td>\n",
       "                        <td id=\"T_6a85f562_485a_11eb_9cdd_acde48001122row13_col20\" class=\"data row13 col20\" >-0.03</td>\n",
       "                        <td id=\"T_6a85f562_485a_11eb_9cdd_acde48001122row13_col21\" class=\"data row13 col21\" >-0.01</td>\n",
       "                        <td id=\"T_6a85f562_485a_11eb_9cdd_acde48001122row13_col22\" class=\"data row13 col22\" >0.08</td>\n",
       "                        <td id=\"T_6a85f562_485a_11eb_9cdd_acde48001122row13_col23\" class=\"data row13 col23\" >0.07</td>\n",
       "                        <td id=\"T_6a85f562_485a_11eb_9cdd_acde48001122row13_col24\" class=\"data row13 col24\" >-0.12</td>\n",
       "                        <td id=\"T_6a85f562_485a_11eb_9cdd_acde48001122row13_col25\" class=\"data row13 col25\" >-0.07</td>\n",
       "                        <td id=\"T_6a85f562_485a_11eb_9cdd_acde48001122row13_col26\" class=\"data row13 col26\" >0.24</td>\n",
       "                        <td id=\"T_6a85f562_485a_11eb_9cdd_acde48001122row13_col27\" class=\"data row13 col27\" >-0.22</td>\n",
       "                        <td id=\"T_6a85f562_485a_11eb_9cdd_acde48001122row13_col28\" class=\"data row13 col28\" >-0.02</td>\n",
       "            </tr>\n",
       "            <tr>\n",
       "                        <th id=\"T_6a85f562_485a_11eb_9cdd_acde48001122level0_row14\" class=\"row_heading level0 row14\" >introversion_public_Quiet and reflective</th>\n",
       "                        <td id=\"T_6a85f562_485a_11eb_9cdd_acde48001122row14_col0\" class=\"data row14 col0\" >-0.15</td>\n",
       "                        <td id=\"T_6a85f562_485a_11eb_9cdd_acde48001122row14_col1\" class=\"data row14 col1\" >0.08</td>\n",
       "                        <td id=\"T_6a85f562_485a_11eb_9cdd_acde48001122row14_col2\" class=\"data row14 col2\" >0.05</td>\n",
       "                        <td id=\"T_6a85f562_485a_11eb_9cdd_acde48001122row14_col3\" class=\"data row14 col3\" >-0.08</td>\n",
       "                        <td id=\"T_6a85f562_485a_11eb_9cdd_acde48001122row14_col4\" class=\"data row14 col4\" >0.10</td>\n",
       "                        <td id=\"T_6a85f562_485a_11eb_9cdd_acde48001122row14_col5\" class=\"data row14 col5\" >0.13</td>\n",
       "                        <td id=\"T_6a85f562_485a_11eb_9cdd_acde48001122row14_col6\" class=\"data row14 col6\" >-0.11</td>\n",
       "                        <td id=\"T_6a85f562_485a_11eb_9cdd_acde48001122row14_col7\" class=\"data row14 col7\" >-0.03</td>\n",
       "                        <td id=\"T_6a85f562_485a_11eb_9cdd_acde48001122row14_col8\" class=\"data row14 col8\" >0.01</td>\n",
       "                        <td id=\"T_6a85f562_485a_11eb_9cdd_acde48001122row14_col9\" class=\"data row14 col9\" >-0.04</td>\n",
       "                        <td id=\"T_6a85f562_485a_11eb_9cdd_acde48001122row14_col10\" class=\"data row14 col10\" >0.07</td>\n",
       "                        <td id=\"T_6a85f562_485a_11eb_9cdd_acde48001122row14_col11\" class=\"data row14 col11\" >-0.06</td>\n",
       "                        <td id=\"T_6a85f562_485a_11eb_9cdd_acde48001122row14_col12\" class=\"data row14 col12\" >-0.11</td>\n",
       "                        <td id=\"T_6a85f562_485a_11eb_9cdd_acde48001122row14_col13\" class=\"data row14 col13\" >0.10</td>\n",
       "                        <td id=\"T_6a85f562_485a_11eb_9cdd_acde48001122row14_col14\" class=\"data row14 col14\" >1.00</td>\n",
       "                        <td id=\"T_6a85f562_485a_11eb_9cdd_acde48001122row14_col15\" class=\"data row14 col15\" >-0.11</td>\n",
       "                        <td id=\"T_6a85f562_485a_11eb_9cdd_acde48001122row14_col16\" class=\"data row14 col16\" >-0.19</td>\n",
       "                        <td id=\"T_6a85f562_485a_11eb_9cdd_acde48001122row14_col17\" class=\"data row14 col17\" >0.27</td>\n",
       "                        <td id=\"T_6a85f562_485a_11eb_9cdd_acde48001122row14_col18\" class=\"data row14 col18\" >-0.06</td>\n",
       "                        <td id=\"T_6a85f562_485a_11eb_9cdd_acde48001122row14_col19\" class=\"data row14 col19\" >-0.02</td>\n",
       "                        <td id=\"T_6a85f562_485a_11eb_9cdd_acde48001122row14_col20\" class=\"data row14 col20\" >0.06</td>\n",
       "                        <td id=\"T_6a85f562_485a_11eb_9cdd_acde48001122row14_col21\" class=\"data row14 col21\" >-0.08</td>\n",
       "                        <td id=\"T_6a85f562_485a_11eb_9cdd_acde48001122row14_col22\" class=\"data row14 col22\" >-0.09</td>\n",
       "                        <td id=\"T_6a85f562_485a_11eb_9cdd_acde48001122row14_col23\" class=\"data row14 col23\" >0.06</td>\n",
       "                        <td id=\"T_6a85f562_485a_11eb_9cdd_acde48001122row14_col24\" class=\"data row14 col24\" >-0.04</td>\n",
       "                        <td id=\"T_6a85f562_485a_11eb_9cdd_acde48001122row14_col25\" class=\"data row14 col25\" >0.06</td>\n",
       "                        <td id=\"T_6a85f562_485a_11eb_9cdd_acde48001122row14_col26\" class=\"data row14 col26\" >-0.07</td>\n",
       "                        <td id=\"T_6a85f562_485a_11eb_9cdd_acde48001122row14_col27\" class=\"data row14 col27\" >0.03</td>\n",
       "                        <td id=\"T_6a85f562_485a_11eb_9cdd_acde48001122row14_col28\" class=\"data row14 col28\" >0.11</td>\n",
       "            </tr>\n",
       "            <tr>\n",
       "                        <th id=\"T_6a85f562_485a_11eb_9cdd_acde48001122level0_row15\" class=\"row_heading level0 row15\" >household_chores_2: Disagree</th>\n",
       "                        <td id=\"T_6a85f562_485a_11eb_9cdd_acde48001122row15_col0\" class=\"data row15 col0\" >0.35</td>\n",
       "                        <td id=\"T_6a85f562_485a_11eb_9cdd_acde48001122row15_col1\" class=\"data row15 col1\" >0.13</td>\n",
       "                        <td id=\"T_6a85f562_485a_11eb_9cdd_acde48001122row15_col2\" class=\"data row15 col2\" >-0.13</td>\n",
       "                        <td id=\"T_6a85f562_485a_11eb_9cdd_acde48001122row15_col3\" class=\"data row15 col3\" >-0.04</td>\n",
       "                        <td id=\"T_6a85f562_485a_11eb_9cdd_acde48001122row15_col4\" class=\"data row15 col4\" >0.03</td>\n",
       "                        <td id=\"T_6a85f562_485a_11eb_9cdd_acde48001122row15_col5\" class=\"data row15 col5\" >0.13</td>\n",
       "                        <td id=\"T_6a85f562_485a_11eb_9cdd_acde48001122row15_col6\" class=\"data row15 col6\" >0.12</td>\n",
       "                        <td id=\"T_6a85f562_485a_11eb_9cdd_acde48001122row15_col7\" class=\"data row15 col7\" >-0.11</td>\n",
       "                        <td id=\"T_6a85f562_485a_11eb_9cdd_acde48001122row15_col8\" class=\"data row15 col8\" >0.03</td>\n",
       "                        <td id=\"T_6a85f562_485a_11eb_9cdd_acde48001122row15_col9\" class=\"data row15 col9\" >-0.13</td>\n",
       "                        <td id=\"T_6a85f562_485a_11eb_9cdd_acde48001122row15_col10\" class=\"data row15 col10\" >0.12</td>\n",
       "                        <td id=\"T_6a85f562_485a_11eb_9cdd_acde48001122row15_col11\" class=\"data row15 col11\" >-0.15</td>\n",
       "                        <td id=\"T_6a85f562_485a_11eb_9cdd_acde48001122row15_col12\" class=\"data row15 col12\" >0.12</td>\n",
       "                        <td id=\"T_6a85f562_485a_11eb_9cdd_acde48001122row15_col13\" class=\"data row15 col13\" >-0.05</td>\n",
       "                        <td id=\"T_6a85f562_485a_11eb_9cdd_acde48001122row15_col14\" class=\"data row15 col14\" >-0.11</td>\n",
       "                        <td id=\"T_6a85f562_485a_11eb_9cdd_acde48001122row15_col15\" class=\"data row15 col15\" >1.00</td>\n",
       "                        <td id=\"T_6a85f562_485a_11eb_9cdd_acde48001122row15_col16\" class=\"data row15 col16\" >-0.42</td>\n",
       "                        <td id=\"T_6a85f562_485a_11eb_9cdd_acde48001122row15_col17\" class=\"data row15 col17\" >-0.31</td>\n",
       "                        <td id=\"T_6a85f562_485a_11eb_9cdd_acde48001122row15_col18\" class=\"data row15 col18\" >0.04</td>\n",
       "                        <td id=\"T_6a85f562_485a_11eb_9cdd_acde48001122row15_col19\" class=\"data row15 col19\" >0.10</td>\n",
       "                        <td id=\"T_6a85f562_485a_11eb_9cdd_acde48001122row15_col20\" class=\"data row15 col20\" >0.06</td>\n",
       "                        <td id=\"T_6a85f562_485a_11eb_9cdd_acde48001122row15_col21\" class=\"data row15 col21\" >-0.08</td>\n",
       "                        <td id=\"T_6a85f562_485a_11eb_9cdd_acde48001122row15_col22\" class=\"data row15 col22\" >0.02</td>\n",
       "                        <td id=\"T_6a85f562_485a_11eb_9cdd_acde48001122row15_col23\" class=\"data row15 col23\" >0.02</td>\n",
       "                        <td id=\"T_6a85f562_485a_11eb_9cdd_acde48001122row15_col24\" class=\"data row15 col24\" >-0.02</td>\n",
       "                        <td id=\"T_6a85f562_485a_11eb_9cdd_acde48001122row15_col25\" class=\"data row15 col25\" >0.16</td>\n",
       "                        <td id=\"T_6a85f562_485a_11eb_9cdd_acde48001122row15_col26\" class=\"data row15 col26\" >-0.12</td>\n",
       "                        <td id=\"T_6a85f562_485a_11eb_9cdd_acde48001122row15_col27\" class=\"data row15 col27\" >0.04</td>\n",
       "                        <td id=\"T_6a85f562_485a_11eb_9cdd_acde48001122row15_col28\" class=\"data row15 col28\" >0.04</td>\n",
       "            </tr>\n",
       "            <tr>\n",
       "                        <th id=\"T_6a85f562_485a_11eb_9cdd_acde48001122level0_row16\" class=\"row_heading level0 row16\" >household_chores_3: Agree</th>\n",
       "                        <td id=\"T_6a85f562_485a_11eb_9cdd_acde48001122row16_col0\" class=\"data row16 col0\" >-0.03</td>\n",
       "                        <td id=\"T_6a85f562_485a_11eb_9cdd_acde48001122row16_col1\" class=\"data row16 col1\" >-0.16</td>\n",
       "                        <td id=\"T_6a85f562_485a_11eb_9cdd_acde48001122row16_col2\" class=\"data row16 col2\" >-0.07</td>\n",
       "                        <td id=\"T_6a85f562_485a_11eb_9cdd_acde48001122row16_col3\" class=\"data row16 col3\" >-0.09</td>\n",
       "                        <td id=\"T_6a85f562_485a_11eb_9cdd_acde48001122row16_col4\" class=\"data row16 col4\" >-0.07</td>\n",
       "                        <td id=\"T_6a85f562_485a_11eb_9cdd_acde48001122row16_col5\" class=\"data row16 col5\" >-0.18</td>\n",
       "                        <td id=\"T_6a85f562_485a_11eb_9cdd_acde48001122row16_col6\" class=\"data row16 col6\" >-0.13</td>\n",
       "                        <td id=\"T_6a85f562_485a_11eb_9cdd_acde48001122row16_col7\" class=\"data row16 col7\" >0.10</td>\n",
       "                        <td id=\"T_6a85f562_485a_11eb_9cdd_acde48001122row16_col8\" class=\"data row16 col8\" >-0.15</td>\n",
       "                        <td id=\"T_6a85f562_485a_11eb_9cdd_acde48001122row16_col9\" class=\"data row16 col9\" >0.12</td>\n",
       "                        <td id=\"T_6a85f562_485a_11eb_9cdd_acde48001122row16_col10\" class=\"data row16 col10\" >0.08</td>\n",
       "                        <td id=\"T_6a85f562_485a_11eb_9cdd_acde48001122row16_col11\" class=\"data row16 col11\" >0.01</td>\n",
       "                        <td id=\"T_6a85f562_485a_11eb_9cdd_acde48001122row16_col12\" class=\"data row16 col12\" >-0.13</td>\n",
       "                        <td id=\"T_6a85f562_485a_11eb_9cdd_acde48001122row16_col13\" class=\"data row16 col13\" >-0.01</td>\n",
       "                        <td id=\"T_6a85f562_485a_11eb_9cdd_acde48001122row16_col14\" class=\"data row16 col14\" >-0.19</td>\n",
       "                        <td id=\"T_6a85f562_485a_11eb_9cdd_acde48001122row16_col15\" class=\"data row16 col15\" >-0.42</td>\n",
       "                        <td id=\"T_6a85f562_485a_11eb_9cdd_acde48001122row16_col16\" class=\"data row16 col16\" >1.00</td>\n",
       "                        <td id=\"T_6a85f562_485a_11eb_9cdd_acde48001122row16_col17\" class=\"data row16 col17\" >-0.66</td>\n",
       "                        <td id=\"T_6a85f562_485a_11eb_9cdd_acde48001122row16_col18\" class=\"data row16 col18\" >0.21</td>\n",
       "                        <td id=\"T_6a85f562_485a_11eb_9cdd_acde48001122row16_col19\" class=\"data row16 col19\" >-0.01</td>\n",
       "                        <td id=\"T_6a85f562_485a_11eb_9cdd_acde48001122row16_col20\" class=\"data row16 col20\" >0.07</td>\n",
       "                        <td id=\"T_6a85f562_485a_11eb_9cdd_acde48001122row16_col21\" class=\"data row16 col21\" >-0.06</td>\n",
       "                        <td id=\"T_6a85f562_485a_11eb_9cdd_acde48001122row16_col22\" class=\"data row16 col22\" >0.06</td>\n",
       "                        <td id=\"T_6a85f562_485a_11eb_9cdd_acde48001122row16_col23\" class=\"data row16 col23\" >0.12</td>\n",
       "                        <td id=\"T_6a85f562_485a_11eb_9cdd_acde48001122row16_col24\" class=\"data row16 col24\" >-0.12</td>\n",
       "                        <td id=\"T_6a85f562_485a_11eb_9cdd_acde48001122row16_col25\" class=\"data row16 col25\" >-0.05</td>\n",
       "                        <td id=\"T_6a85f562_485a_11eb_9cdd_acde48001122row16_col26\" class=\"data row16 col26\" >0.17</td>\n",
       "                        <td id=\"T_6a85f562_485a_11eb_9cdd_acde48001122row16_col27\" class=\"data row16 col27\" >-0.14</td>\n",
       "                        <td id=\"T_6a85f562_485a_11eb_9cdd_acde48001122row16_col28\" class=\"data row16 col28\" >-0.26</td>\n",
       "            </tr>\n",
       "            <tr>\n",
       "                        <th id=\"T_6a85f562_485a_11eb_9cdd_acde48001122level0_row17\" class=\"row_heading level0 row17\" >household_chores_4: Strongly agree</th>\n",
       "                        <td id=\"T_6a85f562_485a_11eb_9cdd_acde48001122row17_col0\" class=\"data row17 col0\" >-0.26</td>\n",
       "                        <td id=\"T_6a85f562_485a_11eb_9cdd_acde48001122row17_col1\" class=\"data row17 col1\" >0.12</td>\n",
       "                        <td id=\"T_6a85f562_485a_11eb_9cdd_acde48001122row17_col2\" class=\"data row17 col2\" >0.11</td>\n",
       "                        <td id=\"T_6a85f562_485a_11eb_9cdd_acde48001122row17_col3\" class=\"data row17 col3\" >0.14</td>\n",
       "                        <td id=\"T_6a85f562_485a_11eb_9cdd_acde48001122row17_col4\" class=\"data row17 col4\" >0.05</td>\n",
       "                        <td id=\"T_6a85f562_485a_11eb_9cdd_acde48001122row17_col5\" class=\"data row17 col5\" >0.08</td>\n",
       "                        <td id=\"T_6a85f562_485a_11eb_9cdd_acde48001122row17_col6\" class=\"data row17 col6\" >0.05</td>\n",
       "                        <td id=\"T_6a85f562_485a_11eb_9cdd_acde48001122row17_col7\" class=\"data row17 col7\" >-0.08</td>\n",
       "                        <td id=\"T_6a85f562_485a_11eb_9cdd_acde48001122row17_col8\" class=\"data row17 col8\" >0.15</td>\n",
       "                        <td id=\"T_6a85f562_485a_11eb_9cdd_acde48001122row17_col9\" class=\"data row17 col9\" >0.00</td>\n",
       "                        <td id=\"T_6a85f562_485a_11eb_9cdd_acde48001122row17_col10\" class=\"data row17 col10\" >-0.16</td>\n",
       "                        <td id=\"T_6a85f562_485a_11eb_9cdd_acde48001122row17_col11\" class=\"data row17 col11\" >0.07</td>\n",
       "                        <td id=\"T_6a85f562_485a_11eb_9cdd_acde48001122row17_col12\" class=\"data row17 col12\" >0.05</td>\n",
       "                        <td id=\"T_6a85f562_485a_11eb_9cdd_acde48001122row17_col13\" class=\"data row17 col13\" >0.08</td>\n",
       "                        <td id=\"T_6a85f562_485a_11eb_9cdd_acde48001122row17_col14\" class=\"data row17 col14\" >0.27</td>\n",
       "                        <td id=\"T_6a85f562_485a_11eb_9cdd_acde48001122row17_col15\" class=\"data row17 col15\" >-0.31</td>\n",
       "                        <td id=\"T_6a85f562_485a_11eb_9cdd_acde48001122row17_col16\" class=\"data row17 col16\" >-0.66</td>\n",
       "                        <td id=\"T_6a85f562_485a_11eb_9cdd_acde48001122row17_col17\" class=\"data row17 col17\" >1.00</td>\n",
       "                        <td id=\"T_6a85f562_485a_11eb_9cdd_acde48001122row17_col18\" class=\"data row17 col18\" >-0.30</td>\n",
       "                        <td id=\"T_6a85f562_485a_11eb_9cdd_acde48001122row17_col19\" class=\"data row17 col19\" >-0.04</td>\n",
       "                        <td id=\"T_6a85f562_485a_11eb_9cdd_acde48001122row17_col20\" class=\"data row17 col20\" >-0.06</td>\n",
       "                        <td id=\"T_6a85f562_485a_11eb_9cdd_acde48001122row17_col21\" class=\"data row17 col21\" >0.07</td>\n",
       "                        <td id=\"T_6a85f562_485a_11eb_9cdd_acde48001122row17_col22\" class=\"data row17 col22\" >-0.06</td>\n",
       "                        <td id=\"T_6a85f562_485a_11eb_9cdd_acde48001122row17_col23\" class=\"data row17 col23\" >-0.11</td>\n",
       "                        <td id=\"T_6a85f562_485a_11eb_9cdd_acde48001122row17_col24\" class=\"data row17 col24\" >0.15</td>\n",
       "                        <td id=\"T_6a85f562_485a_11eb_9cdd_acde48001122row17_col25\" class=\"data row17 col25\" >-0.05</td>\n",
       "                        <td id=\"T_6a85f562_485a_11eb_9cdd_acde48001122row17_col26\" class=\"data row17 col26\" >-0.09</td>\n",
       "                        <td id=\"T_6a85f562_485a_11eb_9cdd_acde48001122row17_col27\" class=\"data row17 col27\" >0.15</td>\n",
       "                        <td id=\"T_6a85f562_485a_11eb_9cdd_acde48001122row17_col28\" class=\"data row17 col28\" >0.27</td>\n",
       "            </tr>\n",
       "            <tr>\n",
       "                        <th id=\"T_6a85f562_485a_11eb_9cdd_acde48001122level0_row18\" class=\"row_heading level0 row18\" >single_vs_mixed_working_env_Single-sex work environment</th>\n",
       "                        <td id=\"T_6a85f562_485a_11eb_9cdd_acde48001122row18_col0\" class=\"data row18 col0\" >-0.14</td>\n",
       "                        <td id=\"T_6a85f562_485a_11eb_9cdd_acde48001122row18_col1\" class=\"data row18 col1\" >-0.17</td>\n",
       "                        <td id=\"T_6a85f562_485a_11eb_9cdd_acde48001122row18_col2\" class=\"data row18 col2\" >-0.13</td>\n",
       "                        <td id=\"T_6a85f562_485a_11eb_9cdd_acde48001122row18_col3\" class=\"data row18 col3\" >-0.05</td>\n",
       "                        <td id=\"T_6a85f562_485a_11eb_9cdd_acde48001122row18_col4\" class=\"data row18 col4\" >-0.12</td>\n",
       "                        <td id=\"T_6a85f562_485a_11eb_9cdd_acde48001122row18_col5\" class=\"data row18 col5\" >0.24</td>\n",
       "                        <td id=\"T_6a85f562_485a_11eb_9cdd_acde48001122row18_col6\" class=\"data row18 col6\" >0.08</td>\n",
       "                        <td id=\"T_6a85f562_485a_11eb_9cdd_acde48001122row18_col7\" class=\"data row18 col7\" >0.15</td>\n",
       "                        <td id=\"T_6a85f562_485a_11eb_9cdd_acde48001122row18_col8\" class=\"data row18 col8\" >0.06</td>\n",
       "                        <td id=\"T_6a85f562_485a_11eb_9cdd_acde48001122row18_col9\" class=\"data row18 col9\" >-0.01</td>\n",
       "                        <td id=\"T_6a85f562_485a_11eb_9cdd_acde48001122row18_col10\" class=\"data row18 col10\" >0.12</td>\n",
       "                        <td id=\"T_6a85f562_485a_11eb_9cdd_acde48001122row18_col11\" class=\"data row18 col11\" >-0.35</td>\n",
       "                        <td id=\"T_6a85f562_485a_11eb_9cdd_acde48001122row18_col12\" class=\"data row18 col12\" >0.08</td>\n",
       "                        <td id=\"T_6a85f562_485a_11eb_9cdd_acde48001122row18_col13\" class=\"data row18 col13\" >-0.09</td>\n",
       "                        <td id=\"T_6a85f562_485a_11eb_9cdd_acde48001122row18_col14\" class=\"data row18 col14\" >-0.06</td>\n",
       "                        <td id=\"T_6a85f562_485a_11eb_9cdd_acde48001122row18_col15\" class=\"data row18 col15\" >0.04</td>\n",
       "                        <td id=\"T_6a85f562_485a_11eb_9cdd_acde48001122row18_col16\" class=\"data row18 col16\" >0.21</td>\n",
       "                        <td id=\"T_6a85f562_485a_11eb_9cdd_acde48001122row18_col17\" class=\"data row18 col17\" >-0.30</td>\n",
       "                        <td id=\"T_6a85f562_485a_11eb_9cdd_acde48001122row18_col18\" class=\"data row18 col18\" >1.00</td>\n",
       "                        <td id=\"T_6a85f562_485a_11eb_9cdd_acde48001122row18_col19\" class=\"data row18 col19\" >0.24</td>\n",
       "                        <td id=\"T_6a85f562_485a_11eb_9cdd_acde48001122row18_col20\" class=\"data row18 col20\" >0.12</td>\n",
       "                        <td id=\"T_6a85f562_485a_11eb_9cdd_acde48001122row18_col21\" class=\"data row18 col21\" >-0.26</td>\n",
       "                        <td id=\"T_6a85f562_485a_11eb_9cdd_acde48001122row18_col22\" class=\"data row18 col22\" >0.08</td>\n",
       "                        <td id=\"T_6a85f562_485a_11eb_9cdd_acde48001122row18_col23\" class=\"data row18 col23\" >0.36</td>\n",
       "                        <td id=\"T_6a85f562_485a_11eb_9cdd_acde48001122row18_col24\" class=\"data row18 col24\" >-0.41</td>\n",
       "                        <td id=\"T_6a85f562_485a_11eb_9cdd_acde48001122row18_col25\" class=\"data row18 col25\" >0.42</td>\n",
       "                        <td id=\"T_6a85f562_485a_11eb_9cdd_acde48001122row18_col26\" class=\"data row18 col26\" >0.27</td>\n",
       "                        <td id=\"T_6a85f562_485a_11eb_9cdd_acde48001122row18_col27\" class=\"data row18 col27\" >-0.49</td>\n",
       "                        <td id=\"T_6a85f562_485a_11eb_9cdd_acde48001122row18_col28\" class=\"data row18 col28\" >-0.63</td>\n",
       "            </tr>\n",
       "            <tr>\n",
       "                        <th id=\"T_6a85f562_485a_11eb_9cdd_acde48001122level0_row19\" class=\"row_heading level0 row19\" >comfort_with_other_gender_2: Uncomfortable</th>\n",
       "                        <td id=\"T_6a85f562_485a_11eb_9cdd_acde48001122row19_col0\" class=\"data row19 col0\" >-0.18</td>\n",
       "                        <td id=\"T_6a85f562_485a_11eb_9cdd_acde48001122row19_col1\" class=\"data row19 col1\" >-0.02</td>\n",
       "                        <td id=\"T_6a85f562_485a_11eb_9cdd_acde48001122row19_col2\" class=\"data row19 col2\" >0.10</td>\n",
       "                        <td id=\"T_6a85f562_485a_11eb_9cdd_acde48001122row19_col3\" class=\"data row19 col3\" >-0.03</td>\n",
       "                        <td id=\"T_6a85f562_485a_11eb_9cdd_acde48001122row19_col4\" class=\"data row19 col4\" >0.02</td>\n",
       "                        <td id=\"T_6a85f562_485a_11eb_9cdd_acde48001122row19_col5\" class=\"data row19 col5\" >0.12</td>\n",
       "                        <td id=\"T_6a85f562_485a_11eb_9cdd_acde48001122row19_col6\" class=\"data row19 col6\" >-0.05</td>\n",
       "                        <td id=\"T_6a85f562_485a_11eb_9cdd_acde48001122row19_col7\" class=\"data row19 col7\" >-0.08</td>\n",
       "                        <td id=\"T_6a85f562_485a_11eb_9cdd_acde48001122row19_col8\" class=\"data row19 col8\" >0.09</td>\n",
       "                        <td id=\"T_6a85f562_485a_11eb_9cdd_acde48001122row19_col9\" class=\"data row19 col9\" >-0.10</td>\n",
       "                        <td id=\"T_6a85f562_485a_11eb_9cdd_acde48001122row19_col10\" class=\"data row19 col10\" >-0.00</td>\n",
       "                        <td id=\"T_6a85f562_485a_11eb_9cdd_acde48001122row19_col11\" class=\"data row19 col11\" >-0.09</td>\n",
       "                        <td id=\"T_6a85f562_485a_11eb_9cdd_acde48001122row19_col12\" class=\"data row19 col12\" >-0.05</td>\n",
       "                        <td id=\"T_6a85f562_485a_11eb_9cdd_acde48001122row19_col13\" class=\"data row19 col13\" >-0.05</td>\n",
       "                        <td id=\"T_6a85f562_485a_11eb_9cdd_acde48001122row19_col14\" class=\"data row19 col14\" >-0.02</td>\n",
       "                        <td id=\"T_6a85f562_485a_11eb_9cdd_acde48001122row19_col15\" class=\"data row19 col15\" >0.10</td>\n",
       "                        <td id=\"T_6a85f562_485a_11eb_9cdd_acde48001122row19_col16\" class=\"data row19 col16\" >-0.01</td>\n",
       "                        <td id=\"T_6a85f562_485a_11eb_9cdd_acde48001122row19_col17\" class=\"data row19 col17\" >-0.04</td>\n",
       "                        <td id=\"T_6a85f562_485a_11eb_9cdd_acde48001122row19_col18\" class=\"data row19 col18\" >0.24</td>\n",
       "                        <td id=\"T_6a85f562_485a_11eb_9cdd_acde48001122row19_col19\" class=\"data row19 col19\" >1.00</td>\n",
       "                        <td id=\"T_6a85f562_485a_11eb_9cdd_acde48001122row19_col20\" class=\"data row19 col20\" >-0.29</td>\n",
       "                        <td id=\"T_6a85f562_485a_11eb_9cdd_acde48001122row19_col21\" class=\"data row19 col21\" >-0.29</td>\n",
       "                        <td id=\"T_6a85f562_485a_11eb_9cdd_acde48001122row19_col22\" class=\"data row19 col22\" >0.36</td>\n",
       "                        <td id=\"T_6a85f562_485a_11eb_9cdd_acde48001122row19_col23\" class=\"data row19 col23\" >0.44</td>\n",
       "                        <td id=\"T_6a85f562_485a_11eb_9cdd_acde48001122row19_col24\" class=\"data row19 col24\" >-0.57</td>\n",
       "                        <td id=\"T_6a85f562_485a_11eb_9cdd_acde48001122row19_col25\" class=\"data row19 col25\" >0.61</td>\n",
       "                        <td id=\"T_6a85f562_485a_11eb_9cdd_acde48001122row19_col26\" class=\"data row19 col26\" >0.19</td>\n",
       "                        <td id=\"T_6a85f562_485a_11eb_9cdd_acde48001122row19_col27\" class=\"data row19 col27\" >-0.49</td>\n",
       "                        <td id=\"T_6a85f562_485a_11eb_9cdd_acde48001122row19_col28\" class=\"data row19 col28\" >-0.29</td>\n",
       "            </tr>\n",
       "            <tr>\n",
       "                        <th id=\"T_6a85f562_485a_11eb_9cdd_acde48001122level0_row20\" class=\"row_heading level0 row20\" >comfort_with_other_gender_3: Comfortable</th>\n",
       "                        <td id=\"T_6a85f562_485a_11eb_9cdd_acde48001122row20_col0\" class=\"data row20 col0\" >-0.17</td>\n",
       "                        <td id=\"T_6a85f562_485a_11eb_9cdd_acde48001122row20_col1\" class=\"data row20 col1\" >0.03</td>\n",
       "                        <td id=\"T_6a85f562_485a_11eb_9cdd_acde48001122row20_col2\" class=\"data row20 col2\" >-0.14</td>\n",
       "                        <td id=\"T_6a85f562_485a_11eb_9cdd_acde48001122row20_col3\" class=\"data row20 col3\" >-0.08</td>\n",
       "                        <td id=\"T_6a85f562_485a_11eb_9cdd_acde48001122row20_col4\" class=\"data row20 col4\" >-0.03</td>\n",
       "                        <td id=\"T_6a85f562_485a_11eb_9cdd_acde48001122row20_col5\" class=\"data row20 col5\" >0.15</td>\n",
       "                        <td id=\"T_6a85f562_485a_11eb_9cdd_acde48001122row20_col6\" class=\"data row20 col6\" >0.02</td>\n",
       "                        <td id=\"T_6a85f562_485a_11eb_9cdd_acde48001122row20_col7\" class=\"data row20 col7\" >-0.05</td>\n",
       "                        <td id=\"T_6a85f562_485a_11eb_9cdd_acde48001122row20_col8\" class=\"data row20 col8\" >0.05</td>\n",
       "                        <td id=\"T_6a85f562_485a_11eb_9cdd_acde48001122row20_col9\" class=\"data row20 col9\" >0.01</td>\n",
       "                        <td id=\"T_6a85f562_485a_11eb_9cdd_acde48001122row20_col10\" class=\"data row20 col10\" >0.17</td>\n",
       "                        <td id=\"T_6a85f562_485a_11eb_9cdd_acde48001122row20_col11\" class=\"data row20 col11\" >-0.14</td>\n",
       "                        <td id=\"T_6a85f562_485a_11eb_9cdd_acde48001122row20_col12\" class=\"data row20 col12\" >0.02</td>\n",
       "                        <td id=\"T_6a85f562_485a_11eb_9cdd_acde48001122row20_col13\" class=\"data row20 col13\" >-0.03</td>\n",
       "                        <td id=\"T_6a85f562_485a_11eb_9cdd_acde48001122row20_col14\" class=\"data row20 col14\" >0.06</td>\n",
       "                        <td id=\"T_6a85f562_485a_11eb_9cdd_acde48001122row20_col15\" class=\"data row20 col15\" >0.06</td>\n",
       "                        <td id=\"T_6a85f562_485a_11eb_9cdd_acde48001122row20_col16\" class=\"data row20 col16\" >0.07</td>\n",
       "                        <td id=\"T_6a85f562_485a_11eb_9cdd_acde48001122row20_col17\" class=\"data row20 col17\" >-0.06</td>\n",
       "                        <td id=\"T_6a85f562_485a_11eb_9cdd_acde48001122row20_col18\" class=\"data row20 col18\" >0.12</td>\n",
       "                        <td id=\"T_6a85f562_485a_11eb_9cdd_acde48001122row20_col19\" class=\"data row20 col19\" >-0.29</td>\n",
       "                        <td id=\"T_6a85f562_485a_11eb_9cdd_acde48001122row20_col20\" class=\"data row20 col20\" >1.00</td>\n",
       "                        <td id=\"T_6a85f562_485a_11eb_9cdd_acde48001122row20_col21\" class=\"data row20 col21\" >-0.74</td>\n",
       "                        <td id=\"T_6a85f562_485a_11eb_9cdd_acde48001122row20_col22\" class=\"data row20 col22\" >-0.19</td>\n",
       "                        <td id=\"T_6a85f562_485a_11eb_9cdd_acde48001122row20_col23\" class=\"data row20 col23\" >0.16</td>\n",
       "                        <td id=\"T_6a85f562_485a_11eb_9cdd_acde48001122row20_col24\" class=\"data row20 col24\" >-0.04</td>\n",
       "                        <td id=\"T_6a85f562_485a_11eb_9cdd_acde48001122row20_col25\" class=\"data row20 col25\" >-0.17</td>\n",
       "                        <td id=\"T_6a85f562_485a_11eb_9cdd_acde48001122row20_col26\" class=\"data row20 col26\" >0.34</td>\n",
       "                        <td id=\"T_6a85f562_485a_11eb_9cdd_acde48001122row20_col27\" class=\"data row20 col27\" >-0.16</td>\n",
       "                        <td id=\"T_6a85f562_485a_11eb_9cdd_acde48001122row20_col28\" class=\"data row20 col28\" >0.16</td>\n",
       "            </tr>\n",
       "            <tr>\n",
       "                        <th id=\"T_6a85f562_485a_11eb_9cdd_acde48001122level0_row21\" class=\"row_heading level0 row21\" >comfort_with_other_gender_4: Very comfortable</th>\n",
       "                        <td id=\"T_6a85f562_485a_11eb_9cdd_acde48001122row21_col0\" class=\"data row21 col0\" >0.32</td>\n",
       "                        <td id=\"T_6a85f562_485a_11eb_9cdd_acde48001122row21_col1\" class=\"data row21 col1\" >0.03</td>\n",
       "                        <td id=\"T_6a85f562_485a_11eb_9cdd_acde48001122row21_col2\" class=\"data row21 col2\" >-0.03</td>\n",
       "                        <td id=\"T_6a85f562_485a_11eb_9cdd_acde48001122row21_col3\" class=\"data row21 col3\" >0.11</td>\n",
       "                        <td id=\"T_6a85f562_485a_11eb_9cdd_acde48001122row21_col4\" class=\"data row21 col4\" >0.07</td>\n",
       "                        <td id=\"T_6a85f562_485a_11eb_9cdd_acde48001122row21_col5\" class=\"data row21 col5\" >-0.29</td>\n",
       "                        <td id=\"T_6a85f562_485a_11eb_9cdd_acde48001122row21_col6\" class=\"data row21 col6\" >0.02</td>\n",
       "                        <td id=\"T_6a85f562_485a_11eb_9cdd_acde48001122row21_col7\" class=\"data row21 col7\" >-0.12</td>\n",
       "                        <td id=\"T_6a85f562_485a_11eb_9cdd_acde48001122row21_col8\" class=\"data row21 col8\" >-0.01</td>\n",
       "                        <td id=\"T_6a85f562_485a_11eb_9cdd_acde48001122row21_col9\" class=\"data row21 col9\" >0.08</td>\n",
       "                        <td id=\"T_6a85f562_485a_11eb_9cdd_acde48001122row21_col10\" class=\"data row21 col10\" >-0.14</td>\n",
       "                        <td id=\"T_6a85f562_485a_11eb_9cdd_acde48001122row21_col11\" class=\"data row21 col11\" >0.29</td>\n",
       "                        <td id=\"T_6a85f562_485a_11eb_9cdd_acde48001122row21_col12\" class=\"data row21 col12\" >0.02</td>\n",
       "                        <td id=\"T_6a85f562_485a_11eb_9cdd_acde48001122row21_col13\" class=\"data row21 col13\" >-0.01</td>\n",
       "                        <td id=\"T_6a85f562_485a_11eb_9cdd_acde48001122row21_col14\" class=\"data row21 col14\" >-0.08</td>\n",
       "                        <td id=\"T_6a85f562_485a_11eb_9cdd_acde48001122row21_col15\" class=\"data row21 col15\" >-0.08</td>\n",
       "                        <td id=\"T_6a85f562_485a_11eb_9cdd_acde48001122row21_col16\" class=\"data row21 col16\" >-0.06</td>\n",
       "                        <td id=\"T_6a85f562_485a_11eb_9cdd_acde48001122row21_col17\" class=\"data row21 col17\" >0.07</td>\n",
       "                        <td id=\"T_6a85f562_485a_11eb_9cdd_acde48001122row21_col18\" class=\"data row21 col18\" >-0.26</td>\n",
       "                        <td id=\"T_6a85f562_485a_11eb_9cdd_acde48001122row21_col19\" class=\"data row21 col19\" >-0.29</td>\n",
       "                        <td id=\"T_6a85f562_485a_11eb_9cdd_acde48001122row21_col20\" class=\"data row21 col20\" >-0.74</td>\n",
       "                        <td id=\"T_6a85f562_485a_11eb_9cdd_acde48001122row21_col21\" class=\"data row21 col21\" >1.00</td>\n",
       "                        <td id=\"T_6a85f562_485a_11eb_9cdd_acde48001122row21_col22\" class=\"data row21 col22\" >-0.19</td>\n",
       "                        <td id=\"T_6a85f562_485a_11eb_9cdd_acde48001122row21_col23\" class=\"data row21 col23\" >-0.38</td>\n",
       "                        <td id=\"T_6a85f562_485a_11eb_9cdd_acde48001122row21_col24\" class=\"data row21 col24\" >0.46</td>\n",
       "                        <td id=\"T_6a85f562_485a_11eb_9cdd_acde48001122row21_col25\" class=\"data row21 col25\" >-0.17</td>\n",
       "                        <td id=\"T_6a85f562_485a_11eb_9cdd_acde48001122row21_col26\" class=\"data row21 col26\" >-0.41</td>\n",
       "                        <td id=\"T_6a85f562_485a_11eb_9cdd_acde48001122row21_col27\" class=\"data row21 col27\" >0.51</td>\n",
       "                        <td id=\"T_6a85f562_485a_11eb_9cdd_acde48001122row21_col28\" class=\"data row21 col28\" >0.07</td>\n",
       "            </tr>\n",
       "            <tr>\n",
       "                        <th id=\"T_6a85f562_485a_11eb_9cdd_acde48001122level0_row22\" class=\"row_heading level0 row22\" >comfort_with_help_from_other_gender_2: Unlikely</th>\n",
       "                        <td id=\"T_6a85f562_485a_11eb_9cdd_acde48001122row22_col0\" class=\"data row22 col0\" >-0.01</td>\n",
       "                        <td id=\"T_6a85f562_485a_11eb_9cdd_acde48001122row22_col1\" class=\"data row22 col1\" >-0.11</td>\n",
       "                        <td id=\"T_6a85f562_485a_11eb_9cdd_acde48001122row22_col2\" class=\"data row22 col2\" >0.02</td>\n",
       "                        <td id=\"T_6a85f562_485a_11eb_9cdd_acde48001122row22_col3\" class=\"data row22 col3\" >-0.02</td>\n",
       "                        <td id=\"T_6a85f562_485a_11eb_9cdd_acde48001122row22_col4\" class=\"data row22 col4\" >-0.13</td>\n",
       "                        <td id=\"T_6a85f562_485a_11eb_9cdd_acde48001122row22_col5\" class=\"data row22 col5\" >0.16</td>\n",
       "                        <td id=\"T_6a85f562_485a_11eb_9cdd_acde48001122row22_col6\" class=\"data row22 col6\" >-0.03</td>\n",
       "                        <td id=\"T_6a85f562_485a_11eb_9cdd_acde48001122row22_col7\" class=\"data row22 col7\" >0.33</td>\n",
       "                        <td id=\"T_6a85f562_485a_11eb_9cdd_acde48001122row22_col8\" class=\"data row22 col8\" >-0.12</td>\n",
       "                        <td id=\"T_6a85f562_485a_11eb_9cdd_acde48001122row22_col9\" class=\"data row22 col9\" >-0.07</td>\n",
       "                        <td id=\"T_6a85f562_485a_11eb_9cdd_acde48001122row22_col10\" class=\"data row22 col10\" >-0.07</td>\n",
       "                        <td id=\"T_6a85f562_485a_11eb_9cdd_acde48001122row22_col11\" class=\"data row22 col11\" >-0.13</td>\n",
       "                        <td id=\"T_6a85f562_485a_11eb_9cdd_acde48001122row22_col12\" class=\"data row22 col12\" >-0.03</td>\n",
       "                        <td id=\"T_6a85f562_485a_11eb_9cdd_acde48001122row22_col13\" class=\"data row22 col13\" >0.08</td>\n",
       "                        <td id=\"T_6a85f562_485a_11eb_9cdd_acde48001122row22_col14\" class=\"data row22 col14\" >-0.09</td>\n",
       "                        <td id=\"T_6a85f562_485a_11eb_9cdd_acde48001122row22_col15\" class=\"data row22 col15\" >0.02</td>\n",
       "                        <td id=\"T_6a85f562_485a_11eb_9cdd_acde48001122row22_col16\" class=\"data row22 col16\" >0.06</td>\n",
       "                        <td id=\"T_6a85f562_485a_11eb_9cdd_acde48001122row22_col17\" class=\"data row22 col17\" >-0.06</td>\n",
       "                        <td id=\"T_6a85f562_485a_11eb_9cdd_acde48001122row22_col18\" class=\"data row22 col18\" >0.08</td>\n",
       "                        <td id=\"T_6a85f562_485a_11eb_9cdd_acde48001122row22_col19\" class=\"data row22 col19\" >0.36</td>\n",
       "                        <td id=\"T_6a85f562_485a_11eb_9cdd_acde48001122row22_col20\" class=\"data row22 col20\" >-0.19</td>\n",
       "                        <td id=\"T_6a85f562_485a_11eb_9cdd_acde48001122row22_col21\" class=\"data row22 col21\" >-0.19</td>\n",
       "                        <td id=\"T_6a85f562_485a_11eb_9cdd_acde48001122row22_col22\" class=\"data row22 col22\" >1.00</td>\n",
       "                        <td id=\"T_6a85f562_485a_11eb_9cdd_acde48001122row22_col23\" class=\"data row22 col23\" >-0.11</td>\n",
       "                        <td id=\"T_6a85f562_485a_11eb_9cdd_acde48001122row22_col24\" class=\"data row22 col24\" >-0.37</td>\n",
       "                        <td id=\"T_6a85f562_485a_11eb_9cdd_acde48001122row22_col25\" class=\"data row22 col25\" >0.27</td>\n",
       "                        <td id=\"T_6a85f562_485a_11eb_9cdd_acde48001122row22_col26\" class=\"data row22 col26\" >-0.01</td>\n",
       "                        <td id=\"T_6a85f562_485a_11eb_9cdd_acde48001122row22_col27\" class=\"data row22 col27\" >-0.32</td>\n",
       "                        <td id=\"T_6a85f562_485a_11eb_9cdd_acde48001122row22_col28\" class=\"data row22 col28\" >-0.22</td>\n",
       "            </tr>\n",
       "            <tr>\n",
       "                        <th id=\"T_6a85f562_485a_11eb_9cdd_acde48001122level0_row23\" class=\"row_heading level0 row23\" >comfort_with_help_from_other_gender_3: Likely</th>\n",
       "                        <td id=\"T_6a85f562_485a_11eb_9cdd_acde48001122row23_col0\" class=\"data row23 col0\" >-0.22</td>\n",
       "                        <td id=\"T_6a85f562_485a_11eb_9cdd_acde48001122row23_col1\" class=\"data row23 col1\" >-0.03</td>\n",
       "                        <td id=\"T_6a85f562_485a_11eb_9cdd_acde48001122row23_col2\" class=\"data row23 col2\" >-0.10</td>\n",
       "                        <td id=\"T_6a85f562_485a_11eb_9cdd_acde48001122row23_col3\" class=\"data row23 col3\" >-0.05</td>\n",
       "                        <td id=\"T_6a85f562_485a_11eb_9cdd_acde48001122row23_col4\" class=\"data row23 col4\" >0.03</td>\n",
       "                        <td id=\"T_6a85f562_485a_11eb_9cdd_acde48001122row23_col5\" class=\"data row23 col5\" >-0.01</td>\n",
       "                        <td id=\"T_6a85f562_485a_11eb_9cdd_acde48001122row23_col6\" class=\"data row23 col6\" >0.10</td>\n",
       "                        <td id=\"T_6a85f562_485a_11eb_9cdd_acde48001122row23_col7\" class=\"data row23 col7\" >-0.02</td>\n",
       "                        <td id=\"T_6a85f562_485a_11eb_9cdd_acde48001122row23_col8\" class=\"data row23 col8\" >0.01</td>\n",
       "                        <td id=\"T_6a85f562_485a_11eb_9cdd_acde48001122row23_col9\" class=\"data row23 col9\" >0.02</td>\n",
       "                        <td id=\"T_6a85f562_485a_11eb_9cdd_acde48001122row23_col10\" class=\"data row23 col10\" >0.24</td>\n",
       "                        <td id=\"T_6a85f562_485a_11eb_9cdd_acde48001122row23_col11\" class=\"data row23 col11\" >-0.19</td>\n",
       "                        <td id=\"T_6a85f562_485a_11eb_9cdd_acde48001122row23_col12\" class=\"data row23 col12\" >0.10</td>\n",
       "                        <td id=\"T_6a85f562_485a_11eb_9cdd_acde48001122row23_col13\" class=\"data row23 col13\" >0.07</td>\n",
       "                        <td id=\"T_6a85f562_485a_11eb_9cdd_acde48001122row23_col14\" class=\"data row23 col14\" >0.06</td>\n",
       "                        <td id=\"T_6a85f562_485a_11eb_9cdd_acde48001122row23_col15\" class=\"data row23 col15\" >0.02</td>\n",
       "                        <td id=\"T_6a85f562_485a_11eb_9cdd_acde48001122row23_col16\" class=\"data row23 col16\" >0.12</td>\n",
       "                        <td id=\"T_6a85f562_485a_11eb_9cdd_acde48001122row23_col17\" class=\"data row23 col17\" >-0.11</td>\n",
       "                        <td id=\"T_6a85f562_485a_11eb_9cdd_acde48001122row23_col18\" class=\"data row23 col18\" >0.36</td>\n",
       "                        <td id=\"T_6a85f562_485a_11eb_9cdd_acde48001122row23_col19\" class=\"data row23 col19\" >0.44</td>\n",
       "                        <td id=\"T_6a85f562_485a_11eb_9cdd_acde48001122row23_col20\" class=\"data row23 col20\" >0.16</td>\n",
       "                        <td id=\"T_6a85f562_485a_11eb_9cdd_acde48001122row23_col21\" class=\"data row23 col21\" >-0.38</td>\n",
       "                        <td id=\"T_6a85f562_485a_11eb_9cdd_acde48001122row23_col22\" class=\"data row23 col22\" >-0.11</td>\n",
       "                        <td id=\"T_6a85f562_485a_11eb_9cdd_acde48001122row23_col23\" class=\"data row23 col23\" >1.00</td>\n",
       "                        <td id=\"T_6a85f562_485a_11eb_9cdd_acde48001122row23_col24\" class=\"data row23 col24\" >-0.86</td>\n",
       "                        <td id=\"T_6a85f562_485a_11eb_9cdd_acde48001122row23_col25\" class=\"data row23 col25\" >0.30</td>\n",
       "                        <td id=\"T_6a85f562_485a_11eb_9cdd_acde48001122row23_col26\" class=\"data row23 col26\" >0.62</td>\n",
       "                        <td id=\"T_6a85f562_485a_11eb_9cdd_acde48001122row23_col27\" class=\"data row23 col27\" >-0.68</td>\n",
       "                        <td id=\"T_6a85f562_485a_11eb_9cdd_acde48001122row23_col28\" class=\"data row23 col28\" >-0.19</td>\n",
       "            </tr>\n",
       "            <tr>\n",
       "                        <th id=\"T_6a85f562_485a_11eb_9cdd_acde48001122level0_row24\" class=\"row_heading level0 row24\" >comfort_with_help_from_other_gender_4: Highly likely</th>\n",
       "                        <td id=\"T_6a85f562_485a_11eb_9cdd_acde48001122row24_col0\" class=\"data row24 col0\" >0.24</td>\n",
       "                        <td id=\"T_6a85f562_485a_11eb_9cdd_acde48001122row24_col1\" class=\"data row24 col1\" >0.16</td>\n",
       "                        <td id=\"T_6a85f562_485a_11eb_9cdd_acde48001122row24_col2\" class=\"data row24 col2\" >0.04</td>\n",
       "                        <td id=\"T_6a85f562_485a_11eb_9cdd_acde48001122row24_col3\" class=\"data row24 col3\" >0.06</td>\n",
       "                        <td id=\"T_6a85f562_485a_11eb_9cdd_acde48001122row24_col4\" class=\"data row24 col4\" >0.05</td>\n",
       "                        <td id=\"T_6a85f562_485a_11eb_9cdd_acde48001122row24_col5\" class=\"data row24 col5\" >-0.09</td>\n",
       "                        <td id=\"T_6a85f562_485a_11eb_9cdd_acde48001122row24_col6\" class=\"data row24 col6\" >-0.08</td>\n",
       "                        <td id=\"T_6a85f562_485a_11eb_9cdd_acde48001122row24_col7\" class=\"data row24 col7\" >-0.23</td>\n",
       "                        <td id=\"T_6a85f562_485a_11eb_9cdd_acde48001122row24_col8\" class=\"data row24 col8\" >0.09</td>\n",
       "                        <td id=\"T_6a85f562_485a_11eb_9cdd_acde48001122row24_col9\" class=\"data row24 col9\" >0.02</td>\n",
       "                        <td id=\"T_6a85f562_485a_11eb_9cdd_acde48001122row24_col10\" class=\"data row24 col10\" >-0.18</td>\n",
       "                        <td id=\"T_6a85f562_485a_11eb_9cdd_acde48001122row24_col11\" class=\"data row24 col11\" >0.26</td>\n",
       "                        <td id=\"T_6a85f562_485a_11eb_9cdd_acde48001122row24_col12\" class=\"data row24 col12\" >-0.08</td>\n",
       "                        <td id=\"T_6a85f562_485a_11eb_9cdd_acde48001122row24_col13\" class=\"data row24 col13\" >-0.12</td>\n",
       "                        <td id=\"T_6a85f562_485a_11eb_9cdd_acde48001122row24_col14\" class=\"data row24 col14\" >-0.04</td>\n",
       "                        <td id=\"T_6a85f562_485a_11eb_9cdd_acde48001122row24_col15\" class=\"data row24 col15\" >-0.02</td>\n",
       "                        <td id=\"T_6a85f562_485a_11eb_9cdd_acde48001122row24_col16\" class=\"data row24 col16\" >-0.12</td>\n",
       "                        <td id=\"T_6a85f562_485a_11eb_9cdd_acde48001122row24_col17\" class=\"data row24 col17\" >0.15</td>\n",
       "                        <td id=\"T_6a85f562_485a_11eb_9cdd_acde48001122row24_col18\" class=\"data row24 col18\" >-0.41</td>\n",
       "                        <td id=\"T_6a85f562_485a_11eb_9cdd_acde48001122row24_col19\" class=\"data row24 col19\" >-0.57</td>\n",
       "                        <td id=\"T_6a85f562_485a_11eb_9cdd_acde48001122row24_col20\" class=\"data row24 col20\" >-0.04</td>\n",
       "                        <td id=\"T_6a85f562_485a_11eb_9cdd_acde48001122row24_col21\" class=\"data row24 col21\" >0.46</td>\n",
       "                        <td id=\"T_6a85f562_485a_11eb_9cdd_acde48001122row24_col22\" class=\"data row24 col22\" >-0.37</td>\n",
       "                        <td id=\"T_6a85f562_485a_11eb_9cdd_acde48001122row24_col23\" class=\"data row24 col23\" >-0.86</td>\n",
       "                        <td id=\"T_6a85f562_485a_11eb_9cdd_acde48001122row24_col24\" class=\"data row24 col24\" >1.00</td>\n",
       "                        <td id=\"T_6a85f562_485a_11eb_9cdd_acde48001122row24_col25\" class=\"data row24 col25\" >-0.40</td>\n",
       "                        <td id=\"T_6a85f562_485a_11eb_9cdd_acde48001122row24_col26\" class=\"data row24 col26\" >-0.55</td>\n",
       "                        <td id=\"T_6a85f562_485a_11eb_9cdd_acde48001122row24_col27\" class=\"data row24 col27\" >0.81</td>\n",
       "                        <td id=\"T_6a85f562_485a_11eb_9cdd_acde48001122row24_col28\" class=\"data row24 col28\" >0.32</td>\n",
       "            </tr>\n",
       "            <tr>\n",
       "                        <th id=\"T_6a85f562_485a_11eb_9cdd_acde48001122level0_row25\" class=\"row_heading level0 row25\" >project_with_other_gender_2: Unlikely</th>\n",
       "                        <td id=\"T_6a85f562_485a_11eb_9cdd_acde48001122row25_col0\" class=\"data row25 col0\" >0.00</td>\n",
       "                        <td id=\"T_6a85f562_485a_11eb_9cdd_acde48001122row25_col1\" class=\"data row25 col1\" >-0.06</td>\n",
       "                        <td id=\"T_6a85f562_485a_11eb_9cdd_acde48001122row25_col2\" class=\"data row25 col2\" >-0.03</td>\n",
       "                        <td id=\"T_6a85f562_485a_11eb_9cdd_acde48001122row25_col3\" class=\"data row25 col3\" >-0.03</td>\n",
       "                        <td id=\"T_6a85f562_485a_11eb_9cdd_acde48001122row25_col4\" class=\"data row25 col4\" >0.16</td>\n",
       "                        <td id=\"T_6a85f562_485a_11eb_9cdd_acde48001122row25_col5\" class=\"data row25 col5\" >0.14</td>\n",
       "                        <td id=\"T_6a85f562_485a_11eb_9cdd_acde48001122row25_col6\" class=\"data row25 col6\" >-0.04</td>\n",
       "                        <td id=\"T_6a85f562_485a_11eb_9cdd_acde48001122row25_col7\" class=\"data row25 col7\" >-0.07</td>\n",
       "                        <td id=\"T_6a85f562_485a_11eb_9cdd_acde48001122row25_col8\" class=\"data row25 col8\" >0.14</td>\n",
       "                        <td id=\"T_6a85f562_485a_11eb_9cdd_acde48001122row25_col9\" class=\"data row25 col9\" >-0.08</td>\n",
       "                        <td id=\"T_6a85f562_485a_11eb_9cdd_acde48001122row25_col10\" class=\"data row25 col10\" >0.03</td>\n",
       "                        <td id=\"T_6a85f562_485a_11eb_9cdd_acde48001122row25_col11\" class=\"data row25 col11\" >-0.14</td>\n",
       "                        <td id=\"T_6a85f562_485a_11eb_9cdd_acde48001122row25_col12\" class=\"data row25 col12\" >-0.04</td>\n",
       "                        <td id=\"T_6a85f562_485a_11eb_9cdd_acde48001122row25_col13\" class=\"data row25 col13\" >-0.07</td>\n",
       "                        <td id=\"T_6a85f562_485a_11eb_9cdd_acde48001122row25_col14\" class=\"data row25 col14\" >0.06</td>\n",
       "                        <td id=\"T_6a85f562_485a_11eb_9cdd_acde48001122row25_col15\" class=\"data row25 col15\" >0.16</td>\n",
       "                        <td id=\"T_6a85f562_485a_11eb_9cdd_acde48001122row25_col16\" class=\"data row25 col16\" >-0.05</td>\n",
       "                        <td id=\"T_6a85f562_485a_11eb_9cdd_acde48001122row25_col17\" class=\"data row25 col17\" >-0.05</td>\n",
       "                        <td id=\"T_6a85f562_485a_11eb_9cdd_acde48001122row25_col18\" class=\"data row25 col18\" >0.42</td>\n",
       "                        <td id=\"T_6a85f562_485a_11eb_9cdd_acde48001122row25_col19\" class=\"data row25 col19\" >0.61</td>\n",
       "                        <td id=\"T_6a85f562_485a_11eb_9cdd_acde48001122row25_col20\" class=\"data row25 col20\" >-0.17</td>\n",
       "                        <td id=\"T_6a85f562_485a_11eb_9cdd_acde48001122row25_col21\" class=\"data row25 col21\" >-0.17</td>\n",
       "                        <td id=\"T_6a85f562_485a_11eb_9cdd_acde48001122row25_col22\" class=\"data row25 col22\" >0.27</td>\n",
       "                        <td id=\"T_6a85f562_485a_11eb_9cdd_acde48001122row25_col23\" class=\"data row25 col23\" >0.30</td>\n",
       "                        <td id=\"T_6a85f562_485a_11eb_9cdd_acde48001122row25_col24\" class=\"data row25 col24\" >-0.40</td>\n",
       "                        <td id=\"T_6a85f562_485a_11eb_9cdd_acde48001122row25_col25\" class=\"data row25 col25\" >1.00</td>\n",
       "                        <td id=\"T_6a85f562_485a_11eb_9cdd_acde48001122row25_col26\" class=\"data row25 col26\" >-0.15</td>\n",
       "                        <td id=\"T_6a85f562_485a_11eb_9cdd_acde48001122row25_col27\" class=\"data row25 col27\" >-0.41</td>\n",
       "                        <td id=\"T_6a85f562_485a_11eb_9cdd_acde48001122row25_col28\" class=\"data row25 col28\" >-0.26</td>\n",
       "            </tr>\n",
       "            <tr>\n",
       "                        <th id=\"T_6a85f562_485a_11eb_9cdd_acde48001122level0_row26\" class=\"row_heading level0 row26\" >project_with_other_gender_3: Likely</th>\n",
       "                        <td id=\"T_6a85f562_485a_11eb_9cdd_acde48001122row26_col0\" class=\"data row26 col0\" >-0.32</td>\n",
       "                        <td id=\"T_6a85f562_485a_11eb_9cdd_acde48001122row26_col1\" class=\"data row26 col1\" >-0.02</td>\n",
       "                        <td id=\"T_6a85f562_485a_11eb_9cdd_acde48001122row26_col2\" class=\"data row26 col2\" >-0.06</td>\n",
       "                        <td id=\"T_6a85f562_485a_11eb_9cdd_acde48001122row26_col3\" class=\"data row26 col3\" >-0.05</td>\n",
       "                        <td id=\"T_6a85f562_485a_11eb_9cdd_acde48001122row26_col4\" class=\"data row26 col4\" >-0.10</td>\n",
       "                        <td id=\"T_6a85f562_485a_11eb_9cdd_acde48001122row26_col5\" class=\"data row26 col5\" >0.03</td>\n",
       "                        <td id=\"T_6a85f562_485a_11eb_9cdd_acde48001122row26_col6\" class=\"data row26 col6\" >0.09</td>\n",
       "                        <td id=\"T_6a85f562_485a_11eb_9cdd_acde48001122row26_col7\" class=\"data row26 col7\" >0.07</td>\n",
       "                        <td id=\"T_6a85f562_485a_11eb_9cdd_acde48001122row26_col8\" class=\"data row26 col8\" >-0.19</td>\n",
       "                        <td id=\"T_6a85f562_485a_11eb_9cdd_acde48001122row26_col9\" class=\"data row26 col9\" >0.08</td>\n",
       "                        <td id=\"T_6a85f562_485a_11eb_9cdd_acde48001122row26_col10\" class=\"data row26 col10\" >0.29</td>\n",
       "                        <td id=\"T_6a85f562_485a_11eb_9cdd_acde48001122row26_col11\" class=\"data row26 col11\" >-0.23</td>\n",
       "                        <td id=\"T_6a85f562_485a_11eb_9cdd_acde48001122row26_col12\" class=\"data row26 col12\" >0.09</td>\n",
       "                        <td id=\"T_6a85f562_485a_11eb_9cdd_acde48001122row26_col13\" class=\"data row26 col13\" >0.24</td>\n",
       "                        <td id=\"T_6a85f562_485a_11eb_9cdd_acde48001122row26_col14\" class=\"data row26 col14\" >-0.07</td>\n",
       "                        <td id=\"T_6a85f562_485a_11eb_9cdd_acde48001122row26_col15\" class=\"data row26 col15\" >-0.12</td>\n",
       "                        <td id=\"T_6a85f562_485a_11eb_9cdd_acde48001122row26_col16\" class=\"data row26 col16\" >0.17</td>\n",
       "                        <td id=\"T_6a85f562_485a_11eb_9cdd_acde48001122row26_col17\" class=\"data row26 col17\" >-0.09</td>\n",
       "                        <td id=\"T_6a85f562_485a_11eb_9cdd_acde48001122row26_col18\" class=\"data row26 col18\" >0.27</td>\n",
       "                        <td id=\"T_6a85f562_485a_11eb_9cdd_acde48001122row26_col19\" class=\"data row26 col19\" >0.19</td>\n",
       "                        <td id=\"T_6a85f562_485a_11eb_9cdd_acde48001122row26_col20\" class=\"data row26 col20\" >0.34</td>\n",
       "                        <td id=\"T_6a85f562_485a_11eb_9cdd_acde48001122row26_col21\" class=\"data row26 col21\" >-0.41</td>\n",
       "                        <td id=\"T_6a85f562_485a_11eb_9cdd_acde48001122row26_col22\" class=\"data row26 col22\" >-0.01</td>\n",
       "                        <td id=\"T_6a85f562_485a_11eb_9cdd_acde48001122row26_col23\" class=\"data row26 col23\" >0.62</td>\n",
       "                        <td id=\"T_6a85f562_485a_11eb_9cdd_acde48001122row26_col24\" class=\"data row26 col24\" >-0.55</td>\n",
       "                        <td id=\"T_6a85f562_485a_11eb_9cdd_acde48001122row26_col25\" class=\"data row26 col25\" >-0.15</td>\n",
       "                        <td id=\"T_6a85f562_485a_11eb_9cdd_acde48001122row26_col26\" class=\"data row26 col26\" >1.00</td>\n",
       "                        <td id=\"T_6a85f562_485a_11eb_9cdd_acde48001122row26_col27\" class=\"data row26 col27\" >-0.77</td>\n",
       "                        <td id=\"T_6a85f562_485a_11eb_9cdd_acde48001122row26_col28\" class=\"data row26 col28\" >-0.16</td>\n",
       "            </tr>\n",
       "            <tr>\n",
       "                        <th id=\"T_6a85f562_485a_11eb_9cdd_acde48001122level0_row27\" class=\"row_heading level0 row27\" >project_with_other_gender_4: Highly likely</th>\n",
       "                        <td id=\"T_6a85f562_485a_11eb_9cdd_acde48001122row27_col0\" class=\"data row27 col0\" >0.28</td>\n",
       "                        <td id=\"T_6a85f562_485a_11eb_9cdd_acde48001122row27_col1\" class=\"data row27 col1\" >0.11</td>\n",
       "                        <td id=\"T_6a85f562_485a_11eb_9cdd_acde48001122row27_col2\" class=\"data row27 col2\" >0.04</td>\n",
       "                        <td id=\"T_6a85f562_485a_11eb_9cdd_acde48001122row27_col3\" class=\"data row27 col3\" >0.07</td>\n",
       "                        <td id=\"T_6a85f562_485a_11eb_9cdd_acde48001122row27_col4\" class=\"data row27 col4\" >0.03</td>\n",
       "                        <td id=\"T_6a85f562_485a_11eb_9cdd_acde48001122row27_col5\" class=\"data row27 col5\" >-0.14</td>\n",
       "                        <td id=\"T_6a85f562_485a_11eb_9cdd_acde48001122row27_col6\" class=\"data row27 col6\" >-0.05</td>\n",
       "                        <td id=\"T_6a85f562_485a_11eb_9cdd_acde48001122row27_col7\" class=\"data row27 col7\" >-0.26</td>\n",
       "                        <td id=\"T_6a85f562_485a_11eb_9cdd_acde48001122row27_col8\" class=\"data row27 col8\" >0.21</td>\n",
       "                        <td id=\"T_6a85f562_485a_11eb_9cdd_acde48001122row27_col9\" class=\"data row27 col9\" >-0.01</td>\n",
       "                        <td id=\"T_6a85f562_485a_11eb_9cdd_acde48001122row27_col10\" class=\"data row27 col10\" >-0.26</td>\n",
       "                        <td id=\"T_6a85f562_485a_11eb_9cdd_acde48001122row27_col11\" class=\"data row27 col11\" >0.34</td>\n",
       "                        <td id=\"T_6a85f562_485a_11eb_9cdd_acde48001122row27_col12\" class=\"data row27 col12\" >-0.05</td>\n",
       "                        <td id=\"T_6a85f562_485a_11eb_9cdd_acde48001122row27_col13\" class=\"data row27 col13\" >-0.22</td>\n",
       "                        <td id=\"T_6a85f562_485a_11eb_9cdd_acde48001122row27_col14\" class=\"data row27 col14\" >0.03</td>\n",
       "                        <td id=\"T_6a85f562_485a_11eb_9cdd_acde48001122row27_col15\" class=\"data row27 col15\" >0.04</td>\n",
       "                        <td id=\"T_6a85f562_485a_11eb_9cdd_acde48001122row27_col16\" class=\"data row27 col16\" >-0.14</td>\n",
       "                        <td id=\"T_6a85f562_485a_11eb_9cdd_acde48001122row27_col17\" class=\"data row27 col17\" >0.15</td>\n",
       "                        <td id=\"T_6a85f562_485a_11eb_9cdd_acde48001122row27_col18\" class=\"data row27 col18\" >-0.49</td>\n",
       "                        <td id=\"T_6a85f562_485a_11eb_9cdd_acde48001122row27_col19\" class=\"data row27 col19\" >-0.49</td>\n",
       "                        <td id=\"T_6a85f562_485a_11eb_9cdd_acde48001122row27_col20\" class=\"data row27 col20\" >-0.16</td>\n",
       "                        <td id=\"T_6a85f562_485a_11eb_9cdd_acde48001122row27_col21\" class=\"data row27 col21\" >0.51</td>\n",
       "                        <td id=\"T_6a85f562_485a_11eb_9cdd_acde48001122row27_col22\" class=\"data row27 col22\" >-0.32</td>\n",
       "                        <td id=\"T_6a85f562_485a_11eb_9cdd_acde48001122row27_col23\" class=\"data row27 col23\" >-0.68</td>\n",
       "                        <td id=\"T_6a85f562_485a_11eb_9cdd_acde48001122row27_col24\" class=\"data row27 col24\" >0.81</td>\n",
       "                        <td id=\"T_6a85f562_485a_11eb_9cdd_acde48001122row27_col25\" class=\"data row27 col25\" >-0.41</td>\n",
       "                        <td id=\"T_6a85f562_485a_11eb_9cdd_acde48001122row27_col26\" class=\"data row27 col26\" >-0.77</td>\n",
       "                        <td id=\"T_6a85f562_485a_11eb_9cdd_acde48001122row27_col27\" class=\"data row27 col27\" >1.00</td>\n",
       "                        <td id=\"T_6a85f562_485a_11eb_9cdd_acde48001122row27_col28\" class=\"data row27 col28\" >0.37</td>\n",
       "            </tr>\n",
       "            <tr>\n",
       "                        <th id=\"T_6a85f562_485a_11eb_9cdd_acde48001122level0_row28\" class=\"row_heading level0 row28\" >with_or_aginst_mixed_sex_universities_With mixed-sex universities</th>\n",
       "                        <td id=\"T_6a85f562_485a_11eb_9cdd_acde48001122row28_col0\" class=\"data row28 col0\" >-0.05</td>\n",
       "                        <td id=\"T_6a85f562_485a_11eb_9cdd_acde48001122row28_col1\" class=\"data row28 col1\" >0.03</td>\n",
       "                        <td id=\"T_6a85f562_485a_11eb_9cdd_acde48001122row28_col2\" class=\"data row28 col2\" >0.04</td>\n",
       "                        <td id=\"T_6a85f562_485a_11eb_9cdd_acde48001122row28_col3\" class=\"data row28 col3\" >0.07</td>\n",
       "                        <td id=\"T_6a85f562_485a_11eb_9cdd_acde48001122row28_col4\" class=\"data row28 col4\" >-0.02</td>\n",
       "                        <td id=\"T_6a85f562_485a_11eb_9cdd_acde48001122row28_col5\" class=\"data row28 col5\" >-0.10</td>\n",
       "                        <td id=\"T_6a85f562_485a_11eb_9cdd_acde48001122row28_col6\" class=\"data row28 col6\" >-0.05</td>\n",
       "                        <td id=\"T_6a85f562_485a_11eb_9cdd_acde48001122row28_col7\" class=\"data row28 col7\" >-0.18</td>\n",
       "                        <td id=\"T_6a85f562_485a_11eb_9cdd_acde48001122row28_col8\" class=\"data row28 col8\" >0.01</td>\n",
       "                        <td id=\"T_6a85f562_485a_11eb_9cdd_acde48001122row28_col9\" class=\"data row28 col9\" >0.13</td>\n",
       "                        <td id=\"T_6a85f562_485a_11eb_9cdd_acde48001122row28_col10\" class=\"data row28 col10\" >-0.05</td>\n",
       "                        <td id=\"T_6a85f562_485a_11eb_9cdd_acde48001122row28_col11\" class=\"data row28 col11\" >0.14</td>\n",
       "                        <td id=\"T_6a85f562_485a_11eb_9cdd_acde48001122row28_col12\" class=\"data row28 col12\" >-0.05</td>\n",
       "                        <td id=\"T_6a85f562_485a_11eb_9cdd_acde48001122row28_col13\" class=\"data row28 col13\" >-0.02</td>\n",
       "                        <td id=\"T_6a85f562_485a_11eb_9cdd_acde48001122row28_col14\" class=\"data row28 col14\" >0.11</td>\n",
       "                        <td id=\"T_6a85f562_485a_11eb_9cdd_acde48001122row28_col15\" class=\"data row28 col15\" >0.04</td>\n",
       "                        <td id=\"T_6a85f562_485a_11eb_9cdd_acde48001122row28_col16\" class=\"data row28 col16\" >-0.26</td>\n",
       "                        <td id=\"T_6a85f562_485a_11eb_9cdd_acde48001122row28_col17\" class=\"data row28 col17\" >0.27</td>\n",
       "                        <td id=\"T_6a85f562_485a_11eb_9cdd_acde48001122row28_col18\" class=\"data row28 col18\" >-0.63</td>\n",
       "                        <td id=\"T_6a85f562_485a_11eb_9cdd_acde48001122row28_col19\" class=\"data row28 col19\" >-0.29</td>\n",
       "                        <td id=\"T_6a85f562_485a_11eb_9cdd_acde48001122row28_col20\" class=\"data row28 col20\" >0.16</td>\n",
       "                        <td id=\"T_6a85f562_485a_11eb_9cdd_acde48001122row28_col21\" class=\"data row28 col21\" >0.07</td>\n",
       "                        <td id=\"T_6a85f562_485a_11eb_9cdd_acde48001122row28_col22\" class=\"data row28 col22\" >-0.22</td>\n",
       "                        <td id=\"T_6a85f562_485a_11eb_9cdd_acde48001122row28_col23\" class=\"data row28 col23\" >-0.19</td>\n",
       "                        <td id=\"T_6a85f562_485a_11eb_9cdd_acde48001122row28_col24\" class=\"data row28 col24\" >0.32</td>\n",
       "                        <td id=\"T_6a85f562_485a_11eb_9cdd_acde48001122row28_col25\" class=\"data row28 col25\" >-0.26</td>\n",
       "                        <td id=\"T_6a85f562_485a_11eb_9cdd_acde48001122row28_col26\" class=\"data row28 col26\" >-0.16</td>\n",
       "                        <td id=\"T_6a85f562_485a_11eb_9cdd_acde48001122row28_col27\" class=\"data row28 col27\" >0.37</td>\n",
       "                        <td id=\"T_6a85f562_485a_11eb_9cdd_acde48001122row28_col28\" class=\"data row28 col28\" >1.00</td>\n",
       "            </tr>\n",
       "    </tbody></table>"
      ],
      "text/plain": [
       "<pandas.io.formats.style.Styler at 0x7f8ac1080400>"
      ]
     },
     "execution_count": 103,
     "metadata": {},
     "output_type": "execute_result"
    }
   ],
   "source": [
    "magnify_corr(test_dummies)"
   ]
  },
  {
   "cell_type": "code",
   "execution_count": 104,
   "metadata": {},
   "outputs": [
    {
     "name": "stdout",
     "output_type": "stream",
     "text": [
      "list of 10 best positive features based on pairwise correlation:\n",
      " ['with_or_aginst_mixed_sex_universities_With mixed-sex universities', 'project_with_other_gender_4: Highly likely', 'comfort_with_help_from_other_gender_4: Highly likely', 'household_chores_4: Strongly agree', 'comfort_with_other_gender_3: Comfortable', 'mixed_sex_Yes, undergrad', 'mixed_sex_Yes, both', 'introversion_public_Quiet and reflective', 'comfort_with_other_gender_4: Very comfortable', 'region_Nothern']\n",
      "with_or_aginst_mixed_sex_universities_With mixed-sex universities\n",
      "project_with_other_gender_4: Highly likely\n",
      "comfort_with_help_from_other_gender_4: Highly likely\n",
      "household_chores_4: Strongly agree\n",
      "comfort_with_other_gender_3: Comfortable\n",
      "mixed_sex_Yes, undergrad\n",
      "mixed_sex_Yes, both\n",
      "introversion_public_Quiet and reflective\n",
      "comfort_with_other_gender_4: Very comfortable\n",
      "region_Nothern\n"
     ]
    }
   ],
   "source": [
    "# get the top 10 correlated features with price\n",
    "pos_top_features = top_corr_features('with_or_aginst_mixed_sex_universities_With mixed-sex universities',10,test_dummies)\n",
    "for i in pos_top_features:\n",
    "    print(i)"
   ]
  },
  {
   "cell_type": "code",
   "execution_count": null,
   "metadata": {},
   "outputs": [],
   "source": [
    "neg_top_features = top_corr_features_neg('with_or_aginst_mixed_sex_universities_With mixed-sex universities',10,test_dummies)\n",
    "for i in neg_top_features:\n",
    "    print(i)"
   ]
  },
  {
   "cell_type": "code",
   "execution_count": null,
   "metadata": {},
   "outputs": [],
   "source": [
    "plot_corr(test_dummies[pos_top_features])"
   ]
  },
  {
   "cell_type": "markdown",
   "metadata": {},
   "source": [
    "# Feature Extraction"
   ]
  },
  {
   "cell_type": "code",
   "execution_count": null,
   "metadata": {},
   "outputs": [],
   "source": [
    "# ADD Conservitive and radical"
   ]
  },
  {
   "cell_type": "markdown",
   "metadata": {},
   "source": [
    "## <font color='red'>introversion(new_feature)</font>"
   ]
  },
  {
   "cell_type": "code",
   "execution_count": null,
   "metadata": {},
   "outputs": [],
   "source": [
    "introversion = []\n",
    "for i in range(0,len(df)):\n",
    "    if df['introversion_personal'][i]=='Going out with friends' and df['introversion_public'][i]=='Outgoing and talkative':\n",
    "        introversion.append('extrovert')\n",
    "    elif df['introversion_personal'][i]=='Inner reflection and solitude' and df['introversion_public'][i]=='Quiet and reflective':\n",
    "        introversion.append('introvert')\n",
    "    else:\n",
    "        introversion.append('introvert/extrovert')\n",
    "        \n",
    "    \n",
    "df['introversion'] = introversion"
   ]
  },
  {
   "cell_type": "code",
   "execution_count": null,
   "metadata": {},
   "outputs": [],
   "source": [
    "df[['introversion_personal','introversion_public','introversion']].head(5)"
   ]
  },
  {
   "cell_type": "code",
   "execution_count": null,
   "metadata": {},
   "outputs": [],
   "source": [
    "df['introversion'].head()"
   ]
  },
  {
   "cell_type": "code",
   "execution_count": null,
   "metadata": {},
   "outputs": [],
   "source": [
    "df[['introversion','introversion_personal','introversion_public']].head(40)"
   ]
  },
  {
   "cell_type": "code",
   "execution_count": null,
   "metadata": {},
   "outputs": [],
   "source": [
    "df['introversion'].value_counts()"
   ]
  },
  {
   "cell_type": "code",
   "execution_count": null,
   "metadata": {},
   "outputs": [],
   "source": [
    "sns.histplot(df['introversion'])"
   ]
  },
  {
   "cell_type": "code",
   "execution_count": null,
   "metadata": {},
   "outputs": [],
   "source": [
    "pie_chart('introversion','introversion_pie',df['introversion'],3)"
   ]
  },
  {
   "cell_type": "code",
   "execution_count": null,
   "metadata": {
    "scrolled": true
   },
   "outputs": [],
   "source": [
    "df.columns"
   ]
  },
  {
   "cell_type": "markdown",
   "metadata": {},
   "source": [
    "## <font color='red'>mixed_sex_weighted</font>"
   ]
  },
  {
   "cell_type": "code",
   "execution_count": null,
   "metadata": {},
   "outputs": [],
   "source": [
    "'''\n",
    "    Weight mapper for mixed sex:\n",
    "    6) Have you ever studied in a mixed-sex university?\n",
    "    \n",
    "    This function takes answers from question 6 and gives weights to possible inputs:\n",
    "    \n",
    "    Yes, undergrad == .75  \n",
    "    No, neither == 0    \n",
    "    Yes, grad == .5       \n",
    "    Yes, both == 1\n",
    "\n",
    "'''\n",
    "def mixed_sex_mapper(data_point):\n",
    "    i = data_point\n",
    "    if i == 'Yes, both':\n",
    "        return 1\n",
    "    elif i == 'Yes, undergrad':\n",
    "        return .75\n",
    "    elif i == 'Yes, grad':\n",
    "        return .5\n",
    "    else :\n",
    "        return 0"
   ]
  },
  {
   "cell_type": "code",
   "execution_count": null,
   "metadata": {},
   "outputs": [],
   "source": [
    "df['mixed_sex_weighted'] = df['mixed_sex'].apply(lambda x: mixed_sex_mapper(x))"
   ]
  },
  {
   "cell_type": "code",
   "execution_count": null,
   "metadata": {
    "scrolled": true
   },
   "outputs": [],
   "source": [
    "df[['mixed_sex_weighted','mixed_sex']].value_counts()"
   ]
  },
  {
   "cell_type": "code",
   "execution_count": null,
   "metadata": {},
   "outputs": [],
   "source": [
    "df[['mixed_sex_weighted','mixed_sex']].head(10)"
   ]
  },
  {
   "cell_type": "markdown",
   "metadata": {},
   "source": [
    "## <font color='red'>household_chores_num</font>"
   ]
  },
  {
   "cell_type": "code",
   "execution_count": null,
   "metadata": {},
   "outputs": [],
   "source": [
    "df['household_chores'].value_counts()"
   ]
  },
  {
   "cell_type": "code",
   "execution_count": null,
   "metadata": {},
   "outputs": [],
   "source": [
    "df['household_chores_num'] = df['household_chores'].apply(lambda x : int(x.split(':')[0]))"
   ]
  },
  {
   "cell_type": "code",
   "execution_count": null,
   "metadata": {},
   "outputs": [],
   "source": [
    "df[['household_chores_num','household_chores']].value_counts()"
   ]
  },
  {
   "cell_type": "code",
   "execution_count": null,
   "metadata": {},
   "outputs": [],
   "source": [
    "df[['household_chores_num','household_chores']].head(10)"
   ]
  },
  {
   "cell_type": "markdown",
   "metadata": {},
   "source": [
    "## <font color='red'>comfort_with_other_gender_num</font>"
   ]
  },
  {
   "cell_type": "code",
   "execution_count": null,
   "metadata": {},
   "outputs": [],
   "source": [
    "df['comfort_with_other_gender'].value_counts()"
   ]
  },
  {
   "cell_type": "code",
   "execution_count": null,
   "metadata": {},
   "outputs": [],
   "source": [
    "df['comfort_with_other_gender_num'] = df['comfort_with_other_gender'].apply(lambda x : int(x.split(':')[0]))"
   ]
  },
  {
   "cell_type": "code",
   "execution_count": null,
   "metadata": {
    "scrolled": true
   },
   "outputs": [],
   "source": [
    "df[['comfort_with_other_gender_num','comfort_with_other_gender']].value_counts()"
   ]
  },
  {
   "cell_type": "code",
   "execution_count": null,
   "metadata": {
    "scrolled": true
   },
   "outputs": [],
   "source": [
    "df[['comfort_with_other_gender_num','comfort_with_other_gender']].head(10)"
   ]
  },
  {
   "cell_type": "markdown",
   "metadata": {},
   "source": [
    "## <font color='red'>comfort_with_help_from_other_gender_num</font>"
   ]
  },
  {
   "cell_type": "code",
   "execution_count": null,
   "metadata": {},
   "outputs": [],
   "source": [
    "df['comfort_with_help_from_other_gender'].value_counts()"
   ]
  },
  {
   "cell_type": "code",
   "execution_count": null,
   "metadata": {},
   "outputs": [],
   "source": [
    "df['comfort_with_help_from_other_gender_num'] = df['comfort_with_help_from_other_gender'].apply(lambda x : int(x.split(':')[0]))"
   ]
  },
  {
   "cell_type": "code",
   "execution_count": null,
   "metadata": {},
   "outputs": [],
   "source": [
    "df[['comfort_with_help_from_other_gender_num','comfort_with_help_from_other_gender']]"
   ]
  },
  {
   "cell_type": "code",
   "execution_count": null,
   "metadata": {},
   "outputs": [],
   "source": [
    "df.columns"
   ]
  },
  {
   "cell_type": "markdown",
   "metadata": {},
   "source": [
    "## <font color='red'>project_with_other_gender_num</font>"
   ]
  },
  {
   "cell_type": "code",
   "execution_count": null,
   "metadata": {
    "scrolled": true
   },
   "outputs": [],
   "source": [
    "df['project_with_other_gender'].value_counts()"
   ]
  },
  {
   "cell_type": "code",
   "execution_count": null,
   "metadata": {},
   "outputs": [],
   "source": [
    "df['project_with_other_gender_num'] = df['project_with_other_gender'].apply(lambda x : int(x.split(':')[0]))"
   ]
  },
  {
   "cell_type": "code",
   "execution_count": null,
   "metadata": {},
   "outputs": [],
   "source": [
    "df[['project_with_other_gender_num','project_with_other_gender']]"
   ]
  },
  {
   "cell_type": "markdown",
   "metadata": {},
   "source": [
    "### Ideas for feature engineering"
   ]
  },
  {
   "cell_type": "markdown",
   "metadata": {},
   "source": [
    "- Conservitive vs radical\n",
    "- ((Find quantitative data source))"
   ]
  },
  {
   "cell_type": "markdown",
   "metadata": {},
   "source": [
    "## Explatory Data Analysis"
   ]
  },
  {
   "cell_type": "code",
   "execution_count": null,
   "metadata": {
    "scrolled": false
   },
   "outputs": [],
   "source": [
    "grouped_introversion=df[['introversion','gender','with_or_aginst_mixed_sex_universities']].groupby('introversion')\n",
    "grouped_introversion.head()"
   ]
  },
  {
   "cell_type": "markdown",
   "metadata": {},
   "source": [
    "#### Weight/Scale\n",
    "**mixed_sex_weighted**\n",
    "- weight : \n",
    "           Yes, undergrad == .75  \n",
    "           No, neither == 0    \n",
    "           Yes, grad == .5       \n",
    "           Yes, both == 1 )\n",
    "         \n",
    "**household_chores_num**\n",
    "- scale :  \n",
    "           4: Strongly agree \n",
    "           3: Agree                     \n",
    "           2: Disagree             \n",
    "           1: Strongly disagree\n",
    "\n",
    "**comfort_with_other_gender**\n",
    "- Scale :  \n",
    "           4: Very comfortable     \n",
    "           3: Comfortable           \n",
    "           2: Uncomfortable         \n",
    "           1: Very uncomfortable \n",
    "         \n",
    "**comfort_with_help_from_other_gender_num**\n",
    "- Scale :  \n",
    "           4: Highly likely    \n",
    "           3: Likely           \n",
    "           2: Unlikely    \n",
    "           1: Highly Unlikely\n",
    "         \n",
    "**project_with_other_gender_num**\n",
    "- Scale :  \n",
    "           4: Highly likely    \n",
    "           3: Likely           \n",
    "           2: Unlikely    \n",
    "           1: Highly Unlikely\n",
    "'''"
   ]
  },
  {
   "cell_type": "code",
   "execution_count": null,
   "metadata": {
    "scrolled": true
   },
   "outputs": [],
   "source": [
    "df.groupby(\"gender\").mean().T"
   ]
  },
  {
   "cell_type": "code",
   "execution_count": null,
   "metadata": {},
   "outputs": [],
   "source": [
    "df.groupby(\"introversion\").mean().T"
   ]
  },
  {
   "cell_type": "markdown",
   "metadata": {},
   "source": [
    "# Model_preparation"
   ]
  },
  {
   "cell_type": "code",
   "execution_count": null,
   "metadata": {},
   "outputs": [],
   "source": [
    "missing_heat_map(df)"
   ]
  },
  {
   "cell_type": "code",
   "execution_count": null,
   "metadata": {},
   "outputs": [],
   "source": [
    "df.columns"
   ]
  },
  {
   "cell_type": "code",
   "execution_count": null,
   "metadata": {},
   "outputs": [],
   "source": [
    "mod_df = df.copy()"
   ]
  },
  {
   "cell_type": "code",
   "execution_count": null,
   "metadata": {},
   "outputs": [],
   "source": [
    "mod_df.columns"
   ]
  },
  {
   "cell_type": "code",
   "execution_count": null,
   "metadata": {},
   "outputs": [],
   "source": [
    "#select the features to drop because it will intoduce a huge number of features when dummied \n",
    "features = ['opinion_mixed_sex_universites','events_that_influnced_gender_views',\\\n",
    "            'with_or_aginst_mixed_sex_universities','timestamp',\\\n",
    "            \n",
    "            'introversion_personal','introversion_public','household_chores','comfort_with_other_gender',\\\n",
    "            'comfort_with_help_from_other_gender','project_with_other_gender']\n",
    "select_features = [x for x in mod_df.columns if x not in features] \n",
    "select_features "
   ]
  },
  {
   "cell_type": "code",
   "execution_count": null,
   "metadata": {},
   "outputs": [],
   "source": [
    "x = mod_df[select_features] \n",
    "y = mod_df['with_or_aginst_mixed_sex_universities']\n",
    "print(len(x),len(y))"
   ]
  },
  {
   "cell_type": "code",
   "execution_count": null,
   "metadata": {},
   "outputs": [],
   "source": [
    "y.head()"
   ]
  },
  {
   "cell_type": "code",
   "execution_count": null,
   "metadata": {},
   "outputs": [],
   "source": [
    "df.columns"
   ]
  },
  {
   "cell_type": "markdown",
   "metadata": {},
   "source": [
    "### Dummies"
   ]
  },
  {
   "cell_type": "code",
   "execution_count": null,
   "metadata": {},
   "outputs": [],
   "source": [
    "x = pd.get_dummies(x,drop_first=True) #Converting the data into dummies to apply to models\n",
    "x.head()"
   ]
  },
  {
   "cell_type": "code",
   "execution_count": null,
   "metadata": {},
   "outputs": [],
   "source": [
    "y = pd.get_dummies(y,drop_first=True)\n",
    "y.head()"
   ]
  },
  {
   "cell_type": "code",
   "execution_count": null,
   "metadata": {},
   "outputs": [],
   "source": [
    "df_corr = x.copy()"
   ]
  },
  {
   "cell_type": "code",
   "execution_count": null,
   "metadata": {},
   "outputs": [],
   "source": [
    "df_corr['With mixed-sex universities'] = y"
   ]
  },
  {
   "cell_type": "code",
   "execution_count": null,
   "metadata": {},
   "outputs": [],
   "source": [
    "df_corr.columns"
   ]
  },
  {
   "cell_type": "code",
   "execution_count": null,
   "metadata": {},
   "outputs": [],
   "source": [
    "df['with_or_aginst_mixed_sex_universities'].value_counts()"
   ]
  },
  {
   "cell_type": "code",
   "execution_count": null,
   "metadata": {},
   "outputs": [],
   "source": [
    "df_corr.columns"
   ]
  },
  {
   "cell_type": "code",
   "execution_count": null,
   "metadata": {
    "scrolled": false
   },
   "outputs": [],
   "source": [
    "magnify_corr(df_corr)"
   ]
  },
  {
   "cell_type": "code",
   "execution_count": null,
   "metadata": {},
   "outputs": [],
   "source": [
    "# get the top 10 correlated features with dependent varible \n",
    "top_features = top_corr_features('With mixed-sex universities',10,df_corr)"
   ]
  },
  {
   "cell_type": "code",
   "execution_count": null,
   "metadata": {},
   "outputs": [],
   "source": [
    "# Top positive corr\n",
    "plot_corr(df_corr[top_features])"
   ]
  },
  {
   "cell_type": "code",
   "execution_count": null,
   "metadata": {},
   "outputs": [],
   "source": [
    "#scaled the x varible \n",
    "scaler = StandardScaler()\n",
    "x_ss = scaler.fit_transform(x)"
   ]
  },
  {
   "cell_type": "code",
   "execution_count": null,
   "metadata": {},
   "outputs": [],
   "source": [
    "x.head()"
   ]
  },
  {
   "cell_type": "code",
   "execution_count": null,
   "metadata": {},
   "outputs": [],
   "source": [
    "x_train, x_test, y_train, y_test = train_test_split(x,y,stratify=y, test_size=0.3)"
   ]
  },
  {
   "cell_type": "code",
   "execution_count": null,
   "metadata": {},
   "outputs": [],
   "source": [
    "x_train.columns"
   ]
  },
  {
   "cell_type": "markdown",
   "metadata": {},
   "source": [
    "# Modeling"
   ]
  },
  {
   "cell_type": "code",
   "execution_count": null,
   "metadata": {
    "scrolled": true
   },
   "outputs": [],
   "source": [
    "logreg = LogisticRegression()\n",
    "logreg.fit(x_train, y_train)\n",
    "print('Logreg predicted probabilities for x_test:\\n', logreg.predict_proba(x_test))"
   ]
  },
  {
   "cell_type": "code",
   "execution_count": null,
   "metadata": {},
   "outputs": [],
   "source": [
    "train_predicted = logreg.predict(x_train)\n",
    "test_predicted = logreg.predict(x_test)\n",
    "print('Logreg predicted labels:\\n',test_predicted)"
   ]
  },
  {
   "cell_type": "code",
   "execution_count": null,
   "metadata": {},
   "outputs": [],
   "source": [
    "y_test.head(40)"
   ]
  },
  {
   "cell_type": "code",
   "execution_count": null,
   "metadata": {},
   "outputs": [],
   "source": [
    "x_train.head()"
   ]
  },
  {
   "cell_type": "code",
   "execution_count": null,
   "metadata": {},
   "outputs": [],
   "source": [
    "len(x_train['mixed_sex_weighted'])"
   ]
  },
  {
   "cell_type": "code",
   "execution_count": null,
   "metadata": {},
   "outputs": [],
   "source": [
    "len(y_test['With mixed-sex universities'])"
   ]
  },
  {
   "cell_type": "code",
   "execution_count": null,
   "metadata": {
    "scrolled": true
   },
   "outputs": [],
   "source": [
    "cross_val_score(logreg,x_train,y_train,cv=5).mean()"
   ]
  },
  {
   "cell_type": "code",
   "execution_count": null,
   "metadata": {
    "scrolled": true
   },
   "outputs": [],
   "source": [
    "cross_val_score(logreg,x_test,y_test,cv=5).mean()"
   ]
  },
  {
   "cell_type": "markdown",
   "metadata": {},
   "source": [
    "- True Positive (TP): Outcome where the model correctly predicts the positive class.\n",
    "- True Negative (TN): Outcome where the model correctly predicts the negative class.\n",
    "- False Positive (FP): Also called a type 1 error, an outcome where the model incorrectly predicts the positive class when it is actually negative.\n",
    "- False Negative (FN): Also called a type 2 error, an outcome where the model incorrectly predicts the negative class when it is actually positive."
   ]
  },
  {
   "cell_type": "code",
   "execution_count": null,
   "metadata": {},
   "outputs": [],
   "source": [
    "# Training confusion matrix\n",
    "print(len(train_predicted))\n",
    "tn, fp, fn, tp = confusion_matrix(y_train, train_predicted).ravel()\n",
    "('TrueNegitive : {}'.format(tn), 'FalsePositive : {}'.format(fp), 'FalseNegitive : {}'.format(fn), 'TruePositive : {}'.format(tp))\n"
   ]
  },
  {
   "cell_type": "code",
   "execution_count": null,
   "metadata": {},
   "outputs": [],
   "source": [
    "print('accuracy : {}'.format(accuracy_score(y_train, train_predicted)))\n",
    "# Recall\n",
    "print('recall : {}'.format(recall_score(y_train, train_predicted)))\n",
    "# Precision\n",
    "print('precision : {}'.format(precision_score(y_train, train_predicted)))"
   ]
  },
  {
   "cell_type": "code",
   "execution_count": null,
   "metadata": {},
   "outputs": [],
   "source": [
    "# Testing confustion matrix \n",
    "print(len(test_predicted))\n",
    "tn, fp, fn, tp = confusion_matrix(y_test, test_predicted).ravel()\n",
    "('TrueNegitive : {}'.format(tn), 'FalsePositive : {}'.format(fp), 'FalseNegitive : {}'.format(fn), 'TruePositive : {}'.format(tp))"
   ]
  },
  {
   "cell_type": "code",
   "execution_count": null,
   "metadata": {},
   "outputs": [],
   "source": [
    "print('accuracy : {}'.format(accuracy_score(y_test, test_predicted)))\n",
    "# Recall\n",
    "print('recall : {}'.format(recall_score(y_test, test_predicted)))\n",
    "# Precision\n",
    "print('precision : {}'.format(precision_score(y_test, test_predicted)))"
   ]
  },
  {
   "cell_type": "code",
   "execution_count": null,
   "metadata": {},
   "outputs": [],
   "source": [
    "x.to_csv('mod.csv')"
   ]
  },
  {
   "cell_type": "code",
   "execution_count": null,
   "metadata": {},
   "outputs": [],
   "source": [
    "df.head(50)"
   ]
  },
  {
   "cell_type": "code",
   "execution_count": null,
   "metadata": {},
   "outputs": [],
   "source": [
    "x.columns"
   ]
  },
  {
   "cell_type": "code",
   "execution_count": null,
   "metadata": {},
   "outputs": [],
   "source": [
    "x.to_csv('test.csv')"
   ]
  }
 ],
 "metadata": {
  "kernelspec": {
   "display_name": "Python 3",
   "language": "python",
   "name": "python3"
  },
  "language_info": {
   "codemirror_mode": {
    "name": "ipython",
    "version": 3
   },
   "file_extension": ".py",
   "mimetype": "text/x-python",
   "name": "python",
   "nbconvert_exporter": "python",
   "pygments_lexer": "ipython3",
   "version": "3.8.5"
  }
 },
 "nbformat": 4,
 "nbformat_minor": 4
}
